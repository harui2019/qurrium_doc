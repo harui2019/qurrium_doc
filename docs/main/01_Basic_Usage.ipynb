{
 "cells": [
  {
   "attachments": {},
   "cell_type": "markdown",
   "metadata": {},
   "source": [
    "# 01 - Basic Usage of Qurry\n",
    "\n",
    "In Qurry, we use the instance of `Qurry` to store quantum circuits, experiments, build experiment, and excute them on local simulator or pending to the real quantum machine on `IBM`. In this chapter (or we say this jupyter file), we will introduce how to use Qurry to build a simple quantum circuit and measure their Renyi Entropy on local simulator.\n"
   ]
  },
  {
   "cell_type": "markdown",
   "metadata": {},
   "source": [
    "If you are using Colab, you can run the following command in terminal to install Qurry.\n",
    "\n",
    "```bash\n",
    "pip install qurrium\n",
    "```\n"
   ]
  },
  {
   "cell_type": "code",
   "execution_count": 1,
   "metadata": {},
   "outputs": [
    {
     "name": "stdout",
     "output_type": "stream",
     "text": [
      "| Current Version: 0.10.0\n"
     ]
    },
    {
     "name": "stderr",
     "output_type": "stream",
     "text": [
      "/home/harui/anaconda3/envs/quantumsphere12/lib/python3.12/site-packages/tqdm/auto.py:21: TqdmWarning: IProgress not found. Please update jupyter and ipywidgets. See https://ipywidgets.readthedocs.io/en/stable/user_install.html\n",
      "  from .autonotebook import tqdm as notebook_tqdm\n"
     ]
    }
   ],
   "source": [
    "from IPython.display import display\n",
    "from qurry import __version__\n",
    "\n",
    "print(f\"| Current Version: {__version__}\")"
   ]
  },
  {
   "attachments": {},
   "cell_type": "markdown",
   "metadata": {},
   "source": [
    "## 1.1 Setup Environment and Creat experiment executor\n"
   ]
  },
  {
   "cell_type": "code",
   "execution_count": 2,
   "metadata": {},
   "outputs": [],
   "source": [
    "from qurry import EntropyMeasure\n",
    "from qiskit import QuantumCircuit"
   ]
  },
  {
   "cell_type": "markdown",
   "metadata": {},
   "source": [
    "- Import simulator\n"
   ]
  },
  {
   "cell_type": "code",
   "execution_count": 3,
   "metadata": {},
   "outputs": [],
   "source": [
    "from qiskit.providers.basic_provider import BasicProvider\n",
    "\n",
    "basic_provider = BasicProvider()\n",
    "backend_sim = basic_provider.get_backend(\"basic_simulator\")"
   ]
  },
  {
   "attachments": {},
   "cell_type": "markdown",
   "metadata": {},
   "source": [
    "- Next, we will initialize our `EntropyMeasure` instance. There are two methods implemented based on two theories. The defaul method is `randomized` based on Randomized Measure. The other method is `hadamard` based on Hadamard Test. \n",
    "\n",
    "- In the following tutorial, we will use `randomized` as our measurement method.\n"
   ]
  },
  {
   "cell_type": "code",
   "execution_count": 4,
   "metadata": {},
   "outputs": [
    {
     "name": "stdout",
     "output_type": "stream",
     "text": [
      "| The first method is which is `Hadamard Test`\".\n",
      "| The default method is which is `Randomized Measure` we will use.\n"
     ]
    }
   ],
   "source": [
    "experiment_hadamard = EntropyMeasure(method=\"hadamard\")\n",
    "print('| The first method is which is `Hadamard Test`\".')\n",
    "experiment_randomized = EntropyMeasure()\n",
    "print(\"| The default method is which is `Randomized Measure` we will use.\")"
   ]
  },
  {
   "attachments": {},
   "cell_type": "markdown",
   "metadata": {},
   "source": [
    "---\n",
    "\n",
    "## 1.2 Load quantum circuits\n",
    "\n",
    "- In `Qurry`, there are built-in quantum circuits that construct certain wave functions, or equivalently, quantum states. They can be imported from `qurry.recipe`.\n",
    "- The user can define customized circuits following Qiskit workflow.\n",
    "\n"
   ]
  },
  {
   "cell_type": "code",
   "execution_count": 5,
   "metadata": {},
   "outputs": [],
   "source": [
    "from qurry.recipe import TrivialParamagnet, GHZ"
   ]
  },
  {
   "cell_type": "code",
   "execution_count": 6,
   "metadata": {},
   "outputs": [
    {
     "name": "stdout",
     "output_type": "stream",
     "text": [
      "| trivial paramagnet in 8 qubits:\n",
      "     ┌───┐\n",
      "q_0: ┤ H ├\n",
      "     ├───┤\n",
      "q_1: ┤ H ├\n",
      "     ├───┤\n",
      "q_2: ┤ H ├\n",
      "     ├───┤\n",
      "q_3: ┤ H ├\n",
      "     ├───┤\n",
      "q_4: ┤ H ├\n",
      "     ├───┤\n",
      "q_5: ┤ H ├\n",
      "     ├───┤\n",
      "q_6: ┤ H ├\n",
      "     ├───┤\n",
      "q_7: ┤ H ├\n",
      "     └───┘\n"
     ]
    }
   ],
   "source": [
    "sample01 = TrivialParamagnet(8)\n",
    "print(\"| trivial paramagnet in 8 qubits:\")\n",
    "print(sample01)"
   ]
  },
  {
   "cell_type": "code",
   "execution_count": 7,
   "metadata": {},
   "outputs": [
    {
     "name": "stdout",
     "output_type": "stream",
     "text": [
      "| GHZ in 8 qubits:\n",
      "     ┌───┐                                   \n",
      "q_0: ┤ H ├──■────────────────────────────────\n",
      "     └───┘┌─┴─┐                              \n",
      "q_1: ─────┤ X ├──■───────────────────────────\n",
      "          └───┘┌─┴─┐                         \n",
      "q_2: ──────────┤ X ├──■──────────────────────\n",
      "               └───┘┌─┴─┐                    \n",
      "q_3: ───────────────┤ X ├──■─────────────────\n",
      "                    └───┘┌─┴─┐               \n",
      "q_4: ────────────────────┤ X ├──■────────────\n",
      "                         └───┘┌─┴─┐          \n",
      "q_5: ─────────────────────────┤ X ├──■───────\n",
      "                              └───┘┌─┴─┐     \n",
      "q_6: ──────────────────────────────┤ X ├──■──\n",
      "                                   └───┘┌─┴─┐\n",
      "q_7: ───────────────────────────────────┤ X ├\n",
      "                                        └───┘\n"
     ]
    }
   ],
   "source": [
    "sample02 = GHZ(8)\n",
    "print(\"| GHZ in 8 qubits:\")\n",
    "print(sample02)"
   ]
  },
  {
   "cell_type": "code",
   "execution_count": 8,
   "metadata": {},
   "outputs": [
    {
     "name": "stdout",
     "output_type": "stream",
     "text": [
      "| Custom circuit:\n",
      "     ┌───┐\n",
      "q_0: ┤ X ├\n",
      "     └───┘\n",
      "q_1: ─────\n",
      "     ┌───┐\n",
      "q_2: ┤ X ├\n",
      "     └───┘\n",
      "q_3: ─────\n",
      "     ┌───┐\n",
      "q_4: ┤ X ├\n",
      "     └───┘\n",
      "q_5: ─────\n",
      "     ┌───┐\n",
      "q_6: ┤ X ├\n",
      "     └───┘\n",
      "q_7: ─────\n",
      "          \n"
     ]
    }
   ],
   "source": [
    "sample03 = QuantumCircuit(8)\n",
    "sample03.x(range(0, 8, 2))\n",
    "print(\"| Custom circuit:\")\n",
    "print(sample03)"
   ]
  },
  {
   "cell_type": "markdown",
   "metadata": {},
   "source": [
    "- After we prepare three quantum circuits, we append them to the `EntropyMeasure` object by the `.add()` method.\n",
    "- The attribute `.waves` of `Qurry` object is a customized `dict`. we can check the stored circuits by printing the dictionary."
   ]
  },
  {
   "cell_type": "code",
   "execution_count": 9,
   "metadata": {},
   "outputs": [
    {
     "name": "stdout",
     "output_type": "stream",
     "text": [
      "{'TrivialParamagnet': <qurry.recipe.simple.paramagnet.TrivialParamagnet object at 0x7a3f3026a210>, 'GHZ': <qurry.recipe.simple.cat.GHZ object at 0x7a3f301faa20>, 2: <qiskit.circuit.quantumcircuit.QuantumCircuit object at 0x7a3f300c4fe0>}\n"
     ]
    }
   ],
   "source": [
    "experiment_randomized.add(\n",
    "    wave=sample01,  # The circuit object\n",
    "    key=\"TrivialParamagnet\",  # The name of the circuit\n",
    "    replace=False,  # True for if you want to replace the circuit with the same name.\n",
    ")  # Default is False, so if you add the same name when False,\n",
    "# it will be added with serial number.\n",
    "experiment_randomized.add(sample02, \"GHZ\")\n",
    "experiment_randomized.add(sample03)\n",
    "print(experiment_randomized.waves)"
   ]
  },
  {
   "attachments": {},
   "cell_type": "markdown",
   "metadata": {},
   "source": [
    "If you do not give the name of circuit, it will be named by series number.\n",
    "\n",
    "Now, waves are loading, time to excute.\n"
   ]
  },
  {
   "attachments": {},
   "cell_type": "markdown",
   "metadata": {},
   "source": [
    "## 1.3 Excute Circuits\n"
   ]
  },
  {
   "cell_type": "markdown",
   "metadata": {},
   "source": [
    "- We can use `.measure()` method to excute the specific circuit in the `EntropyMeasure` object. The `.measure()` method  returns a hash id of this experiment and save a `Experiment` object in `EntropyMeasure`.\n",
    "- `EntropyMeasure.measure()` requires the following input parameters:\n",
    "  - wave: the name of circuit in `Qurry.waves` object\n",
    "  - times: the number of random measurements\n",
    "  - shots: the number of shots for each measurement. The default is 1024.\n"
   ]
  },
  {
   "cell_type": "code",
   "execution_count": 10,
   "metadata": {},
   "outputs": [
    {
     "data": {
      "text/plain": [
       "'e2e724f3-b5e1-479a-9c07-7c9b3725408d'"
      ]
     },
     "execution_count": 10,
     "metadata": {},
     "output_type": "execute_result"
    }
   ],
   "source": [
    "exp1 = experiment_randomized.measure(\n",
    "    wave=\"TrivialParamagnet\", times=100, shots=1024, backend=backend_sim\n",
    ")\n",
    "exp1"
   ]
  },
  {
   "cell_type": "markdown",
   "metadata": {},
   "source": [
    "- You can specify the backend by add a parameter `backend` in `measure` method, if you do not specify, it will use simulator as the default backend. Moreover, qiskit has multiple simulators, they are `QasmSimulatorPy` from `qiskit`, `AerSimulator` from `qiskit-aer`, and `AerSimulator` from `qiskit-aer-gpu`. Qurry will check the availability of these simulators and use the first available one as the default backend in following order:\n",
    "  1. `AerSimulator` from `qiskit-aer-gpu`\n",
    "  2. `AerSimulator` from `qiskit-aer`\n",
    "  3. `QasmSimulatorPy` from `qiskit`\n"
   ]
  },
  {
   "cell_type": "code",
   "execution_count": 11,
   "metadata": {},
   "outputs": [
    {
     "data": {
      "text/plain": [
       "'fe422c6a-6730-4542-be55-7b6e7f991003'"
      ]
     },
     "execution_count": 11,
     "metadata": {},
     "output_type": "execute_result"
    }
   ],
   "source": [
    "exp2 = experiment_randomized.measure(\n",
    "    wave=\"TrivialParamagnet\",\n",
    "    times=100,\n",
    "    shots=1024,\n",
    ")\n",
    "exp2"
   ]
  },
  {
   "cell_type": "markdown",
   "metadata": {},
   "source": [
    "- And we can check the attribute `.exps` of `EntropyMeasure` object, it will return the hash id of all experiments.\n"
   ]
  },
  {
   "cell_type": "code",
   "execution_count": 12,
   "metadata": {},
   "outputs": [
    {
     "name": "stdout",
     "output_type": "stream",
     "text": [
      "{'e2e724f3-b5e1-479a-9c07-7c9b3725408d': <EntropyMeasureRandomizedExperiment(exp_id=e2e724f3-b5e1-479a-9c07-7c9b3725408d, EntropyMeasureRandomizedArguments(exp_name='experiment.N_U_100.qurrent_randomized', times=100, qubits_measured=[0, 1, 2, 3, 4, 5, 6, 7], registers_mapping={0: 0, 1: 1, 2: 2, 3: 3, 4: 4, 5: 5, 6: 6, 7: 7}, actual_num_qubits=8, unitary_located=[0, 1, 2, 3, 4, 5, 6, 7], random_unitary_seeds=None), Commonparams(exp_id='e2e724f3-b5e1-479a-9c07-7c9b3725408d', target_keys=['TrivialParamagnet'], shots=1024, backend=<qiskit.providers.basic_provider.basic_simulator.BasicSimulator object at 0x7a3f301d0530>, run_args={}, transpile_args={}, tags=(), default_analysis=[], save_location=PosixPath('.'), filename='', files={}, serial=None, summoner_id=None, summoner_name=None, datetimes=DatetimeDict({'build': '2024-12-09 14:23:34', 'run.001': '2024-12-09 14:23:34'})), unused_args_num=0, analysis_num=0)>, 'fe422c6a-6730-4542-be55-7b6e7f991003': <EntropyMeasureRandomizedExperiment(exp_id=fe422c6a-6730-4542-be55-7b6e7f991003, EntropyMeasureRandomizedArguments(exp_name='experiment.N_U_100.qurrent_randomized', times=100, qubits_measured=[0, 1, 2, 3, 4, 5, 6, 7], registers_mapping={0: 0, 1: 1, 2: 2, 3: 3, 4: 4, 5: 5, 6: 6, 7: 7}, actual_num_qubits=8, unitary_located=[0, 1, 2, 3, 4, 5, 6, 7], random_unitary_seeds=None), Commonparams(exp_id='fe422c6a-6730-4542-be55-7b6e7f991003', target_keys=['TrivialParamagnet'], shots=1024, backend=<BasicSimulator('basic_simulator')>, run_args={}, transpile_args={}, tags=(), default_analysis=[], save_location=PosixPath('.'), filename='', files={}, serial=None, summoner_id=None, summoner_name=None, datetimes=DatetimeDict({'build': '2024-12-09 14:23:36', 'run.001': '2024-12-09 14:23:36'})), unused_args_num=0, analysis_num=0)>}\n"
     ]
    }
   ],
   "source": [
    "print(experiment_randomized.exps)"
   ]
  },
  {
   "cell_type": "markdown",
   "metadata": {},
   "source": [
    "- The following is the other informatiom you can access.\n"
   ]
  },
  {
   "cell_type": "code",
   "execution_count": 13,
   "metadata": {},
   "outputs": [
    {
     "data": {
      "text/plain": [
       "WaveContainer({\n",
       "  'TrivialParamagnet': <qurry.recipe.simple.paramagnet.TrivialParamagnet object at 0x7a3f3026a210>,\n",
       "  'GHZ': <qurry.recipe.simple.cat.GHZ object at 0x7a3f301faa20>,\n",
       "  2: <qiskit.circuit.quantumcircuit.QuantumCircuit object at 0x7a3f300c4fe0>})"
      ]
     },
     "execution_count": 13,
     "metadata": {},
     "output_type": "execute_result"
    }
   ],
   "source": [
    "experiment_randomized.waves"
   ]
  },
  {
   "cell_type": "code",
   "execution_count": 14,
   "metadata": {},
   "outputs": [
    {
     "data": {
      "text/plain": [
       "<EntropyMeasureRandomizedExperiment(exp_id=e2e724f3-b5e1-479a-9c07-7c9b3725408d, \n",
       "  EntropyMeasureRandomizedArguments(exp_name='experiment.N_U_100.qurrent_randomized', times=100, qubits_measured=[0, 1, 2, 3, 4, 5, 6, 7], registers_mapping={0: 0, 1: 1, 2: 2, 3: 3, 4: 4, 5: 5, 6: 6, 7: 7}, actual_num_qubits=8, unitary_located=[0, 1, 2, 3, 4, 5, 6, 7], random_unitary_seeds=None),\n",
       "  Commonparams(exp_id='e2e724f3-b5e1-479a-9c07-7c9b3725408d', target_keys=['TrivialParamagnet'], shots=1024, backend=<qiskit.providers.basic_provider.basic_simulator.BasicSimulator object at 0x7a3f301d0530>, run_args={}, transpile_args={}, tags=(), default_analysis=[], save_location=PosixPath('.'), filename='', files={}, serial=None, summoner_id=None, summoner_name=None, datetimes=DatetimeDict({'build': '2024-12-09 14:23:34', 'run.001': '2024-12-09 14:23:34'})),\n",
       "  unused_args_num=0,\n",
       "  analysis_num=0))>"
      ]
     },
     "execution_count": 14,
     "metadata": {},
     "output_type": "execute_result"
    }
   ],
   "source": [
    "experiment_randomized.exps[exp1]"
   ]
  },
  {
   "cell_type": "code",
   "execution_count": 15,
   "metadata": {},
   "outputs": [
    {
     "name": "stdout",
     "output_type": "stream",
     "text": [
      " # EntropyMeasureRandomizedExperiment with exp_id=e2e724f3-b5e1-479a-9c07-7c9b3725408d\n",
      " - arguments\n",
      "   - exp_name --------------------- experiment.N_U_100.qurrent_randomized\n",
      "   - times ------------------------ 100\n",
      "   - qubits_measured -------------- [0, 1, 2, 3, 4, 5, 6, 7]\n",
      "   - registers_mapping ------------ {0: 0, 1: 1, 2: 2, 3: 3, 4: 4, 5: 5, 6: 6, 7: 7}\n",
      "   - actual_num_qubits ------------ 8\n",
      "   - unitary_located -------------- [0, 1, 2, 3, 4, 5, 6, 7]\n",
      "   - random_unitary_seeds --------- None\n",
      " - commonparams\n",
      "   - exp_id ----------------------- e2e724f3-b5e1-479a-9c07-7c9b3725408d   # This is ID is generated by Qurry which is different from 'job_id' for pending.\n",
      "   - target_keys ------------------ ['TrivialParamagnet']\n",
      "   - shots ------------------------ 1024\n",
      "   - backend ---------------------- <qiskit.providers.basic_provider.basic_simulator.BasicSimulator object at 0x7a3f301d0530>\n",
      "   - run_args --------------------- {}\n",
      "   - transpile_args --------------- {}\n",
      "   - tags ------------------------- ()\n",
      "   - default_analysis ------------- []\n",
      "   - save_location ---------------- .\n",
      "   - filename --------------------- \n",
      "   - files ------------------------ {}\n",
      "   - serial ----------------------- None\n",
      "   - summoner_id ------------------ None\n",
      "   - summoner_name ---------------- None\n",
      "   - datetimes -------------------- {'build': '2024-12-09 14:23:34', 'run.001': '2024-12-09 14:23:34'}\n",
      " - outfields -------------------- 0 ........  # Number of unused arguments.\n",
      " - beforewards\n",
      "   - target ----------------------- 1 ........  # Number of target\n",
      "   - target_qasm ------------------ 1 ........  # Number of target_qasm\n",
      "   - circuit ---------------------- 100 ......  # Number of circuit\n",
      "   - circuit_qasm ----------------- 100 ......  # Number of circuit_qasm\n",
      "   - fig_original ----------------- 0 ........  # Number of fig_original\n",
      "   - job_id ----------------------- bc893add-5e75-40e4-8469-22f2c91fca40\n",
      "   - exp_name --------------------- experiment.N_U_100.qurrent_randomized\n",
      "   - side_product ----------------- 2 ........  # Number of side_product\n",
      " - afterwards\n",
      "   - result ----------------------- 1 ........  # Number of result\n",
      "   - counts ----------------------- 100 ......  # Number of counts\n",
      " - reports ---------------------- 0 ........  # Number of analysis.\n",
      "\n"
     ]
    }
   ],
   "source": [
    "print(experiment_randomized.exps[exp1].statesheet())"
   ]
  },
  {
   "attachments": {},
   "cell_type": "markdown",
   "metadata": {},
   "source": [
    "- Then, there is a experiment completed, and we can calculate the Renyi Entropy by `analyze`.\n"
   ]
  },
  {
   "attachments": {},
   "cell_type": "markdown",
   "metadata": {},
   "source": [
    "---\n",
    "\n",
    "## 1.4 Post-Processing\n",
    "\n",
    "- To obtain the Renyi Entropy of the whole system and the subsystems. We use `exps[].analyze()` method to calculate and store a `Analysis` object in `Experiment`.\n",
    "- The `analyze` method requires the following input parameters:\n",
    "  - degree: The size or selected qubits of the subsystem. Please refer to the following chart for the selection.\n"
   ]
  },
  {
   "cell_type": "markdown",
   "metadata": {},
   "source": [
    "### Qubit Selction Hint\n",
    "\n",
    "For example, consider a system with 12 qubits indexed as `[0, 1, ... 11]`.\n",
    "\n",
    "Entering an index and running `.analyze` will select the bitstring corresponding to the chosen qubit."
   ]
  },
  {
   "cell_type": "code",
   "execution_count": 16,
   "metadata": {},
   "outputs": [
    {
     "name": "stderr",
     "output_type": "stream",
     "text": [
      "| Preparing error mitigation of selected qubits: [3, 4] - 00:00 < 00:00\n",
      "| Preparing error mitigation of selected qubits: [0] - 00:00 < 00:00                                                          \n"
     ]
    }
   ],
   "source": [
    "exp1_report1 = experiment_randomized.exps[exp1].analyze(selected_qubits=[3, 4])\n",
    "# The subsystem of qubits 3 and 4 is selected for the analysis.\n",
    "exp1_report2 = experiment_randomized.exps[exp1].analyze(selected_qubits=[0])\n",
    "# The subsystem of qubit 0 is selected for the analysis."
   ]
  },
  {
   "cell_type": "markdown",
   "metadata": {},
   "source": [
    "- The `analyze` will return the result of this analysis.\n"
   ]
  },
  {
   "cell_type": "code",
   "execution_count": 17,
   "metadata": {},
   "outputs": [
    {
     "data": {
      "text/plain": [
       "({'purity': np.float64(0.9748982810974121),\n",
       "  'entropy': np.float64(0.03667639603724389),\n",
       "  'puritySD': np.float64(0.42819715436570643),\n",
       "  'entropySD': np.float64(0.6336639658762965),\n",
       "  'num_classical_registers': 8,\n",
       "  'classical_registers': [0],\n",
       "  'classical_registers_actually': [0],\n",
       "  'all_system_source': \"AnalysisHeader(serial=0, datetime='2024-12-09 14:23:36', summoner=None, log={})\",\n",
       "  'purityAllSys': np.float64(1.2068503570556641),\n",
       "  'entropyAllSys': np.float64(-0.27124680076759133),\n",
       "  'puritySDAllSys': np.float64(1.4692747673931916),\n",
       "  'entropySDAllSys': np.float64(1.7564028615717384),\n",
       "  'num_classical_registers_all_sys': 8,\n",
       "  'classical_registers_all_sys': None,\n",
       "  'classical_registers_actually_all_sys': [0, 1, 2, 3, 4, 5, 6, 7],\n",
       "  'errorRate': np.float64(-0.09893654727034654),\n",
       "  'mitigatedPurity': np.float64(0.8932378960188764),\n",
       "  'mitigatedEntropy': np.float64(0.16288363544357304),\n",
       "  'counts_num': 100,\n",
       "  'taking_time': 0.001397791,\n",
       "  'taking_time_all_sys': 0.019524198,\n",
       "  'counts_used': None,\n",
       "  'input': {'num_qubits': 8,\n",
       "   'selected_qubits': [0],\n",
       "   'registers_mapping': {0: 0, 1: 1, 2: 2, 3: 3, 4: 4, 5: 5, 6: 6, 7: 7},\n",
       "   'shots': 1024,\n",
       "   'unitary_located': [0, 1, 2, 3, 4, 5, 6, 7]},\n",
       "  'header': {'serial': 1,\n",
       "   'datetime': '2024-12-09 14:23:36',\n",
       "   'summoner': None,\n",
       "   'log': {}}},\n",
       " {'purityCells': {46: 0.5655117034912109,\n",
       "   52: 1.2130184173583984,\n",
       "   82: 0.5810298919677734,\n",
       "   55: 1.879476547241211,\n",
       "   59: 1.2170639038085938,\n",
       "   74: 0.5922908782958984,\n",
       "   27: 0.8662624359130859,\n",
       "   22: 0.5002803802490234,\n",
       "   25: 1.582754135131836,\n",
       "   26: 1.628021240234375,\n",
       "   21: 1.2130184173583984,\n",
       "   38: 0.757171630859375,\n",
       "   4: 1.157583236694336,\n",
       "   47: 0.5256862640380859,\n",
       "   98: 1.208984375,\n",
       "   90: 0.6287460327148438,\n",
       "   77: 1.392782211303711,\n",
       "   6: 0.59375,\n",
       "   33: 1.221120834350586,\n",
       "   32: 1.587738037109375,\n",
       "   17: 1.7747802734375,\n",
       "   70: 0.5705013275146484,\n",
       "   7: 0.5100936889648438,\n",
       "   86: 0.9327297210693359,\n",
       "   79: 1.6846065521240234,\n",
       "   85: 1.705526351928711,\n",
       "   0: 1.6382064819335938,\n",
       "   83: 1.3525619506835938,\n",
       "   1: 0.7719345092773438,\n",
       "   62: 0.5743637084960938,\n",
       "   65: 0.9422225952148438,\n",
       "   87: 0.74755859375,\n",
       "   88: 1.0534420013427734,\n",
       "   91: 1.1810665130615234,\n",
       "   94: 0.6374721527099609,\n",
       "   96: 0.5413417816162109,\n",
       "   80: 0.5070095062255859,\n",
       "   44: 1.7639999389648438,\n",
       "   29: 0.5375423431396484,\n",
       "   60: 0.8133163452148438,\n",
       "   9: 0.9171371459960938,\n",
       "   50: 1.4201107025146484,\n",
       "   97: 0.533050537109375,\n",
       "   40: 1.438558578491211,\n",
       "   41: 0.5000057220458984,\n",
       "   89: 1.330617904663086,\n",
       "   99: 0.987884521484375,\n",
       "   19: 1.291839599609375,\n",
       "   48: 0.5810298919677734,\n",
       "   11: 0.526458740234375,\n",
       "   28: 0.5783290863037109,\n",
       "   81: 1.042816162109375,\n",
       "   92: 0.5453243255615234,\n",
       "   34: 1.4618759155273438,\n",
       "   10: 0.7334823608398438,\n",
       "   42: 0.515472412109375,\n",
       "   3: 1.56787109375,\n",
       "   69: 1.885101318359375,\n",
       "   57: 1.130706787109375,\n",
       "   68: 0.526458740234375,\n",
       "   18: 0.500091552734375,\n",
       "   73: 0.6287460327148438,\n",
       "   75: 1.6846065521240234,\n",
       "   23: 0.5837764739990234,\n",
       "   31: 0.576995849609375,\n",
       "   72: 0.599700927734375,\n",
       "   84: 0.8897914886474609,\n",
       "   15: 0.67724609375,\n",
       "   51: 1.287588119506836,\n",
       "   43: 0.5048122406005859,\n",
       "   56: 0.8323421478271484,\n",
       "   49: 1.6587142944335938,\n",
       "   61: 0.5357112884521484,\n",
       "   54: 0.9422225952148438,\n",
       "   71: 0.500091552734375,\n",
       "   24: 1.0641708374023438,\n",
       "   35: 1.330617904663086,\n",
       "   5: 1.018423080444336,\n",
       "   16: 0.5192489624023438,\n",
       "   30: 1.397308349609375,\n",
       "   8: 0.8808822631835938,\n",
       "   78: 1.3393611907958984,\n",
       "   53: 0.7547512054443359,\n",
       "   13: 0.8808822631835938,\n",
       "   20: 1.0570068359375,\n",
       "   39: 1.8682613372802734,\n",
       "   2: 0.5823974609375,\n",
       "   58: 0.5078334808349609,\n",
       "   14: 0.5011215209960938,\n",
       "   63: 0.8323421478271484,\n",
       "   64: 0.5143051147460938,\n",
       "   12: 0.5865688323974609,\n",
       "   66: 1.7213363647460938,\n",
       "   67: 0.7357997894287109,\n",
       "   76: 1.1156005859375,\n",
       "   93: 0.6073970794677734,\n",
       "   36: 1.291839599609375,\n",
       "   37: 1.5629329681396484,\n",
       "   45: 1.2498397827148438,\n",
       "   95: 0.5004634857177734},\n",
       "  'purityCellsAllSys': {6: 0.7495632171630859,\n",
       "   57: 0.6737747192382812,\n",
       "   39: 0.6912269592285156,\n",
       "   21: 3.2919654846191406,\n",
       "   31: 0.5386772155761719,\n",
       "   54: 0.5643520355224609,\n",
       "   18: 0.5263748168945312,\n",
       "   29: 0.3087596893310547,\n",
       "   14: 0.6363811492919922,\n",
       "   53: 1.650259017944336,\n",
       "   60: 0.2552757263183594,\n",
       "   84: 1.71429443359375,\n",
       "   22: 0.597808837890625,\n",
       "   66: 1.4681720733642578,\n",
       "   85: 3.0627517700195312,\n",
       "   95: 0.26857948303222656,\n",
       "   16: 0.27890777587890625,\n",
       "   23: 0.2729969024658203,\n",
       "   37: 0.7096176147460938,\n",
       "   73: 0.38617897033691406,\n",
       "   92: 0.4823951721191406,\n",
       "   68: 0.7324199676513672,\n",
       "   48: 0.5061416625976562,\n",
       "   5: 1.3973503112792969,\n",
       "   82: 0.32420921325683594,\n",
       "   52: 0.5681056976318359,\n",
       "   90: 0.4061145782470703,\n",
       "   65: 0.5351982116699219,\n",
       "   26: 0.7357387542724609,\n",
       "   70: 0.2572040557861328,\n",
       "   45: 0.4590778350830078,\n",
       "   47: 0.6106891632080078,\n",
       "   51: 2.9148941040039062,\n",
       "   87: 1.6678543090820312,\n",
       "   56: 1.61029052734375,\n",
       "   7: 0.6199760437011719,\n",
       "   91: 0.3966331481933594,\n",
       "   99: 0.48082733154296875,\n",
       "   30: 1.2944564819335938,\n",
       "   3: 2.3523426055908203,\n",
       "   0: 0.9853744506835938,\n",
       "   4: 0.5766372680664062,\n",
       "   19: 3.7903213500976562,\n",
       "   17: 0.6646881103515625,\n",
       "   24: 3.253376007080078,\n",
       "   69: 1.5570297241210938,\n",
       "   46: 0.2951698303222656,\n",
       "   71: 1.4566478729248047,\n",
       "   75: 1.1708602905273438,\n",
       "   11: 0.34726905822753906,\n",
       "   1: 0.3620147705078125,\n",
       "   9: 3.427183151245117,\n",
       "   43: 2.213010787963867,\n",
       "   44: 0.29339599609375,\n",
       "   55: 0.3894233703613281,\n",
       "   62: 0.3699626922607422,\n",
       "   10: 1.823202133178711,\n",
       "   34: 0.9849338531494141,\n",
       "   78: 0.4359779357910156,\n",
       "   2: 0.39337158203125,\n",
       "   8: 1.2024345397949219,\n",
       "   72: 0.5641918182373047,\n",
       "   79: 1.1048107147216797,\n",
       "   33: 0.95660400390625,\n",
       "   59: 1.0275001525878906,\n",
       "   80: 1.907196044921875,\n",
       "   88: 12.128612518310547,\n",
       "   89: 0.9418525695800781,\n",
       "   94: 0.43616676330566406,\n",
       "   96: 0.30269432067871094,\n",
       "   98: 2.774005889892578,\n",
       "   93: 0.8527488708496094,\n",
       "   15: 1.0139732360839844,\n",
       "   63: 1.3218536376953125,\n",
       "   38: 0.6417198181152344,\n",
       "   42: 0.4038200378417969,\n",
       "   50: 0.28199195861816406,\n",
       "   64: 0.2571983337402344,\n",
       "   12: 0.26615333557128906,\n",
       "   32: 2.960865020751953,\n",
       "   81: 3.057910919189453,\n",
       "   35: 1.1178970336914062,\n",
       "   25: 2.1469898223876953,\n",
       "   36: 2.492727279663086,\n",
       "   40: 0.4814796447753906,\n",
       "   67: 2.402667999267578,\n",
       "   77: 0.8324928283691406,\n",
       "   97: 0.4703960418701172,\n",
       "   20: 2.4508819580078125,\n",
       "   41: 0.2906665802001953,\n",
       "   61: 0.4998760223388672,\n",
       "   49: 5.535053253173828,\n",
       "   13: 0.7919063568115234,\n",
       "   27: 0.8499851226806641,\n",
       "   83: 0.6953411102294922,\n",
       "   74: 0.8312282562255859,\n",
       "   28: 1.3429222106933594,\n",
       "   58: 0.4253807067871094,\n",
       "   76: 0.44733619689941406,\n",
       "   86: 0.3878154754638672}})"
      ]
     },
     "execution_count": 17,
     "metadata": {},
     "output_type": "execute_result"
    }
   ],
   "source": [
    "exp1_report2.export()"
   ]
  },
  {
   "cell_type": "code",
   "execution_count": 18,
   "metadata": {},
   "outputs": [
    {
     "name": "stdout",
     "output_type": "stream",
     "text": [
      "EntropyMeasureRandomizedAnalysis with serial=0, AnalysisInput(num_qubits=8, selected_qubits=[3, 4], registers_mapping={0: 0, 1: 1, 2: 2, 3: 3, 4: 4, 5: 5, 6: 6, 7: 7}, shots=1024, unitary_located=[0, 1, 2, 3, 4, 5, 6, 7]), AnalysisContent(purity=1.0587331390380859, entropy=-0.08233899395432488, and others), 0 unused arguments\n",
      "AnalysisHeader(serial=0, datetime='2024-12-09 14:23:36', summoner=None, log={})\n"
     ]
    }
   ],
   "source": [
    "print(exp1_report1)\n",
    "print(exp1_report1.header)"
   ]
  },
  {
   "cell_type": "markdown",
   "metadata": {},
   "source": [
    "- It can also be found in the attribute `.reports` of `Experiment` object.\n"
   ]
  },
  {
   "cell_type": "code",
   "execution_count": 19,
   "metadata": {},
   "outputs": [
    {
     "name": "stdout",
     "output_type": "stream",
     "text": [
      "AnalysisContainer(length=2, {0{...}, 1{...}})\n",
      "EntropyMeasureRandomizedAnalysis with serial=0, AnalysisInput(num_qubits=8, selected_qubits=[3, 4], registers_mapping={0: 0, 1: 1, 2: 2, 3: 3, 4: 4, 5: 5, 6: 6, 7: 7}, shots=1024, unitary_located=[0, 1, 2, 3, 4, 5, 6, 7]), AnalysisContent(purity=1.0587331390380859, entropy=-0.08233899395432488, and others), 0 unused arguments\n",
      "AnalysisHeader(serial=0, datetime='2024-12-09 14:23:36', summoner=None, log={})\n"
     ]
    }
   ],
   "source": [
    "print(experiment_randomized.exps[exp1].reports)\n",
    "print(experiment_randomized.exps[exp1].reports[0])\n",
    "print(experiment_randomized.exps[exp1].reports[0].header)"
   ]
  },
  {
   "cell_type": "markdown",
   "metadata": {},
   "source": [
    "- We can use `.export()` to get the result of this analysis.\n"
   ]
  },
  {
   "cell_type": "code",
   "execution_count": 20,
   "metadata": {},
   "outputs": [],
   "source": [
    "main, side_prodct = experiment_randomized.exps[exp1].reports[0].export()"
   ]
  },
  {
   "attachments": {},
   "cell_type": "markdown",
   "metadata": {},
   "source": [
    "- And there is it\n"
   ]
  },
  {
   "cell_type": "code",
   "execution_count": 21,
   "metadata": {},
   "outputs": [
    {
     "data": {
      "text/plain": [
       "{'purity': np.float64(1.0587331390380859),\n",
       " 'entropy': np.float64(-0.08233899395432488),\n",
       " 'puritySD': np.float64(0.7521095061924191),\n",
       " 'entropySD': np.float64(1.024870776950543),\n",
       " 'num_classical_registers': 8,\n",
       " 'classical_registers': [3, 4],\n",
       " 'classical_registers_actually': [3, 4],\n",
       " 'all_system_source': 'independent',\n",
       " 'purityAllSys': np.float64(1.2068503570556641),\n",
       " 'entropyAllSys': np.float64(-0.27124680076759133),\n",
       " 'puritySDAllSys': np.float64(1.4692747673931916),\n",
       " 'entropySDAllSys': np.float64(1.7564028615717384),\n",
       " 'num_classical_registers_all_sys': 8,\n",
       " 'classical_registers_all_sys': None,\n",
       " 'classical_registers_actually_all_sys': [0, 1, 2, 3, 4, 5, 6, 7],\n",
       " 'errorRate': np.float64(-0.09893654727034654),\n",
       " 'mitigatedPurity': np.float64(0.9196687073728206),\n",
       " 'mitigatedEntropy': np.float64(0.12081384274684406),\n",
       " 'counts_num': 100,\n",
       " 'taking_time': 0.001110913,\n",
       " 'taking_time_all_sys': 0.019524198,\n",
       " 'counts_used': None,\n",
       " 'input': {'num_qubits': 8,\n",
       "  'selected_qubits': [3, 4],\n",
       "  'registers_mapping': {0: 0, 1: 1, 2: 2, 3: 3, 4: 4, 5: 5, 6: 6, 7: 7},\n",
       "  'shots': 1024,\n",
       "  'unitary_located': [0, 1, 2, 3, 4, 5, 6, 7]},\n",
       " 'header': {'serial': 0,\n",
       "  'datetime': '2024-12-09 14:23:36',\n",
       "  'summoner': None,\n",
       "  'log': {}}}"
      ]
     },
     "execution_count": 21,
     "metadata": {},
     "output_type": "execute_result"
    }
   ],
   "source": [
    "main"
   ]
  },
  {
   "attachments": {},
   "cell_type": "markdown",
   "metadata": {},
   "source": [
    "- Also, `sideProdct` will record the data of each circuit, and you can use it to do more analysis.\n"
   ]
  },
  {
   "cell_type": "code",
   "execution_count": 22,
   "metadata": {},
   "outputs": [
    {
     "data": {
      "text/plain": [
       "{'purityCells': {61: 1.2111549377441406,\n",
       "  50: 0.32209205627441406,\n",
       "  44: 0.3797760009765625,\n",
       "  70: 0.2613182067871094,\n",
       "  35: 0.47393798828125,\n",
       "  58: 0.7015953063964844,\n",
       "  18: 1.1573734283447266,\n",
       "  4: 1.1942806243896484,\n",
       "  20: 1.4656600952148438,\n",
       "  30: 0.8432960510253906,\n",
       "  41: 0.44956207275390625,\n",
       "  17: 1.0634574890136719,\n",
       "  22: 1.079324722290039,\n",
       "  65: 0.5963325500488281,\n",
       "  23: 0.5790805816650391,\n",
       "  1: 0.4315605163574219,\n",
       "  68: 0.35285377502441406,\n",
       "  14: 1.228464126586914,\n",
       "  33: 0.4017486572265625,\n",
       "  74: 1.6256542205810547,\n",
       "  47: 0.7844734191894531,\n",
       "  46: 0.8800086975097656,\n",
       "  34: 0.4720497131347656,\n",
       "  78: 0.9330635070800781,\n",
       "  80: 1.9316177368164062,\n",
       "  6: 0.6825065612792969,\n",
       "  76: 0.3419189453125,\n",
       "  81: 0.5657768249511719,\n",
       "  89: 1.3995018005371094,\n",
       "  29: 0.30428504943847656,\n",
       "  92: 2.554250717163086,\n",
       "  93: 2.5583534240722656,\n",
       "  97: 1.852487564086914,\n",
       "  36: 0.5589103698730469,\n",
       "  12: 0.4041404724121094,\n",
       "  43: 0.8158187866210938,\n",
       "  96: 0.5179290771484375,\n",
       "  98: 1.039093017578125,\n",
       "  99: 0.6634178161621094,\n",
       "  57: 0.6997184753417969,\n",
       "  60: 0.41532135009765625,\n",
       "  27: 0.3688011169433594,\n",
       "  64: 0.5340538024902344,\n",
       "  24: 3.7809715270996094,\n",
       "  88: 2.6421356201171875,\n",
       "  26: 0.7273273468017578,\n",
       "  13: 0.4863319396972656,\n",
       "  38: 0.9904556274414062,\n",
       "  15: 1.512420654296875,\n",
       "  19: 1.0662899017333984,\n",
       "  25: 2.6233673095703125,\n",
       "  37: 1.2861709594726562,\n",
       "  31: 0.9864101409912109,\n",
       "  69: 1.7961196899414062,\n",
       "  53: 1.3882007598876953,\n",
       "  90: 1.0443687438964844,\n",
       "  72: 0.36736488342285156,\n",
       "  54: 0.6007671356201172,\n",
       "  59: 1.5783214569091797,\n",
       "  66: 1.1475944519042969,\n",
       "  11: 2.5050926208496094,\n",
       "  8: 0.8721294403076172,\n",
       "  16: 0.3963184356689453,\n",
       "  55: 0.3603839874267578,\n",
       "  49: 0.9175052642822266,\n",
       "  71: 1.7011051177978516,\n",
       "  86: 0.9416007995605469,\n",
       "  7: 1.4330558776855469,\n",
       "  21: 1.0789012908935547,\n",
       "  73: 0.4389190673828125,\n",
       "  67: 1.8775787353515625,\n",
       "  3: 2.545473098754883,\n",
       "  5: 0.66546630859375,\n",
       "  63: 0.8047752380371094,\n",
       "  79: 0.8753738403320312,\n",
       "  87: 1.66302490234375,\n",
       "  83: 0.28792572021484375,\n",
       "  45: 1.1356067657470703,\n",
       "  95: 0.5499839782714844,\n",
       "  52: 0.2871417999267578,\n",
       "  2: 0.48502159118652344,\n",
       "  84: 0.9827594757080078,\n",
       "  39: 0.7171707153320312,\n",
       "  77: 0.5155200958251953,\n",
       "  48: 0.7593421936035156,\n",
       "  10: 0.841522216796875,\n",
       "  0: 0.6265106201171875,\n",
       "  42: 0.4205169677734375,\n",
       "  40: 1.5273094177246094,\n",
       "  62: 0.7139320373535156,\n",
       "  94: 0.5978431701660156,\n",
       "  75: 3.6406784057617188,\n",
       "  85: 0.381744384765625,\n",
       "  56: 0.49975013732910156,\n",
       "  9: 3.1613025665283203,\n",
       "  82: 0.958251953125,\n",
       "  28: 2.3817481994628906,\n",
       "  32: 1.8817672729492188,\n",
       "  91: 0.35970306396484375,\n",
       "  51: 1.9629173278808594},\n",
       " 'purityCellsAllSys': {6: 0.7495632171630859,\n",
       "  57: 0.6737747192382812,\n",
       "  39: 0.6912269592285156,\n",
       "  21: 3.2919654846191406,\n",
       "  31: 0.5386772155761719,\n",
       "  54: 0.5643520355224609,\n",
       "  18: 0.5263748168945312,\n",
       "  29: 0.3087596893310547,\n",
       "  14: 0.6363811492919922,\n",
       "  53: 1.650259017944336,\n",
       "  60: 0.2552757263183594,\n",
       "  84: 1.71429443359375,\n",
       "  22: 0.597808837890625,\n",
       "  66: 1.4681720733642578,\n",
       "  85: 3.0627517700195312,\n",
       "  95: 0.26857948303222656,\n",
       "  16: 0.27890777587890625,\n",
       "  23: 0.2729969024658203,\n",
       "  37: 0.7096176147460938,\n",
       "  73: 0.38617897033691406,\n",
       "  92: 0.4823951721191406,\n",
       "  68: 0.7324199676513672,\n",
       "  48: 0.5061416625976562,\n",
       "  5: 1.3973503112792969,\n",
       "  82: 0.32420921325683594,\n",
       "  52: 0.5681056976318359,\n",
       "  90: 0.4061145782470703,\n",
       "  65: 0.5351982116699219,\n",
       "  26: 0.7357387542724609,\n",
       "  70: 0.2572040557861328,\n",
       "  45: 0.4590778350830078,\n",
       "  47: 0.6106891632080078,\n",
       "  51: 2.9148941040039062,\n",
       "  87: 1.6678543090820312,\n",
       "  56: 1.61029052734375,\n",
       "  7: 0.6199760437011719,\n",
       "  91: 0.3966331481933594,\n",
       "  99: 0.48082733154296875,\n",
       "  30: 1.2944564819335938,\n",
       "  3: 2.3523426055908203,\n",
       "  0: 0.9853744506835938,\n",
       "  4: 0.5766372680664062,\n",
       "  19: 3.7903213500976562,\n",
       "  17: 0.6646881103515625,\n",
       "  24: 3.253376007080078,\n",
       "  69: 1.5570297241210938,\n",
       "  46: 0.2951698303222656,\n",
       "  71: 1.4566478729248047,\n",
       "  75: 1.1708602905273438,\n",
       "  11: 0.34726905822753906,\n",
       "  1: 0.3620147705078125,\n",
       "  9: 3.427183151245117,\n",
       "  43: 2.213010787963867,\n",
       "  44: 0.29339599609375,\n",
       "  55: 0.3894233703613281,\n",
       "  62: 0.3699626922607422,\n",
       "  10: 1.823202133178711,\n",
       "  34: 0.9849338531494141,\n",
       "  78: 0.4359779357910156,\n",
       "  2: 0.39337158203125,\n",
       "  8: 1.2024345397949219,\n",
       "  72: 0.5641918182373047,\n",
       "  79: 1.1048107147216797,\n",
       "  33: 0.95660400390625,\n",
       "  59: 1.0275001525878906,\n",
       "  80: 1.907196044921875,\n",
       "  88: 12.128612518310547,\n",
       "  89: 0.9418525695800781,\n",
       "  94: 0.43616676330566406,\n",
       "  96: 0.30269432067871094,\n",
       "  98: 2.774005889892578,\n",
       "  93: 0.8527488708496094,\n",
       "  15: 1.0139732360839844,\n",
       "  63: 1.3218536376953125,\n",
       "  38: 0.6417198181152344,\n",
       "  42: 0.4038200378417969,\n",
       "  50: 0.28199195861816406,\n",
       "  64: 0.2571983337402344,\n",
       "  12: 0.26615333557128906,\n",
       "  32: 2.960865020751953,\n",
       "  81: 3.057910919189453,\n",
       "  35: 1.1178970336914062,\n",
       "  25: 2.1469898223876953,\n",
       "  36: 2.492727279663086,\n",
       "  40: 0.4814796447753906,\n",
       "  67: 2.402667999267578,\n",
       "  77: 0.8324928283691406,\n",
       "  97: 0.4703960418701172,\n",
       "  20: 2.4508819580078125,\n",
       "  41: 0.2906665802001953,\n",
       "  61: 0.4998760223388672,\n",
       "  49: 5.535053253173828,\n",
       "  13: 0.7919063568115234,\n",
       "  27: 0.8499851226806641,\n",
       "  83: 0.6953411102294922,\n",
       "  74: 0.8312282562255859,\n",
       "  28: 1.3429222106933594,\n",
       "  58: 0.4253807067871094,\n",
       "  76: 0.44733619689941406,\n",
       "  86: 0.3878154754638672}}"
      ]
     },
     "execution_count": 22,
     "metadata": {},
     "output_type": "execute_result"
    }
   ],
   "source": [
    "side_prodct"
   ]
  },
  {
   "cell_type": "code",
   "execution_count": 23,
   "metadata": {},
   "outputs": [
    {
     "data": {
      "text/plain": [
       " # EntropyMeasureRandomizedAnalysis with serial=0\n",
       " - header\n",
       "   - serial -------------------------------------- 0\n",
       "   - datetime ------------------------------------ 2024-12-09 14:23:36\n",
       "   - summoner ------------------------------------ None\n",
       "   - log ----------------------------------------- {}\n",
       " - input\n",
       "   - num_qubits ---------------------------------- 8\n",
       "   - selected_qubits ----------------------------- [3, 4]\n",
       "   - registers_mapping --------------------------- {0: 0, 1: 1, 2: 2, 3: 3, 4: 4, 5: 5, 6: 6, 7: 7}\n",
       "   - shots --------------------------------------- 1024\n",
       "   - unitary_located ----------------------------- [0, 1, 2, 3, 4, 5, 6, 7]\n",
       " - outfields ----------------------------------- 0 ........  # Number of unused arguments.\n",
       " - content\n",
       "   - purity -------------------------------------- 1.0587331390380859\n",
       "   - entropy ------------------------------------- -0.08233899395432488\n",
       "   - puritySD ------------------------------------ 0.7521095061924191\n",
       "   - entropySD ----------------------------------- 1.024870776950543\n",
       "   - purityCells --------------------------------- {61: 1.2111549377441406, 50: 0.32209205627441406, 44: 0.3797760009765625, 70: 0.2613182067871094, 35: 0.47393798828125, 58: 0.7015953063964844, 18: 1.1573734283447266, 4: 1.1942806243896484, 20: 1.4656600952148438, 30: 0.8432960510253906, 41: 0.44956207275390625, 17: 1.0634574890136719, 22: 1.079324722290039, 65: 0.5963325500488281, 23: 0.5790805816650391, 1: 0.4315605163574219, 68: 0.35285377502441406, 14: 1.228464126586914, 33: 0.4017486572265625, 74: 1.6256542205810547, 47: 0.7844734191894531, 46: 0.8800086975097656, 34: 0.4720497131347656, 78: 0.9330635070800781, 80: 1.9316177368164062, 6: 0.6825065612792969, 76: 0.3419189453125, 81: 0.5657768249511719, 89: 1.3995018005371094, 29: 0.30428504943847656, 92: 2.554250717163086, 93: 2.5583534240722656, 97: 1.852487564086914, 36: 0.5589103698730469, 12: 0.4041404724121094, 43: 0.8158187866210938, 96: 0.5179290771484375, 98: 1.039093017578125, 99: 0.6634178161621094, 57: 0.6997184753417969, 60: 0.41532135009765625, 27: 0.3688011169433594, 64: 0.5340538024902344, 24: 3.7809715270996094, 88: 2.6421356201171875, 26: 0.7273273468017578, 13: 0.4863319396972656, 38: 0.9904556274414062, 15: 1.512420654296875, 19: 1.0662899017333984, 25: 2.6233673095703125, 37: 1.2861709594726562, 31: 0.9864101409912109, 69: 1.7961196899414062, 53: 1.3882007598876953, 90: 1.0443687438964844, 72: 0.36736488342285156, 54: 0.6007671356201172, 59: 1.5783214569091797, 66: 1.1475944519042969, 11: 2.5050926208496094, 8: 0.8721294403076172, 16: 0.3963184356689453, 55: 0.3603839874267578, 49: 0.9175052642822266, 71: 1.7011051177978516, 86: 0.9416007995605469, 7: 1.4330558776855469, 21: 1.0789012908935547, 73: 0.4389190673828125, 67: 1.8775787353515625, 3: 2.545473098754883, 5: 0.66546630859375, 63: 0.8047752380371094, 79: 0.8753738403320312, 87: 1.66302490234375, 83: 0.28792572021484375, 45: 1.1356067657470703, 95: 0.5499839782714844, 52: 0.2871417999267578, 2: 0.48502159118652344, 84: 0.9827594757080078, 39: 0.7171707153320312, 77: 0.5155200958251953,...\n",
       "   - num_classical_registers --------------------- 8\n",
       "   - classical_registers ------------------------- [3, 4]\n",
       "   - classical_registers_actually ---------------- [3, 4]\n",
       "   - all_system_source --------------------------- independent\n",
       "   - purityAllSys -------------------------------- 1.2068503570556641\n",
       "   - entropyAllSys ------------------------------- -0.27124680076759133\n",
       "   - puritySDAllSys ------------------------------ 1.4692747673931916\n",
       "   - entropySDAllSys ----------------------------- 1.7564028615717384\n",
       "   - purityCellsAllSys --------------------------- {6: 0.7495632171630859, 57: 0.6737747192382812, 39: 0.6912269592285156, 21: 3.2919654846191406, 31: 0.5386772155761719, 54: 0.5643520355224609, 18: 0.5263748168945312, 29: 0.3087596893310547, 14: 0.6363811492919922, 53: 1.650259017944336, 60: 0.2552757263183594, 84: 1.71429443359375, 22: 0.597808837890625, 66: 1.4681720733642578, 85: 3.0627517700195312, 95: 0.26857948303222656, 16: 0.27890777587890625, 23: 0.2729969024658203, 37: 0.7096176147460938, 73: 0.38617897033691406, 92: 0.4823951721191406, 68: 0.7324199676513672, 48: 0.5061416625976562, 5: 1.3973503112792969, 82: 0.32420921325683594, 52: 0.5681056976318359, 90: 0.4061145782470703, 65: 0.5351982116699219, 26: 0.7357387542724609, 70: 0.2572040557861328, 45: 0.4590778350830078, 47: 0.6106891632080078, 51: 2.9148941040039062, 87: 1.6678543090820312, 56: 1.61029052734375, 7: 0.6199760437011719, 91: 0.3966331481933594, 99: 0.48082733154296875, 30: 1.2944564819335938, 3: 2.3523426055908203, 0: 0.9853744506835938, 4: 0.5766372680664062, 19: 3.7903213500976562, 17: 0.6646881103515625, 24: 3.253376007080078, 69: 1.5570297241210938, 46: 0.2951698303222656, 71: 1.4566478729248047, 75: 1.1708602905273438, 11: 0.34726905822753906, 1: 0.3620147705078125, 9: 3.427183151245117, 43: 2.213010787963867, 44: 0.29339599609375, 55: 0.3894233703613281, 62: 0.3699626922607422, 10: 1.823202133178711, 34: 0.9849338531494141, 78: 0.4359779357910156, 2: 0.39337158203125, 8: 1.2024345397949219, 72: 0.5641918182373047, 79: 1.1048107147216797, 33: 0.95660400390625, 59: 1.0275001525878906, 80: 1.907196044921875, 88: 12.128612518310547, 89: 0.9418525695800781, 94: 0.43616676330566406, 96: 0.30269432067871094, 98: 2.774005889892578, 93: 0.8527488708496094, 15: 1.0139732360839844, 63: 1.3218536376953125, 38: 0.6417198181152344, 42: 0.4038200378417969, 50: 0.28199195861816406, 64: 0.2571983337402344, 12: 0.26615333557128906, 32: 2.960865020751953, 81: 3.057910919189453, 35: 1.1178970336914062, 25: 2.1469898223876953, 36: 2.492727279663086, 40: ...\n",
       "   - num_classical_registers_all_sys ------------- 8\n",
       "   - classical_registers_all_sys ----------------- None\n",
       "   - classical_registers_actually_all_sys -------- [0, 1, 2, 3, 4, 5, 6, 7]\n",
       "   - errorRate ----------------------------------- -0.09893654727034654\n",
       "   - mitigatedPurity ----------------------------- 0.9196687073728206\n",
       "   - mitigatedEntropy ---------------------------- 0.12081384274684406\n",
       "   - counts_num ---------------------------------- 100\n",
       "   - taking_time --------------------------------- 0.001110913\n",
       "   - taking_time_all_sys ------------------------- 0.019524198\n",
       "   - counts_used --------------------------------- None\n",
       "by <QurryAnalysisSheet>"
      ]
     },
     "execution_count": 23,
     "metadata": {},
     "output_type": "execute_result"
    }
   ],
   "source": [
    "experiment_randomized.exps[exp1].reports[0].statesheet()"
   ]
  },
  {
   "cell_type": "markdown",
   "metadata": {},
   "source": [
    "---\n",
    "\n",
    "## 1.5 Export Current Result\n",
    "\n",
    "Also, Qurry provides a method to export all results as multiple files in a folder.\n",
    "Just use the method `write` of each `Experiment` instance."
   ]
  },
  {
   "cell_type": "code",
   "execution_count": 24,
   "metadata": {},
   "outputs": [
    {
     "data": {
      "text/plain": [
       "('e2e724f3-b5e1-479a-9c07-7c9b3725408d',\n",
       " {'folder': 'experiment.N_U_100.qurrent_randomized.001',\n",
       "  'qurryinfo': 'experiment.N_U_100.qurrent_randomized.001/qurryinfo.json',\n",
       "  'args': 'experiment.N_U_100.qurrent_randomized.001/args/experiment.N_U_100.qurrent_randomized.001.id=e2e724f3-b5e1-479a-9c07-7c9b3725408d.args.json',\n",
       "  'advent': 'experiment.N_U_100.qurrent_randomized.001/advent/experiment.N_U_100.qurrent_randomized.001.id=e2e724f3-b5e1-479a-9c07-7c9b3725408d.advent.json',\n",
       "  'legacy': 'experiment.N_U_100.qurrent_randomized.001/legacy/experiment.N_U_100.qurrent_randomized.001.id=e2e724f3-b5e1-479a-9c07-7c9b3725408d.legacy.json',\n",
       "  'tales.unitaryOP': 'experiment.N_U_100.qurrent_randomized.001/tales/experiment.N_U_100.qurrent_randomized.001.id=e2e724f3-b5e1-479a-9c07-7c9b3725408d.unitaryOP.json',\n",
       "  'tales.randomized': 'experiment.N_U_100.qurrent_randomized.001/tales/experiment.N_U_100.qurrent_randomized.001.id=e2e724f3-b5e1-479a-9c07-7c9b3725408d.randomized.json',\n",
       "  'reports': 'experiment.N_U_100.qurrent_randomized.001/reports/experiment.N_U_100.qurrent_randomized.001.id=e2e724f3-b5e1-479a-9c07-7c9b3725408d.reports.json',\n",
       "  'reports.tales.purityCells': 'experiment.N_U_100.qurrent_randomized.001/tales/experiment.N_U_100.qurrent_randomized.001.id=e2e724f3-b5e1-479a-9c07-7c9b3725408d.purityCells.reports.json',\n",
       "  'reports.tales.purityCellsAllSys': 'experiment.N_U_100.qurrent_randomized.001/tales/experiment.N_U_100.qurrent_randomized.001.id=e2e724f3-b5e1-479a-9c07-7c9b3725408d.purityCellsAllSys.reports.json'})"
      ]
     },
     "execution_count": 24,
     "metadata": {},
     "output_type": "execute_result"
    }
   ],
   "source": [
    "experiment_randomized.exps[exp1].write()"
   ]
  },
  {
   "cell_type": "markdown",
   "metadata": {},
   "source": [
    "---\n",
    "\n",
    "## Post-Process Availablities and Version Info\n",
    "\n",
    "We currently do not support Qsikit 1.0 for we are working on it, and we will support it in the future.\n"
   ]
  },
  {
   "cell_type": "code",
   "execution_count": 25,
   "metadata": {},
   "outputs": [
    {
     "name": "stdout",
     "output_type": "stream",
     "text": [
      " | Qurry version: 0.10.0\n",
      "--------------------------------------------------------\n",
      " ### Qurry Post-Processing\n",
      "   - Backend Availability ................... Python Cython Rust  \n",
      " - randomized_measure\n",
      "   - entangled_entropy.entropy_core_2 ....... Yes    Depr.  Yes   \n",
      "   - entangle_entropy.purity_cell_2 ......... Yes    Depr.  Yes   \n",
      "   - wavefunction_overlap.echo_core_2 ....... Yes    Depr.  Yes   \n",
      "   - wavefunction_overlap.echo_cell_2 ....... Yes    Depr.  Error \n",
      " - utils\n",
      "   - randomized ............................. Yes    Depr.  Yes   \n",
      "   - construct .............................. Yes    No     Yes   \n",
      "   - dummy .................................. Yes    No     Yes   \n",
      "   - test ................................... Yes    No     Yes   \n",
      " - hadamard_test\n",
      "   - purity_echo_core ....................... Yes    No     Yes   \n",
      " - magnet_square\n",
      "   - magnsq_core ............................ Yes    No     No    \n",
      "--------------------------------------------------------\n",
      "   + Yes ...... Working normally.\n",
      "   + Error .... Exception occurred.\n",
      "   + No ....... Not supported.\n",
      "   + Depr. .... Deprecated.\n",
      "--------------------------------------------------------\n",
      "\n"
     ]
    }
   ],
   "source": [
    "from qurry.process import AVAIBILITY_STATESHEET\n",
    "\n",
    "print(AVAIBILITY_STATESHEET)"
   ]
  },
  {
   "cell_type": "code",
   "execution_count": 26,
   "metadata": {},
   "outputs": [
    {
     "name": "stdout",
     "output_type": "stream",
     "text": [
      " | Qurry version: 0.10.0\n",
      "--------------------------------------------\n",
      " ### Qiskit version\n",
      " - main\n",
      " - deprecated\n",
      " - into-community\n",
      "--------------------------------------------\n",
      "\n"
     ]
    }
   ],
   "source": [
    "from qurry.tools.qiskit_version import QISKIT_VERSION_STATESHEET\n",
    "\n",
    "print(QISKIT_VERSION_STATESHEET)"
   ]
  }
 ],
 "metadata": {
  "kernelspec": {
   "display_name": "quantumsphere12",
   "language": "python",
   "name": "python3"
  },
  "language_info": {
   "codemirror_mode": {
    "name": "ipython",
    "version": 3
   },
   "file_extension": ".py",
   "mimetype": "text/x-python",
   "name": "python",
   "nbconvert_exporter": "python",
   "pygments_lexer": "ipython3",
   "version": "3.12.7"
  }
 },
 "nbformat": 4,
 "nbformat_minor": 4
}
