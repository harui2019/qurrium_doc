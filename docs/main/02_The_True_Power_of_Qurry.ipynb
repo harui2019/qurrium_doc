{
 "cells": [
  {
   "cell_type": "markdown",
   "metadata": {},
   "source": [
    "## 02 - The True Power of Qurry\n",
    "\n",
    "In the previous section, we have learned how to use the basic function of Qurry. In this section, we will learn that Qurry provides a more advanced approach, where the true power of Qurry lies.\n"
   ]
  },
  {
   "cell_type": "code",
   "execution_count": 1,
   "metadata": {},
   "outputs": [],
   "source": [
    "from qurry import EntropyMeasure, BackendManager\n",
    "from qiskit import QuantumRegister, ClassicalRegister, QuantumCircuit\n",
    "from pathlib import Path\n",
    "\n",
    "experiment_executor_02 = EntropyMeasure()"
   ]
  },
  {
   "cell_type": "code",
   "execution_count": 2,
   "metadata": {},
   "outputs": [],
   "source": [
    "from qiskit.providers.basic_provider import BasicProvider\n",
    "\n",
    "basic_provider = BasicProvider()\n",
    "backend_sim = basic_provider.get_backend(\"basic_simulator\")"
   ]
  },
  {
   "cell_type": "markdown",
   "metadata": {},
   "source": [
    "## 2.1 - Launching a multiJob\n",
    "\n",
    "Consider a scenario where you have multiple circuits that you want to run on a backend at the same time, you can use `multiOutput` to launch a multiJob.\n",
    "\n",
    "For the example below, we will show how to submit 100 circuits with 100 sets of randomized unitaries and 4096 shots, and mesure the entropy with multiple subsystem divisions at the same time.\n"
   ]
  },
  {
   "cell_type": "markdown",
   "metadata": {},
   "source": [
    "### 1. Loading 10 circuits\n",
    "\n",
    "(Topological Paramagnetic State is already the most complicated case in Qurry, so we will use it as our example. Ususally I prefer some more complicated circuits like a spin chain model with 20+ trotter steps, but it's not necessary for this example.)\n"
   ]
  },
  {
   "cell_type": "code",
   "execution_count": 3,
   "metadata": {},
   "outputs": [
    {
     "name": "stdout",
     "output_type": "stream",
     "text": [
      "     ┌───┐         \n",
      "q_0: ┤ H ├─■─────■─\n",
      "     ├───┤ │     │ \n",
      "q_1: ┤ H ├─■──■──┼─\n",
      "     ├───┤    │  │ \n",
      "q_2: ┤ H ├─■──■──┼─\n",
      "     ├───┤ │     │ \n",
      "q_3: ┤ H ├─■──■──┼─\n",
      "     ├───┤    │  │ \n",
      "q_4: ┤ H ├─■──■──┼─\n",
      "     ├───┤ │     │ \n",
      "q_5: ┤ H ├─■──■──┼─\n",
      "     ├───┤    │  │ \n",
      "q_6: ┤ H ├─■──■──┼─\n",
      "     ├───┤ │     │ \n",
      "q_7: ┤ H ├─■─────■─\n",
      "     └───┘         \n"
     ]
    }
   ],
   "source": [
    "from qurry.recipe import TopologicalParamagnet\n",
    "sample = TopologicalParamagnet(8, 'period')\n",
    "print(sample)"
   ]
  },
  {
   "cell_type": "markdown",
   "metadata": {},
   "source": [
    "Loading circuits to `Qurry`\n"
   ]
  },
  {
   "cell_type": "code",
   "execution_count": 4,
   "metadata": {},
   "outputs": [],
   "source": [
    "for i in range(100):\n",
    "    experiment_executor_02.add(sample)\n"
   ]
  },
  {
   "cell_type": "markdown",
   "metadata": {},
   "source": [
    "Check the name or serial number of the circuit in `Qurry` by `experiment_executor_02.waves.keys()`\n"
   ]
  },
  {
   "cell_type": "code",
   "execution_count": 5,
   "metadata": {},
   "outputs": [
    {
     "name": "stdout",
     "output_type": "stream",
     "text": [
      "dict_keys([0, 1, 2, 3, 4, 5, 6, 7, 8, 9, 10, 11, 12, 13, 14, 15, 16, 17, 18, 19, 20, 21, 22, 23, 24, 25, 26, 27, 28, 29, 30, 31, 32, 33, 34, 35, 36, 37, 38, 39, 40, 41, 42, 43, 44, 45, 46, 47, 48, 49, 50, 51, 52, 53, 54, 55, 56, 57, 58, 59, 60, 61, 62, 63, 64, 65, 66, 67, 68, 69, 70, 71, 72, 73, 74, 75, 76, 77, 78, 79, 80, 81, 82, 83, 84, 85, 86, 87, 88, 89, 90, 91, 92, 93, 94, 95, 96, 97, 98, 99])\n"
     ]
    }
   ],
   "source": [
    "print(experiment_executor_02.waves.keys())"
   ]
  },
  {
   "cell_type": "markdown",
   "metadata": {},
   "source": [
    "### 2. Preparing configurations\n",
    "\n",
    "To perform randomized measurement, multiple randomized unitary configurations required. We use a list to store all configurations.\n",
    "\n",
    "For randomized measurement, each configuration is in this form of dictionary:\n",
    "\n",
    "```python\n",
    "{\n",
    "    'waves': 'the circuit to measure',\n",
    "    'tags': 'tags for this job',\n",
    "    'times': 100,\n",
    "}\n",
    "```\n"
   ]
  },
  {
   "cell_type": "code",
   "execution_count": 6,
   "metadata": {},
   "outputs": [],
   "source": [
    "from typing import TypedDict, Hashable, Iterable, Union, Optional\n",
    "\n",
    "class randomizedConfig(TypedDict):\n",
    "    wave: Hashable\n",
    "    \"\"\"The name or serial number of circuit in Qurry.\"\"\"\n",
    "    tags: Hashable\n",
    "    \"\"\"You can metion tags to filter experiment.\"\"\"\n",
    "    times: int\n",
    "    \"\"\"Default: 100 in :cls:`RandomizedMeasure`\"\"\"\n",
    "    "
   ]
  },
  {
   "cell_type": "code",
   "execution_count": 7,
   "metadata": {},
   "outputs": [],
   "source": [
    "config_list = [{\n",
    "    'wave': i,\n",
    "    'tags': ('topParamagnet', int(i/10)),\n",
    "    'times': 100,\n",
    "} for i in range(10)]"
   ]
  },
  {
   "cell_type": "markdown",
   "metadata": {},
   "source": [
    "### 3. Launching multiJob\n",
    "\n",
    "Attenetion, this example may make your computer go brrrr.\n"
   ]
  },
  {
   "cell_type": "code",
   "execution_count": 8,
   "metadata": {},
   "outputs": [
    {
     "name": "stdout",
     "output_type": "stream",
     "text": [
      "| MultiManager building...\n",
      "| Write \"example.multiOutput.qurry.001\", at location \"example.multiOutput.qurry.001\"\n"
     ]
    },
    {
     "data": {
      "application/vnd.jupyter.widget-view+json": {
       "model_id": "300d56bf469440668496fc8155710cba",
       "version_major": 2,
       "version_minor": 0
      },
      "text/plain": [
       "| 0/10   0%|          | -  - 00:00 < ?"
      ]
     },
     "metadata": {},
     "output_type": "display_data"
    },
    {
     "name": "stdout",
     "output_type": "stream",
     "text": [
      "| Export multimanager...\n"
     ]
    },
    {
     "data": {
      "application/vnd.jupyter.widget-view+json": {
       "model_id": "52c62e3e6fff42f890c2978caeee9d35",
       "version_major": 2,
       "version_minor": 0
      },
      "text/plain": [
       "| 0/10 - exporting - 00:00 < ?"
      ]
     },
     "metadata": {},
     "output_type": "display_data"
    },
    {
     "name": "stdout",
     "output_type": "stream",
     "text": [
      "| No quantity to export.\n",
      "| Export multi.config.json for 205f52f8-031a-4a09-b622-b187ccc2efa7\n"
     ]
    },
    {
     "data": {
      "application/vnd.jupyter.widget-view+json": {
       "model_id": "5c2fe6eae7894320a552aa3a4fa6305c",
       "version_major": 2,
       "version_minor": 0
      },
      "text/plain": [
       "| 0/10 - Exporting and writring... - 00:00 < ?"
      ]
     },
     "metadata": {},
     "output_type": "display_data"
    },
    {
     "name": "stdout",
     "output_type": "stream",
     "text": [
      "| MultiOutput running...\n"
     ]
    },
    {
     "data": {
      "application/vnd.jupyter.widget-view+json": {
       "model_id": "858d83c580a9470fb4ce20623d03346f",
       "version_major": 2,
       "version_minor": 0
      },
      "text/plain": [
       "| 0/10   0%|          | -  - 00:00 < ?"
      ]
     },
     "metadata": {},
     "output_type": "display_data"
    },
    {
     "name": "stdout",
     "output_type": "stream",
     "text": [
      "| Export multimanager...\n"
     ]
    },
    {
     "data": {
      "application/vnd.jupyter.widget-view+json": {
       "model_id": "02c4910e98734131ac5fc30c569ddfb3",
       "version_major": 2,
       "version_minor": 0
      },
      "text/plain": [
       "| 0/10 - exporting - 00:00 < ?"
      ]
     },
     "metadata": {},
     "output_type": "display_data"
    },
    {
     "name": "stdout",
     "output_type": "stream",
     "text": [
      "| No quantity to export.\n",
      "| Export multi.config.json for 205f52f8-031a-4a09-b622-b187ccc2efa7\n"
     ]
    },
    {
     "data": {
      "application/vnd.jupyter.widget-view+json": {
       "model_id": "674654dee9474d6592efff235e7a0575",
       "version_major": 2,
       "version_minor": 0
      },
      "text/plain": [
       "| 0/10 - Exporting and writring... - 00:00 < ?"
      ]
     },
     "metadata": {},
     "output_type": "display_data"
    }
   ],
   "source": [
    "# please un-comment this cell to run it.\n",
    "\n",
    "hash_id = experiment_executor_02.multiOutput(\n",
    "    config_list=config_list,\n",
    "    backend=backend_sim,\n",
    "    save_location=Path('./'),\n",
    "    summoner_name='example.multiOutput',\n",
    "    shots=4096,\n",
    ")\n",
    "\n",
    "# It takes 10m 41.2s to run this cell on my computer."
   ]
  },
  {
   "cell_type": "markdown",
   "metadata": {},
   "source": [
    "The `multiOutput` will return an ID of this multiJob,\n",
    "\n",
    "you can use it to check the status of this multiJob in `experiment_executor_02.multimanagers[(the ID returned)]`.\n"
   ]
  },
  {
   "cell_type": "code",
   "execution_count": 9,
   "metadata": {},
   "outputs": [
    {
     "data": {
      "text/plain": [
       "'205f52f8-031a-4a09-b622-b187ccc2efa7'"
      ]
     },
     "execution_count": 9,
     "metadata": {},
     "output_type": "execute_result"
    }
   ],
   "source": [
    "hash_id\n",
    "# The hashID of this multiOutput"
   ]
  },
  {
   "cell_type": "code",
   "execution_count": 10,
   "metadata": {},
   "outputs": [
    {
     "data": {
      "text/plain": [
       "MultiManagerContainer(num=4, {\n",
       "  '205f52f8-031a-4a09-b622-b187ccc2efa7': '<MultiManager(id=205f52f8-031a-4a09-b622-b187ccc2efa7,\n",
       "  name=example.multiOutput.qurry.001,\n",
       "  jobstype=local,\n",
       "  ...)>'})"
      ]
     },
     "execution_count": 10,
     "metadata": {},
     "output_type": "execute_result"
    }
   ],
   "source": [
    "experiment_executor_02.multimanagers"
   ]
  },
  {
   "cell_type": "markdown",
   "metadata": {},
   "source": [
    "### 3. The automatic export of multiJob\n",
    "\n",
    "After the multiJob is finished, you may notice that there are some new files in your folder, they are the results of your multiJob.\n",
    "\n",
    "Qurry will automatically export the results of multiJob to your folder, and you can use `multiRead` to load them. We will show how to use `multiRead` in later section.\n"
   ]
  },
  {
   "cell_type": "markdown",
   "metadata": {},
   "source": [
    "### 4. Make multiple analysis with multiple subsystem divisions\n",
    "\n",
    "Attenetion, this example may make your computer go brrrr, too.\n",
    "The post-processing calculation already boosts by multiprocesses, cython and Rust, speeding up the calculation. In early version, such calculation can take all day, even few days to finish.\n"
   ]
  },
  {
   "cell_type": "code",
   "execution_count": 11,
   "metadata": {},
   "outputs": [
    {
     "data": {
      "text/plain": [
       "[[0, 1],\n",
       " [0, 1, 2, 3],\n",
       " [0, 1, 2, 3, 4, 5],\n",
       " [2, 3],\n",
       " [4, 5],\n",
       " [2, 3, 4, 5],\n",
       " [6, 7, 0, 1],\n",
       " [4, 5, 6, 7, 0, 1],\n",
       " [6, 7, 0, 1, 2, 3],\n",
       " [0, 1, 2],\n",
       " [5, 6],\n",
       " [4, 5, 6]]"
      ]
     },
     "execution_count": 11,
     "metadata": {},
     "output_type": "execute_result"
    }
   ],
   "source": [
    "subsytems = [\n",
    "    2,\n",
    "    4,\n",
    "    6,\n",
    "    (2, 4),\n",
    "    (4, 6),\n",
    "    (2, 6),\n",
    "    (-2, 2),\n",
    "    (-4, 2),\n",
    "    (-2, 4),\n",
    "    3,\n",
    "    (5, 7),\n",
    "    (4, 7),\n",
    "]\n",
    "subsytems = [\n",
    "    list(range(i)) if isinstance(i, int) else [j % 8 for j in range(*i)]\n",
    "    for i in subsytems\n",
    "]\n",
    "# this is a list of subsystems that we want to measure\n",
    "subsytems"
   ]
  },
  {
   "cell_type": "code",
   "execution_count": 14,
   "metadata": {},
   "outputs": [
    {
     "name": "stdout",
     "output_type": "stream",
     "text": [
      "| Name: bits_01\n"
     ]
    },
    {
     "data": {
      "application/vnd.jupyter.widget-view+json": {
       "model_id": "5d4f519a2ab54755898113a70b9dcb07",
       "version_major": 2,
       "version_minor": 0
      },
      "text/plain": [
       "| 0/10 - Analysis:  - 00:00 < ?"
      ]
     },
     "metadata": {},
     "output_type": "display_data"
    },
    {
     "name": "stdout",
     "output_type": "stream",
     "text": [
      "| \"bits_01\" has been completed.\n",
      "| Export multimanager...\n"
     ]
    },
    {
     "data": {
      "application/vnd.jupyter.widget-view+json": {
       "model_id": "bb2c7b46fc5d44f09d2bff75cac1ac18",
       "version_major": 2,
       "version_minor": 0
      },
      "text/plain": [
       "| 0/10 - exporting - 00:00 < ?"
      ]
     },
     "metadata": {},
     "output_type": "display_data"
    },
    {
     "data": {
      "application/vnd.jupyter.widget-view+json": {
       "model_id": "40403b7a84f34e77b7e001ba0227ae17",
       "version_major": 2,
       "version_minor": 0
      },
      "text/plain": [
       "| 0/1 - exporting quantity - 00:00 < ?"
      ]
     },
     "metadata": {},
     "output_type": "display_data"
    },
    {
     "name": "stdout",
     "output_type": "stream",
     "text": [
      "| Export multi.config.json for 205f52f8-031a-4a09-b622-b187ccc2efa7\n"
     ]
    },
    {
     "data": {
      "application/vnd.jupyter.widget-view+json": {
       "model_id": "132ff50ddb40478d87651206891eddbe",
       "version_major": 2,
       "version_minor": 0
      },
      "text/plain": [
       "| 0/10 - Exporting and writring... - 00:00 < ?"
      ]
     },
     "metadata": {},
     "output_type": "display_data"
    },
    {
     "name": "stdout",
     "output_type": "stream",
     "text": [
      "| Name: bits_0123\n"
     ]
    },
    {
     "data": {
      "application/vnd.jupyter.widget-view+json": {
       "model_id": "a2f7586f066541e9b1411324a8f25d0f",
       "version_major": 2,
       "version_minor": 0
      },
      "text/plain": [
       "| 0/10 - Analysis:  - 00:00 < ?"
      ]
     },
     "metadata": {},
     "output_type": "display_data"
    },
    {
     "name": "stdout",
     "output_type": "stream",
     "text": [
      "| \"bits_0123\" has been completed.\n",
      "| Export multimanager...\n"
     ]
    },
    {
     "data": {
      "application/vnd.jupyter.widget-view+json": {
       "model_id": "b14f90c45fa74ecd88718684accc12a3",
       "version_major": 2,
       "version_minor": 0
      },
      "text/plain": [
       "| 0/10 - exporting - 00:00 < ?"
      ]
     },
     "metadata": {},
     "output_type": "display_data"
    },
    {
     "data": {
      "application/vnd.jupyter.widget-view+json": {
       "model_id": "b5b2b646ebd648339b01b106110a7abb",
       "version_major": 2,
       "version_minor": 0
      },
      "text/plain": [
       "| 0/2 - exporting quantity - 00:00 < ?"
      ]
     },
     "metadata": {},
     "output_type": "display_data"
    },
    {
     "name": "stdout",
     "output_type": "stream",
     "text": [
      "| Export multi.config.json for 205f52f8-031a-4a09-b622-b187ccc2efa7\n"
     ]
    },
    {
     "data": {
      "application/vnd.jupyter.widget-view+json": {
       "model_id": "338df3d675dd4de0825836cd1fb1f132",
       "version_major": 2,
       "version_minor": 0
      },
      "text/plain": [
       "| 0/10 - Exporting and writring... - 00:00 < ?"
      ]
     },
     "metadata": {},
     "output_type": "display_data"
    },
    {
     "name": "stdout",
     "output_type": "stream",
     "text": [
      "| Name: bits_012345\n"
     ]
    },
    {
     "data": {
      "application/vnd.jupyter.widget-view+json": {
       "model_id": "ba276422fb06472bb1dc8e85c249ab6e",
       "version_major": 2,
       "version_minor": 0
      },
      "text/plain": [
       "| 0/10 - Analysis:  - 00:00 < ?"
      ]
     },
     "metadata": {},
     "output_type": "display_data"
    },
    {
     "name": "stdout",
     "output_type": "stream",
     "text": [
      "| \"bits_012345\" has been completed.\n",
      "| Export multimanager...\n"
     ]
    },
    {
     "data": {
      "application/vnd.jupyter.widget-view+json": {
       "model_id": "4442af0e5cb3480ba142e33344600bed",
       "version_major": 2,
       "version_minor": 0
      },
      "text/plain": [
       "| 0/10 - exporting - 00:00 < ?"
      ]
     },
     "metadata": {},
     "output_type": "display_data"
    },
    {
     "data": {
      "application/vnd.jupyter.widget-view+json": {
       "model_id": "7370e95cf3f24604bb1e1b34539215e2",
       "version_major": 2,
       "version_minor": 0
      },
      "text/plain": [
       "| 0/3 - exporting quantity - 00:00 < ?"
      ]
     },
     "metadata": {},
     "output_type": "display_data"
    },
    {
     "name": "stdout",
     "output_type": "stream",
     "text": [
      "| Export multi.config.json for 205f52f8-031a-4a09-b622-b187ccc2efa7\n"
     ]
    },
    {
     "data": {
      "application/vnd.jupyter.widget-view+json": {
       "model_id": "5cc130d47d914109b62ec400895c46c9",
       "version_major": 2,
       "version_minor": 0
      },
      "text/plain": [
       "| 0/10 - Exporting and writring... - 00:00 < ?"
      ]
     },
     "metadata": {},
     "output_type": "display_data"
    },
    {
     "name": "stdout",
     "output_type": "stream",
     "text": [
      "| Name: bits_23\n"
     ]
    },
    {
     "data": {
      "application/vnd.jupyter.widget-view+json": {
       "model_id": "e5cd1470a0b64e0c9bb8a934fab497f4",
       "version_major": 2,
       "version_minor": 0
      },
      "text/plain": [
       "| 0/10 - Analysis:  - 00:00 < ?"
      ]
     },
     "metadata": {},
     "output_type": "display_data"
    },
    {
     "name": "stdout",
     "output_type": "stream",
     "text": [
      "| \"bits_23\" has been completed.\n",
      "| Export multimanager...\n"
     ]
    },
    {
     "data": {
      "application/vnd.jupyter.widget-view+json": {
       "model_id": "09ead98f0a25417ca6b9ca4d329c78b5",
       "version_major": 2,
       "version_minor": 0
      },
      "text/plain": [
       "| 0/10 - exporting - 00:00 < ?"
      ]
     },
     "metadata": {},
     "output_type": "display_data"
    },
    {
     "data": {
      "application/vnd.jupyter.widget-view+json": {
       "model_id": "4e0dbb856c1743e9a2ebe1c803fdfbab",
       "version_major": 2,
       "version_minor": 0
      },
      "text/plain": [
       "| 0/4 - exporting quantity - 00:00 < ?"
      ]
     },
     "metadata": {},
     "output_type": "display_data"
    },
    {
     "name": "stdout",
     "output_type": "stream",
     "text": [
      "| Export multi.config.json for 205f52f8-031a-4a09-b622-b187ccc2efa7\n"
     ]
    },
    {
     "data": {
      "application/vnd.jupyter.widget-view+json": {
       "model_id": "5867374c0d4e48498f802dd0cf1d3773",
       "version_major": 2,
       "version_minor": 0
      },
      "text/plain": [
       "| 0/10 - Exporting and writring... - 00:00 < ?"
      ]
     },
     "metadata": {},
     "output_type": "display_data"
    },
    {
     "name": "stdout",
     "output_type": "stream",
     "text": [
      "| Name: bits_45\n"
     ]
    },
    {
     "data": {
      "application/vnd.jupyter.widget-view+json": {
       "model_id": "f97ee90dc7bd45cc810422dd9e71dbfe",
       "version_major": 2,
       "version_minor": 0
      },
      "text/plain": [
       "| 0/10 - Analysis:  - 00:00 < ?"
      ]
     },
     "metadata": {},
     "output_type": "display_data"
    },
    {
     "name": "stdout",
     "output_type": "stream",
     "text": [
      "| \"bits_45\" has been completed.\n",
      "| Export multimanager...\n"
     ]
    },
    {
     "data": {
      "application/vnd.jupyter.widget-view+json": {
       "model_id": "9f8b682c1920422e8cee18db71fb4cc4",
       "version_major": 2,
       "version_minor": 0
      },
      "text/plain": [
       "| 0/10 - exporting - 00:00 < ?"
      ]
     },
     "metadata": {},
     "output_type": "display_data"
    },
    {
     "data": {
      "application/vnd.jupyter.widget-view+json": {
       "model_id": "42b35e0f1a1941599e7b4dfc0f2ef394",
       "version_major": 2,
       "version_minor": 0
      },
      "text/plain": [
       "| 0/5 - exporting quantity - 00:00 < ?"
      ]
     },
     "metadata": {},
     "output_type": "display_data"
    },
    {
     "name": "stdout",
     "output_type": "stream",
     "text": [
      "| Export multi.config.json for 205f52f8-031a-4a09-b622-b187ccc2efa7\n"
     ]
    },
    {
     "data": {
      "application/vnd.jupyter.widget-view+json": {
       "model_id": "5e5a406c538447f7ae5c0281148fa665",
       "version_major": 2,
       "version_minor": 0
      },
      "text/plain": [
       "| 0/10 - Exporting and writring... - 00:00 < ?"
      ]
     },
     "metadata": {},
     "output_type": "display_data"
    },
    {
     "name": "stdout",
     "output_type": "stream",
     "text": [
      "| Name: bits_2345\n"
     ]
    },
    {
     "data": {
      "application/vnd.jupyter.widget-view+json": {
       "model_id": "3567c8ae0b56407cb88801c63e5c059b",
       "version_major": 2,
       "version_minor": 0
      },
      "text/plain": [
       "| 0/10 - Analysis:  - 00:00 < ?"
      ]
     },
     "metadata": {},
     "output_type": "display_data"
    },
    {
     "name": "stdout",
     "output_type": "stream",
     "text": [
      "| \"bits_2345\" has been completed.\n",
      "| Export multimanager...\n"
     ]
    },
    {
     "data": {
      "application/vnd.jupyter.widget-view+json": {
       "model_id": "795ab9cb13b840d7a40c5ca41a65b65a",
       "version_major": 2,
       "version_minor": 0
      },
      "text/plain": [
       "| 0/10 - exporting - 00:00 < ?"
      ]
     },
     "metadata": {},
     "output_type": "display_data"
    },
    {
     "data": {
      "application/vnd.jupyter.widget-view+json": {
       "model_id": "a826c8a7dfbc4c8bb272cff73ce8bcbf",
       "version_major": 2,
       "version_minor": 0
      },
      "text/plain": [
       "| 0/6 - exporting quantity - 00:00 < ?"
      ]
     },
     "metadata": {},
     "output_type": "display_data"
    },
    {
     "name": "stdout",
     "output_type": "stream",
     "text": [
      "| Export multi.config.json for 205f52f8-031a-4a09-b622-b187ccc2efa7\n"
     ]
    },
    {
     "data": {
      "application/vnd.jupyter.widget-view+json": {
       "model_id": "12539120b3e04e90bdbd3c640594d33e",
       "version_major": 2,
       "version_minor": 0
      },
      "text/plain": [
       "| 0/10 - Exporting and writring... - 00:00 < ?"
      ]
     },
     "metadata": {},
     "output_type": "display_data"
    },
    {
     "name": "stdout",
     "output_type": "stream",
     "text": [
      "| Name: bits_6701\n"
     ]
    },
    {
     "data": {
      "application/vnd.jupyter.widget-view+json": {
       "model_id": "7ec960bd82e8408daa11db2ee5827a1e",
       "version_major": 2,
       "version_minor": 0
      },
      "text/plain": [
       "| 0/10 - Analysis:  - 00:00 < ?"
      ]
     },
     "metadata": {},
     "output_type": "display_data"
    },
    {
     "name": "stdout",
     "output_type": "stream",
     "text": [
      "| \"bits_6701\" has been completed.\n",
      "| Export multimanager...\n"
     ]
    },
    {
     "data": {
      "application/vnd.jupyter.widget-view+json": {
       "model_id": "d836443ffe8f4957927612c892d298d0",
       "version_major": 2,
       "version_minor": 0
      },
      "text/plain": [
       "| 0/10 - exporting - 00:00 < ?"
      ]
     },
     "metadata": {},
     "output_type": "display_data"
    },
    {
     "data": {
      "application/vnd.jupyter.widget-view+json": {
       "model_id": "5d325052d41a495ab8f3e6081576a7e7",
       "version_major": 2,
       "version_minor": 0
      },
      "text/plain": [
       "| 0/7 - exporting quantity - 00:00 < ?"
      ]
     },
     "metadata": {},
     "output_type": "display_data"
    },
    {
     "name": "stdout",
     "output_type": "stream",
     "text": [
      "| Export multi.config.json for 205f52f8-031a-4a09-b622-b187ccc2efa7\n"
     ]
    },
    {
     "data": {
      "application/vnd.jupyter.widget-view+json": {
       "model_id": "78b99b2882484f5582439fcbd776cd01",
       "version_major": 2,
       "version_minor": 0
      },
      "text/plain": [
       "| 0/10 - Exporting and writring... - 00:00 < ?"
      ]
     },
     "metadata": {},
     "output_type": "display_data"
    },
    {
     "name": "stdout",
     "output_type": "stream",
     "text": [
      "| Name: bits_456701\n"
     ]
    },
    {
     "data": {
      "application/vnd.jupyter.widget-view+json": {
       "model_id": "ac8a67271adb4f508b2a4146d59f524d",
       "version_major": 2,
       "version_minor": 0
      },
      "text/plain": [
       "| 0/10 - Analysis:  - 00:00 < ?"
      ]
     },
     "metadata": {},
     "output_type": "display_data"
    },
    {
     "name": "stdout",
     "output_type": "stream",
     "text": [
      "| \"bits_456701\" has been completed.\n",
      "| Export multimanager...\n"
     ]
    },
    {
     "data": {
      "application/vnd.jupyter.widget-view+json": {
       "model_id": "1d85e064ea7c4ea4b801172cc15e828c",
       "version_major": 2,
       "version_minor": 0
      },
      "text/plain": [
       "| 0/10 - exporting - 00:00 < ?"
      ]
     },
     "metadata": {},
     "output_type": "display_data"
    },
    {
     "data": {
      "application/vnd.jupyter.widget-view+json": {
       "model_id": "6d425a33f4ff4dfdb46f86a38348a911",
       "version_major": 2,
       "version_minor": 0
      },
      "text/plain": [
       "| 0/8 - exporting quantity - 00:00 < ?"
      ]
     },
     "metadata": {},
     "output_type": "display_data"
    },
    {
     "name": "stdout",
     "output_type": "stream",
     "text": [
      "| Export multi.config.json for 205f52f8-031a-4a09-b622-b187ccc2efa7\n"
     ]
    },
    {
     "data": {
      "application/vnd.jupyter.widget-view+json": {
       "model_id": "6a057f51ee50474581142d4ee89122e5",
       "version_major": 2,
       "version_minor": 0
      },
      "text/plain": [
       "| 0/10 - Exporting and writring... - 00:00 < ?"
      ]
     },
     "metadata": {},
     "output_type": "display_data"
    },
    {
     "name": "stdout",
     "output_type": "stream",
     "text": [
      "| Name: bits_670123\n"
     ]
    },
    {
     "data": {
      "application/vnd.jupyter.widget-view+json": {
       "model_id": "46123baa67624bef90b7e84798697277",
       "version_major": 2,
       "version_minor": 0
      },
      "text/plain": [
       "| 0/10 - Analysis:  - 00:00 < ?"
      ]
     },
     "metadata": {},
     "output_type": "display_data"
    },
    {
     "name": "stdout",
     "output_type": "stream",
     "text": [
      "| \"bits_670123\" has been completed.\n",
      "| Export multimanager...\n"
     ]
    },
    {
     "data": {
      "application/vnd.jupyter.widget-view+json": {
       "model_id": "db99196cf75d41e9b458c1a138258be8",
       "version_major": 2,
       "version_minor": 0
      },
      "text/plain": [
       "| 0/10 - exporting - 00:00 < ?"
      ]
     },
     "metadata": {},
     "output_type": "display_data"
    },
    {
     "data": {
      "application/vnd.jupyter.widget-view+json": {
       "model_id": "0295c4a9f4964b9798fa6c0890cf8ba2",
       "version_major": 2,
       "version_minor": 0
      },
      "text/plain": [
       "| 0/9 - exporting quantity - 00:00 < ?"
      ]
     },
     "metadata": {},
     "output_type": "display_data"
    },
    {
     "name": "stdout",
     "output_type": "stream",
     "text": [
      "| Export multi.config.json for 205f52f8-031a-4a09-b622-b187ccc2efa7\n"
     ]
    },
    {
     "data": {
      "application/vnd.jupyter.widget-view+json": {
       "model_id": "942c46f9622e472e9607473906633ca9",
       "version_major": 2,
       "version_minor": 0
      },
      "text/plain": [
       "| 0/10 - Exporting and writring... - 00:00 < ?"
      ]
     },
     "metadata": {},
     "output_type": "display_data"
    },
    {
     "name": "stdout",
     "output_type": "stream",
     "text": [
      "| Name: bits_012\n"
     ]
    },
    {
     "data": {
      "application/vnd.jupyter.widget-view+json": {
       "model_id": "f04e0cf42d9c43af92d72e95ee8fe2b0",
       "version_major": 2,
       "version_minor": 0
      },
      "text/plain": [
       "| 0/10 - Analysis:  - 00:00 < ?"
      ]
     },
     "metadata": {},
     "output_type": "display_data"
    },
    {
     "name": "stdout",
     "output_type": "stream",
     "text": [
      "| \"bits_012\" has been completed.\n",
      "| Export multimanager...\n"
     ]
    },
    {
     "data": {
      "application/vnd.jupyter.widget-view+json": {
       "model_id": "4695c4193d114cb6b33194463b0179e2",
       "version_major": 2,
       "version_minor": 0
      },
      "text/plain": [
       "| 0/10 - exporting - 00:00 < ?"
      ]
     },
     "metadata": {},
     "output_type": "display_data"
    },
    {
     "data": {
      "application/vnd.jupyter.widget-view+json": {
       "model_id": "f7a081c233de43d497415f462d4ba793",
       "version_major": 2,
       "version_minor": 0
      },
      "text/plain": [
       "| 0/10 - exporting quantity - 00:00 < ?"
      ]
     },
     "metadata": {},
     "output_type": "display_data"
    },
    {
     "name": "stdout",
     "output_type": "stream",
     "text": [
      "| Export multi.config.json for 205f52f8-031a-4a09-b622-b187ccc2efa7\n"
     ]
    },
    {
     "data": {
      "application/vnd.jupyter.widget-view+json": {
       "model_id": "9472536495bc4b5a93f77da816fb70a7",
       "version_major": 2,
       "version_minor": 0
      },
      "text/plain": [
       "| 0/10 - Exporting and writring... - 00:00 < ?"
      ]
     },
     "metadata": {},
     "output_type": "display_data"
    },
    {
     "name": "stdout",
     "output_type": "stream",
     "text": [
      "| Name: bits_56\n"
     ]
    },
    {
     "data": {
      "application/vnd.jupyter.widget-view+json": {
       "model_id": "0714d5f1efc7409e9e56e22cb0168525",
       "version_major": 2,
       "version_minor": 0
      },
      "text/plain": [
       "| 0/10 - Analysis:  - 00:00 < ?"
      ]
     },
     "metadata": {},
     "output_type": "display_data"
    },
    {
     "name": "stdout",
     "output_type": "stream",
     "text": [
      "| \"bits_56\" has been completed.\n",
      "| Export multimanager...\n"
     ]
    },
    {
     "data": {
      "application/vnd.jupyter.widget-view+json": {
       "model_id": "d8c0ee673ce54d3985af49188c851ff8",
       "version_major": 2,
       "version_minor": 0
      },
      "text/plain": [
       "| 0/10 - exporting - 00:00 < ?"
      ]
     },
     "metadata": {},
     "output_type": "display_data"
    },
    {
     "data": {
      "application/vnd.jupyter.widget-view+json": {
       "model_id": "4fc3f649ac674a1c8c6a4b6d32d45014",
       "version_major": 2,
       "version_minor": 0
      },
      "text/plain": [
       "| 0/11 - exporting quantity - 00:00 < ?"
      ]
     },
     "metadata": {},
     "output_type": "display_data"
    },
    {
     "name": "stdout",
     "output_type": "stream",
     "text": [
      "| Export multi.config.json for 205f52f8-031a-4a09-b622-b187ccc2efa7\n"
     ]
    },
    {
     "data": {
      "application/vnd.jupyter.widget-view+json": {
       "model_id": "18723e1086e94bf996451b18c5bc7b14",
       "version_major": 2,
       "version_minor": 0
      },
      "text/plain": [
       "| 0/10 - Exporting and writring... - 00:00 < ?"
      ]
     },
     "metadata": {},
     "output_type": "display_data"
    },
    {
     "name": "stdout",
     "output_type": "stream",
     "text": [
      "| Name: bits_456\n"
     ]
    },
    {
     "data": {
      "application/vnd.jupyter.widget-view+json": {
       "model_id": "49ea7bbaddb44f389738da76f945dac7",
       "version_major": 2,
       "version_minor": 0
      },
      "text/plain": [
       "| 0/10 - Analysis:  - 00:00 < ?"
      ]
     },
     "metadata": {},
     "output_type": "display_data"
    },
    {
     "name": "stdout",
     "output_type": "stream",
     "text": [
      "| \"bits_456\" has been completed.\n",
      "| Export multimanager...\n"
     ]
    },
    {
     "data": {
      "application/vnd.jupyter.widget-view+json": {
       "model_id": "6cfee46904334574b128ca7a18d0f500",
       "version_major": 2,
       "version_minor": 0
      },
      "text/plain": [
       "| 0/10 - exporting - 00:00 < ?"
      ]
     },
     "metadata": {},
     "output_type": "display_data"
    },
    {
     "data": {
      "application/vnd.jupyter.widget-view+json": {
       "model_id": "7595f91e86f74061a68387bfaf007b71",
       "version_major": 2,
       "version_minor": 0
      },
      "text/plain": [
       "| 0/12 - exporting quantity - 00:00 < ?"
      ]
     },
     "metadata": {},
     "output_type": "display_data"
    },
    {
     "name": "stdout",
     "output_type": "stream",
     "text": [
      "| Export multi.config.json for 205f52f8-031a-4a09-b622-b187ccc2efa7\n"
     ]
    },
    {
     "data": {
      "application/vnd.jupyter.widget-view+json": {
       "model_id": "a975ad939a7047d4b5af5a56251eea5b",
       "version_major": 2,
       "version_minor": 0
      },
      "text/plain": [
       "| 0/10 - Exporting and writring... - 00:00 < ?"
      ]
     },
     "metadata": {},
     "output_type": "display_data"
    }
   ],
   "source": [
    "for qs in subsytems:\n",
    "    name = \"bits_\" + \"\".join([str(qi) for qi in qs])\n",
    "    print(\"| Name:\", name)\n",
    "    \n",
    "    # please decoment this cell to run it.\n",
    "    \n",
    "    experiment_executor_02.multiAnalysis(\n",
    "        summoner_id=hash_id,\n",
    "        selected_qubits=qs,\n",
    "        analysis_name=name,\n",
    "        no_serialize=True,\n",
    "    )\n",
    "    \n",
    "# 38m 15.1s to run this cell on my computer."
   ]
  },
  {
   "cell_type": "markdown",
   "metadata": {},
   "source": [
    "## 2.2 Export and Compress\n",
    "\n",
    "In this section, we will show how to use `multiWrite` to export the results of multiJob to a folder or export as a tar.xz file when `compress=True`.\n"
   ]
  },
  {
   "cell_type": "code",
   "execution_count": 16,
   "metadata": {},
   "outputs": [
    {
     "name": "stdout",
     "output_type": "stream",
     "text": [
      "| Export multimanager...\n"
     ]
    },
    {
     "data": {
      "application/vnd.jupyter.widget-view+json": {
       "model_id": "98af0d0bc7724d32bd2d38fe600f57e7",
       "version_major": 2,
       "version_minor": 0
      },
      "text/plain": [
       "| 0/10 - exporting - 00:00 < ?"
      ]
     },
     "metadata": {},
     "output_type": "display_data"
    },
    {
     "data": {
      "application/vnd.jupyter.widget-view+json": {
       "model_id": "34f652c230874f1da410766c2b8ea31a",
       "version_major": 2,
       "version_minor": 0
      },
      "text/plain": [
       "| 0/12 - exporting quantity - 00:00 < ?"
      ]
     },
     "metadata": {},
     "output_type": "display_data"
    },
    {
     "name": "stdout",
     "output_type": "stream",
     "text": [
      "| Export multi.config.json for 205f52f8-031a-4a09-b622-b187ccc2efa7\n"
     ]
    },
    {
     "data": {
      "application/vnd.jupyter.widget-view+json": {
       "model_id": "6855e5e464574cc2bce262d099d8e673",
       "version_major": 2,
       "version_minor": 0
      },
      "text/plain": [
       "| 0/10 - Exporting and writring... - 00:00 < ?"
      ]
     },
     "metadata": {},
     "output_type": "display_data"
    },
    {
     "name": "stdout",
     "output_type": "stream",
     "text": [
      "| Compress multimanager of 'example.multiOutput.qurry.001'...done\n"
     ]
    },
    {
     "data": {
      "text/plain": [
       "'205f52f8-031a-4a09-b622-b187ccc2efa7'"
      ]
     },
     "execution_count": 16,
     "metadata": {},
     "output_type": "execute_result"
    }
   ],
   "source": [
    "experiment_executor_02.multiWrite(\n",
    "    save_location=Path('./'),\n",
    "    summoner_id=hash_id,\n",
    "    compress=True,\n",
    ")"
   ]
  },
  {
   "cell_type": "markdown",
   "metadata": {},
   "source": [
    "## 2.3 Reading and Writing Data\n",
    "\n",
    "In this section, we will show how to use `multiRead` to load the results of multiJob.\n"
   ]
  },
  {
   "cell_type": "code",
   "execution_count": 17,
   "metadata": {},
   "outputs": [
    {
     "name": "stdout",
     "output_type": "stream",
     "text": [
      "| Retrieve example.multiOutput.qurry.001...\n",
      "| at: example.multiOutput.qurry.001\n",
      "| Found the tarfile 'example.multiOutput.qurry.001.qurry.tar.xz' in '.', decompressing is available.\n",
      "The following files '['example.multiOutput.qurry.001/bits_0123.quantity.json']' are fitting giving 'taglist_name' and 'name', choosing the 'example.multiOutput.qurry.001/bits_0123.quantity.json'.\n",
      "The following files '['example.multiOutput.qurry.001/bits_0123.quantity.json']' are fitting giving 'taglist_name' and 'name', choosing the 'example.multiOutput.qurry.001/bits_0123.quantity.json'.\n",
      "The following files '['example.multiOutput.qurry.001/bits_23.quantity.json']' are fitting giving 'taglist_name' and 'name', choosing the 'example.multiOutput.qurry.001/bits_23.quantity.json'.\n",
      "The following files '['example.multiOutput.qurry.001/bits_456701.quantity.json']' are fitting giving 'taglist_name' and 'name', choosing the 'example.multiOutput.qurry.001/bits_456701.quantity.json'.\n",
      "The following files '['example.multiOutput.qurry.001/bits_6701.quantity.json']' are fitting giving 'taglist_name' and 'name', choosing the 'example.multiOutput.qurry.001/bits_6701.quantity.json'.\n",
      "The following files '['example.multiOutput.qurry.001/bits_0123.quantity.json']' are fitting giving 'taglist_name' and 'name', choosing the 'example.multiOutput.qurry.001/bits_0123.quantity.json'.\n",
      "The following files '['example.multiOutput.qurry.001/bits_456701.quantity.json']' are fitting giving 'taglist_name' and 'name', choosing the 'example.multiOutput.qurry.001/bits_456701.quantity.json'.\n"
     ]
    },
    {
     "data": {
      "application/vnd.jupyter.widget-view+json": {
       "model_id": "8a9fafe6e3294b6c9ca86566c9ffc411",
       "version_major": 2,
       "version_minor": 0
      },
      "text/plain": [
       "| 0/10   0%|          | - 10 experiments found, loading by 16 workers. - 00:00 < ?"
      ]
     },
     "metadata": {},
     "output_type": "display_data"
    }
   ],
   "source": [
    "hashID = experiment_executor_02.multiRead(\n",
    "    save_location=Path('./'),\n",
    "    summoner_name='example.multiOutput.qurry.001',\n",
    ")"
   ]
  },
  {
   "cell_type": "markdown",
   "metadata": {},
   "source": [
    "---\n",
    "\n",
    "## Post-Process Availablities and Version Info\n"
   ]
  },
  {
   "cell_type": "code",
   "execution_count": 18,
   "metadata": {},
   "outputs": [
    {
     "name": "stdout",
     "output_type": "stream",
     "text": [
      "| Qurry version: 0.9.2.dev1\n",
      " | Qurry version: 0.9.2.dev1\n",
      "--------------------------------------------------------\n",
      " ### Qurry Post-Processing\n",
      "   - Backend Availability ................... Python Cython Rust  \n",
      " - randomized_measure\n",
      "   - entangled_entropy.entropy_core_2 ....... Yes    Depr.  Yes   \n",
      "   - entangle_entropy.purity_cell_2 ......... Yes    Depr.  Yes   \n",
      "   - wavefunction_overlap ................... Yes    Depr.  Yes   \n",
      "   - echo_cell .............................. Yes    Depr.  Error \n",
      " - utils\n",
      "   - randomized ............................. Yes    Depr.  Yes   \n",
      "   - construct .............................. Yes    No     Yes   \n",
      "   - dummy .................................. Yes    No     Yes   \n",
      " - hadamard_test\n",
      "   - purity_echo_core ....................... Yes    No     Yes   \n",
      " - magnet_square\n",
      "   - magnsq_core ............................ Yes    No     No    \n",
      "--------------------------------------------------------\n",
      "   + Yes ...... Working normally.\n",
      "   + Error .... Exception occurred.\n",
      "   + No ....... Not supported.\n",
      "   + Depr. .... Deprecated.\n",
      "--------------------------------------------------------\n",
      "\n"
     ]
    }
   ],
   "source": [
    "from qurry import __version__\n",
    "from qurry.process import AVAIBILITY_STATESHEET\n",
    "print(\"| Qurry version:\", __version__)\n",
    "print(AVAIBILITY_STATESHEET)"
   ]
  },
  {
   "cell_type": "code",
   "execution_count": null,
   "metadata": {},
   "outputs": [],
   "source": []
  }
 ],
 "metadata": {
  "kernelspec": {
   "display_name": "quantumsphere12",
   "language": "python",
   "name": "python3"
  },
  "language_info": {
   "codemirror_mode": {
    "name": "ipython",
    "version": 3
   },
   "file_extension": ".py",
   "mimetype": "text/x-python",
   "name": "python",
   "nbconvert_exporter": "python",
   "pygments_lexer": "ipython3",
   "version": "3.12.2"
  }
 },
 "nbformat": 4,
 "nbformat_minor": 4
}
