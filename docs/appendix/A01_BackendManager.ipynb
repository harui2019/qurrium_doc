{
 "cells": [
  {
   "cell_type": "markdown",
   "metadata": {},
   "source": [
    "# Appendix 01 - Backend Wrapper and Backend Manager\n",
    "\n",
    "In Qiskit, there are several simulator source like `BasicAer` from `qiskit`, `Aer` from `qiskit-aer` or GPU-based `qiskit-aer` and IBM Provider from `qiskit-ibm-provider`, `qiskit-ibm-runtime` or deprecated `qiskit-ibmq-provider`. Also, there are fake backends from `qiskit-ibm-runtime` and deprecated `qiskit.provider.fake_provider`. To make it easier to use, we can create a wrapper for each simulator and real machine from IBM. This notebook will show how to create a wrapper for the simulators.\n"
   ]
  },
  {
   "cell_type": "code",
   "execution_count": 1,
   "metadata": {},
   "outputs": [
    {
     "data": {
      "text/plain": [
       "'0.9.2.dev1'"
      ]
     },
     "execution_count": 1,
     "metadata": {},
     "output_type": "execute_result"
    }
   ],
   "source": [
    "from IPython.display import display\n",
    "from qurry import __version__\n",
    "\n",
    "__version__"
   ]
  },
  {
   "cell_type": "markdown",
   "metadata": {},
   "source": [
    "---\n",
    "\n",
    "## A01.01 - All the methods in `qiskit` to get a simulator backend"
   ]
  },
  {
   "cell_type": "markdown",
   "metadata": {},
   "source": [
    "### 1. `BasicAer` or `BasicProvider` from `qiskit <= 0.46.0`:\n",
    "   - Ref: https://docs.quantum.ibm.com/api/qiskit/0.19/providers_basicaer"
   ]
  },
  {
   "cell_type": "code",
   "execution_count": 2,
   "metadata": {},
   "outputs": [
    {
     "name": "stdout",
     "output_type": "stream",
     "text": [
      "| - Your qiskit version does not support BasicAer.\n"
     ]
    }
   ],
   "source": [
    "try:\n",
    "    from qiskit import BasicAer\n",
    "    from qiskit.providers.basicaer import QasmSimulatorPy\n",
    "\n",
    "    print(\"| BasicAer, which can call by '.get_backend':\")\n",
    "    for backend_wrapper in BasicAer.backends():\n",
    "        print(\n",
    "            \"| - \"\n",
    "            + (str(backend_wrapper) + \" \").ljust(38, \".\")\n",
    "            + \" \"\n",
    "            + repr(backend_wrapper)\n",
    "        )\n",
    "\n",
    "    print(\"| QasmSimulatorPy, which is a direct call:\")\n",
    "    qasm_simulator = QasmSimulatorPy()\n",
    "    print(\n",
    "        \"| - \" + (str(qasm_simulator) + \" \").ljust(38, \".\") + \" \" + repr(qasm_simulator)\n",
    "    )\n",
    "\n",
    "    display(qasm_simulator)\n",
    "except ImportError as e:\n",
    "    print(\"| - Your qiskit version does not support BasicAer.\")"
   ]
  },
  {
   "cell_type": "code",
   "execution_count": 3,
   "metadata": {},
   "outputs": [
    {
     "name": "stdout",
     "output_type": "stream",
     "text": [
      "| BasicProvider, which can call by '.get_backend':\n",
      "| - <qiskit.providers.basic_provider.basic_simulator.BasicSimulator object at 0x7d9444b093a0>\n",
      "| BasicSimulator, which is a direct call:\n",
      "| - <qiskit.providers.basic_provider.basic_simulator.BasicSimulator object at 0x7d9444b64d40>\n"
     ]
    },
    {
     "data": {
      "text/plain": [
       "<qiskit.providers.basic_provider.basic_simulator.BasicSimulator at 0x7d9444b64d40>"
      ]
     },
     "metadata": {},
     "output_type": "display_data"
    }
   ],
   "source": [
    "try:\n",
    "    from qiskit.providers.basic_provider import BasicProvider, BasicSimulator\n",
    "\n",
    "    basic_provider = BasicProvider()\n",
    "    print(\"| BasicProvider, which can call by '.get_backend':\")\n",
    "    for backend_wrapper in basic_provider.backends():\n",
    "        print(\"| - \" + repr(backend_wrapper))\n",
    "\n",
    "    print(\"| BasicSimulator, which is a direct call:\")\n",
    "    basic_simulator = BasicSimulator()\n",
    "    print(\"| - \" + repr(basic_simulator))\n",
    "\n",
    "    display(basic_simulator)\n",
    "except ImportError as e:\n",
    "    print(\"| - Your qiskit version does not support BasicProvider.\")"
   ]
  },
  {
   "cell_type": "markdown",
   "metadata": {},
   "source": [
    "### 2. `Aer` from `qiskit-aer`:\n",
    "   - Ref: https://qiskit.github.io/qiskit-aer/getting_started.html"
   ]
  },
  {
   "cell_type": "code",
   "execution_count": 4,
   "metadata": {},
   "outputs": [
    {
     "name": "stdout",
     "output_type": "stream",
     "text": [
      "| Via AerProvider, which can call by '.get_backend':\n",
      "| - AerSimulator('aer_simulator') ........ AerSimulator('aer_simulator')\n",
      "| - AerSimulator('aer_simulator_statevector')  AerSimulator('aer_simulator_statevector')\n",
      "| - AerSimulator('aer_simulator_density_matrix')  AerSimulator('aer_simulator_density_matrix')\n",
      "| - AerSimulator('aer_simulator_stabilizer')  AerSimulator('aer_simulator_stabilizer')\n",
      "| - AerSimulator('aer_simulator_matrix_product_state')  AerSimulator('aer_simulator_matrix_product_state')\n",
      "| - AerSimulator('aer_simulator_extended_stabilizer')  AerSimulator('aer_simulator_extended_stabilizer')\n",
      "| - AerSimulator('aer_simulator_unitary')  AerSimulator('aer_simulator_unitary')\n",
      "| - AerSimulator('aer_simulator_superop')  AerSimulator('aer_simulator_superop')\n",
      "| - QasmSimulator('qasm_simulator') ...... QasmSimulator('qasm_simulator')\n",
      "| - StatevectorSimulator('statevector_simulator')  StatevectorSimulator('statevector_simulator')\n",
      "| - UnitarySimulator('unitary_simulator')  UnitarySimulator('unitary_simulator')\n",
      "| Via AerSimulator, which is a direct call:\n",
      "| - AerSimulator('aer_simulator') ........ AerSimulator('aer_simulator')\n"
     ]
    },
    {
     "data": {
      "text/plain": [
       "AerSimulator('aer_simulator')"
      ]
     },
     "metadata": {},
     "output_type": "display_data"
    }
   ],
   "source": [
    "try:\n",
    "    from qiskit_aer import AerProvider, AerSimulator\n",
    "\n",
    "    print(\"| Via AerProvider, which can call by '.get_backend':\")\n",
    "    aer_provider = AerProvider()\n",
    "    for backend_wrapper in aer_provider.backends():\n",
    "        print(\n",
    "            \"| - \"\n",
    "            + (str(backend_wrapper) + \" \").ljust(38, \".\")\n",
    "            + \" \"\n",
    "            + repr(backend_wrapper)\n",
    "        )\n",
    "\n",
    "    print(\"| Via AerSimulator, which is a direct call:\")\n",
    "    aer_simulator = AerSimulator()\n",
    "    print(\n",
    "        \"| - \" + (str(aer_simulator) + \" \").ljust(38, \".\") + \" \" + repr(aer_simulator)\n",
    "    )\n",
    "\n",
    "    display(aer_simulator)\n",
    "except ImportError as e:\n",
    "    print(\n",
    "        \"| - You do not install qiskit_aer yet, install by using 'pip install qiskit-aer'.\"\n",
    "    )"
   ]
  },
  {
   "cell_type": "markdown",
   "metadata": {},
   "source": [
    "### 3. Access `qiskit-aer-gpu`:\n",
    "   - Ref: https://qiskit.github.io/qiskit-aer/getting_started.html"
   ]
  },
  {
   "cell_type": "code",
   "execution_count": 5,
   "metadata": {},
   "outputs": [
    {
     "name": "stdout",
     "output_type": "stream",
     "text": [
      "| - Check the available devices: ('CPU',)\n",
      "| - Then set option as GPU\n",
      "| - And check again:\n",
      "| - AerSimulator('aer_simulator') ........ AerSimulator('aer_simulator')\n"
     ]
    },
    {
     "data": {
      "text/plain": [
       "AerSimulator('aer_simulator')"
      ]
     },
     "metadata": {},
     "output_type": "display_data"
    }
   ],
   "source": [
    "try:\n",
    "    aer_simulator_gpu = AerSimulator()\n",
    "\n",
    "    print(\"| - Check the available devices:\", aer_simulator_gpu.available_devices())\n",
    "\n",
    "    print(\"| - Then set option as GPU\")\n",
    "    aer_simulator_gpu.set_options(device=\"GPU\")\n",
    "\n",
    "    print(\"| - And check again:\")\n",
    "    print(\n",
    "        \"| - \"\n",
    "        + (str(aer_simulator_gpu) + \" \").ljust(38, \".\")\n",
    "        + \" \"\n",
    "        + repr(aer_simulator_gpu)\n",
    "    )\n",
    "\n",
    "    display(aer_simulator_gpu)\n",
    "except ImportError as e:\n",
    "    print(\n",
    "        \"| - You do not install qiskit_aer yet, install by using 'pip install qiskit-aer'.\"\n",
    "    )"
   ]
  },
  {
   "cell_type": "markdown",
   "metadata": {},
   "source": [
    "---\n",
    "\n",
    "## A01.02 - FackBackend\n"
   ]
  },
  {
   "cell_type": "markdown",
   "metadata": {},
   "source": [
    "### 1. From `qiskit <= 0.46.0`:\n"
   ]
  },
  {
   "cell_type": "code",
   "execution_count": 6,
   "metadata": {},
   "outputs": [
    {
     "name": "stdout",
     "output_type": "stream",
     "text": [
      "| - Your qiskit version does not support fake_provider.\n"
     ]
    }
   ],
   "source": [
    "try:\n",
    "    from qiskit.providers.fake_provider import(\n",
    "        FakeProvider as FakeProviderDep,\n",
    "        FakeProviderForBackendV2 as FakeProviderForBackendV2Dep,  \n",
    "    )\n",
    "    fake_provider_v1_old = FakeProviderDep()\n",
    "    fake_provider_v2_old = FakeProviderForBackendV2Dep()\n",
    "    print(\"| - Fake Backend from 'qiskit'\")\n",
    "    print(\"| - BackendV1\")\n",
    "    print([b.name() for b in fake_provider_v1_old.backends()])\n",
    "    print(\"| - BackendV2\")\n",
    "    print([b.name for b in fake_provider_v2_old.backends()])\n",
    "except ImportError as e:\n",
    "    print(\"| - Your qiskit version does not support fake_provider.\")"
   ]
  },
  {
   "cell_type": "markdown",
   "metadata": {},
   "source": [
    "### 2. From `qiskit-ibm-runtime`:\n",
    "\n",
    "- In version `0.17.0`, due to [this issue #1318](https://github.com/Qiskit/qiskit-ibm-runtime/issues/1318), `FakeBackend` is not available."
   ]
  },
  {
   "cell_type": "code",
   "execution_count": 7,
   "metadata": {},
   "outputs": [
    {
     "name": "stdout",
     "output_type": "stream",
     "text": [
      "| - Fake Backend from 'qiskit-ibm-runtime'\n",
      "| - BackendV1\n",
      "['fake_almaden', 'fake_armonk', 'fake_athens', 'fake_belem', 'fake_boeblingen', 'fake_bogota', 'fake_brooklyn', 'fake_burlington', 'fake_cairo', 'fake_cambridge', 'fake_cambridge', 'fake_casablanca', 'fake_essex', 'fake_guadalupe', 'fake_hanoi', 'fake_jakarta', 'fake_johannesburg', 'fake_kolkata', 'fake_lagos', 'fake_lima', 'fake_london', 'fake_manila', 'fake_manhattan', 'fake_melbourne', 'fake_montreal', 'fake_mumbai', 'fake_nairobi', 'fake_ourense', 'fake_paris', 'fake_poughkeepsie', 'fake_quito', 'fake_rochester', 'fake_rome', 'fake_rueschlikon', 'fake_santiago', 'fake_singapore', 'fake_sydney', 'fake_tenerife', 'fake_tokyo', 'fake_toronto', 'fake_valencia', 'fake_vigo', 'fake_washington', 'fake_yorktown']\n",
      "| - BackendV2\n",
      "['fake_algiers', 'fake_almaden', 'fake_armonk', 'fake_athens', 'fake_auckland', 'fake_belem', 'fake_boeblingen', 'fake_bogota', 'fake_brisbane', 'fake_brooklyn', 'fake_burlington', 'fake_cairo', 'fake_cambridge', 'fake_casablanca', 'fake_cusco', 'fake_essex', 'fake_fractional', 'fake_geneva', 'fake_guadalupe', 'fake_hanoi', 'fake_jakarta', 'fake_johannesburg', 'fake_kawasaki', 'fake_kolkata', 'fake_kyiv', 'fake_kyoto', 'fake_lagos', 'fake_lima', 'fake_london', 'fake_manhattan', 'fake_manila', 'fake_melbourne', 'fake_montreal', 'fake_mumbai', 'fake_nairobi', 'fake_osaka', 'fake_oslo', 'fake_ourense', 'fake_paris', 'fake_peekskill', 'fake_perth', 'fake_prague', 'fake_poughkeepsie', 'fake_quebec', 'fake_quito', 'fake_rochester', 'fake_rome', 'fake_santiago', 'fake_sherbrooke', 'fake_singapore', 'fake_sydney', 'fake_torino', 'fake_toronto', 'fake_valencia', 'fake_vigo', 'fake_washington', 'fake_yorktown']\n"
     ]
    },
    {
     "name": "stderr",
     "output_type": "stream",
     "text": [
      "/tmp/ipykernel_4129984/404226071.py:6: DeprecationWarning: V1 fake backends and FakeProvider() are deprecated as of qiskit-ibm-runtime 0.24 and will be removed no sooner than 3 months after the release date. Please use FakeProviderForBackendV2() instead.\n",
      "  fake_provider_v1_new = FakeProviderIndep()\n"
     ]
    }
   ],
   "source": [
    "try:\n",
    "    from qiskit_ibm_runtime.fake_provider import (\n",
    "        FakeProvider as FakeProviderIndep,\n",
    "        FakeProviderForBackendV2 as FakeProviderForBackendV2Indep,\n",
    "    )\n",
    "    fake_provider_v1_new = FakeProviderIndep()\n",
    "    fake_provider_v2_new = FakeProviderForBackendV2Indep()\n",
    "    print(\"| - Fake Backend from 'qiskit-ibm-runtime'\")\n",
    "    print(\"| - BackendV1\")\n",
    "    print([b.name() for b in fake_provider_v1_new.backends()])\n",
    "    print(\"| - BackendV2\")\n",
    "    print([b.name for b in fake_provider_v2_new.backends()])\n",
    "except ImportError as e:\n",
    "    print(\"| - Your qiskit version does not support fake_provider.\")\n",
    "except FileNotFoundError as e:\n",
    "    print(e)\n",
    "    print(\"| - The version of 'qiskit-ibm-runtime' may be 0.17.0\")\n",
    "    print(\"| - Fake Backend is not available in this version, consider to use other version.\")\n",
    "    print(\"| - For more detail, see: https://github.com/Qiskit/qiskit-ibm-runtime/issues/1318\")"
   ]
  },
  {
   "cell_type": "markdown",
   "metadata": {},
   "source": [
    "---\n",
    "\n",
    "## A01.03 - Backend Wrapper\n",
    "\n",
    "As previously mentioned, getting a simulator backend is complicated. So `Qurry` introduce a wrapper to make it easier to get a simulator backend."
   ]
  },
  {
   "cell_type": "code",
   "execution_count": 8,
   "metadata": {},
   "outputs": [
    {
     "data": {
      "text/plain": [
       "AerSimulator('aer_simulator')"
      ]
     },
     "execution_count": 8,
     "metadata": {},
     "output_type": "execute_result"
    }
   ],
   "source": [
    "from qurry import BackendWrapper\n",
    "\n",
    "backend_wrapper = BackendWrapper()\n",
    "backend_wrapper(\"aer\")"
   ]
  },
  {
   "cell_type": "markdown",
   "metadata": {},
   "source": [
    "- If your environment includes the GPU acceleration, `qiskit-aer-gpu`, it will be check the availability to access, if does, the GPU backend will also be available."
   ]
  },
  {
   "cell_type": "code",
   "execution_count": 9,
   "metadata": {},
   "outputs": [
    {
     "name": "stdout",
     "output_type": "stream",
     "text": [
      "| Does we have GPU backend to access: False\n",
      "| - There is not GPU backend to access: 'aer_gpu' unknown backend or backend callsign.\n"
     ]
    }
   ],
   "source": [
    "print(\"| Does we have GPU backend to access:\", backend_wrapper.is_aer_gpu)\n",
    "try:\n",
    "    # If you have GPU, you can use this backend.\n",
    "    display(backend_wrapper(\"aer_gpu\"))\n",
    "except ValueError as err:\n",
    "    print(\"| - There is not GPU backend to access:\", err)"
   ]
  },
  {
   "cell_type": "code",
   "execution_count": 10,
   "metadata": {},
   "outputs": [
    {
     "name": "stdout",
     "output_type": "stream",
     "text": [
      "------------------------------------------------------------\n",
      " ### BackendWrapper Statesheet\n",
      "------------------------------------------------------------\n",
      " #### Simulator\n",
      " - Aer GPU ........................... False\n",
      " - Simulator Provider by ............. qiskit_aer\n",
      "   aer, aer_statevector, aer_density_matrix,\n",
      "   aer_stabilizer, aer_matrix_product_state, aer_extended_stabilizer,\n",
      "   aer_unitary, aer_superop\n",
      " - Available Simulator Backends Callsign\n",
      "   - state ............................. statevector\n",
      "   - aer_state ......................... aer_statevector\n",
      "   - aer_density ....................... aer_density_matrix\n",
      "   - aer_state_gpu ..................... aer_statevector_gpu\n",
      "   - aer_density_gpu ................... aer_density_matrix_gpu\n",
      "------------------------------------------------------------\n",
      " #### IBM\n",
      "   No Backends Available. Real backends need to be loaded by 'BackendManager' instead of 'BackendWrapper'.\n",
      "   No Callsign Added\n",
      "------------------------------------------------------------\n",
      " #### Fake\n",
      " - Available Fake Backends\n",
      "   No Backends Available. Choose fake version when initializing the backend wrapper.\n",
      "   No Callsign Added\n",
      "------------------------------------------------------------\n",
      " #### Extra\n",
      "   No Backends Available.\n",
      "   No Callsign Added\n",
      "\n"
     ]
    },
    {
     "data": {
      "text/plain": [
       "{'sim': {'aer': AerSimulator('aer_simulator'),\n",
       "  'aer_statevector': AerSimulator('aer_simulator_statevector'),\n",
       "  'aer_density_matrix': AerSimulator('aer_simulator_density_matrix'),\n",
       "  'aer_stabilizer': AerSimulator('aer_simulator_stabilizer'),\n",
       "  'aer_matrix_product_state': AerSimulator('aer_simulator_matrix_product_state'),\n",
       "  'aer_extended_stabilizer': AerSimulator('aer_simulator_extended_stabilizer'),\n",
       "  'aer_unitary': AerSimulator('aer_simulator_unitary'),\n",
       "  'aer_superop': AerSimulator('aer_simulator_superop')},\n",
       " 'real': {},\n",
       " 'fake': {},\n",
       " 'extra': {}}"
      ]
     },
     "execution_count": 10,
     "metadata": {},
     "output_type": "execute_result"
    }
   ],
   "source": [
    "print(backend_wrapper.statesheet())\n",
    "backend_wrapper.available_backends"
   ]
  },
  {
   "cell_type": "markdown",
   "metadata": {},
   "source": [
    "- Also, the wrapper can import the fake backend, choosing the fake backend version than it will be imported."
   ]
  },
  {
   "cell_type": "code",
   "execution_count": 11,
   "metadata": {},
   "outputs": [],
   "source": [
    "backend_wrapper_with_fake = BackendWrapper(fake_version=\"v2\")"
   ]
  },
  {
   "cell_type": "code",
   "execution_count": 12,
   "metadata": {},
   "outputs": [
    {
     "name": "stdout",
     "output_type": "stream",
     "text": [
      "------------------------------------------------------------\n",
      " ### BackendWrapper Statesheet\n",
      "------------------------------------------------------------\n",
      " #### Simulator\n",
      " - Aer GPU ........................... False\n",
      " - Simulator Provider by ............. qiskit_aer\n",
      "   aer, aer_statevector, aer_density_matrix,\n",
      "   aer_stabilizer, aer_matrix_product_state, aer_extended_stabilizer,\n",
      "   aer_unitary, aer_superop\n",
      " - Available Simulator Backends Callsign\n",
      "   - state ............................. statevector\n",
      "   - aer_state ......................... aer_statevector\n",
      "   - aer_density ....................... aer_density_matrix\n",
      "   - aer_state_gpu ..................... aer_statevector_gpu\n",
      "   - aer_density_gpu ................... aer_density_matrix_gpu\n",
      "------------------------------------------------------------\n",
      " #### IBM\n",
      "   No Backends Available. Real backends need to be loaded by 'BackendManager' instead of 'BackendWrapper'.\n",
      "   No Callsign Added\n",
      "------------------------------------------------------------\n",
      " #### Fake\n",
      " - Fake Provider by .................. FakeProviderV2\n",
      " - Available Fake Backends\n",
      "   fake_algiers, fake_almaden, fake_armonk,\n",
      "   fake_athens, fake_auckland, fake_belem,\n",
      "   fake_boeblingen, fake_bogota, fake_brisbane,\n",
      "   fake_brooklyn, fake_burlington, fake_cairo,\n",
      "   fake_cambridge, fake_casablanca, fake_cusco,\n",
      "   fake_essex, fake_fractional, fake_geneva,\n",
      "   fake_guadalupe, fake_hanoi, fake_jakarta,\n",
      "   fake_johannesburg, fake_kawasaki, fake_kolkata,\n",
      "   fake_kyiv, fake_kyoto, fake_lagos,\n",
      "   fake_lima, fake_london, fake_manhattan,\n",
      "   fake_manila, fake_melbourne, fake_montreal,\n",
      "   fake_mumbai, fake_nairobi, fake_osaka,\n",
      "   fake_oslo, fake_ourense, fake_paris,\n",
      "   fake_peekskill, fake_perth, fake_prague,\n",
      "   fake_poughkeepsie, fake_quebec, fake_quito,\n",
      "   fake_rochester, fake_rome, fake_santiago,\n",
      "   fake_sherbrooke, fake_singapore, fake_sydney,\n",
      "   fake_torino, fake_toronto, fake_valencia,\n",
      "   fake_vigo, fake_washington, fake_yorktown,\n",
      " - Available Fake Backends Callsign\n",
      "   - fake_algiers ...................... fake_algiers\n",
      "   - fake_almaden ...................... fake_almaden\n",
      "   - fake_armonk ....................... fake_armonk\n",
      "   - fake_athens ....................... fake_athens\n",
      "   - fake_auckland ..................... fake_auckland\n",
      "   - fake_belem ........................ fake_belem\n",
      "   - fake_boeblingen ................... fake_boeblingen\n",
      "   - fake_bogota ....................... fake_bogota\n",
      "   - fake_brisbane ..................... fake_brisbane\n",
      "   - fake_brooklyn ..................... fake_brooklyn\n",
      "   - fake_burlington ................... fake_burlington\n",
      "   - fake_cairo ........................ fake_cairo\n",
      "   - fake_cambridge .................... fake_cambridge\n",
      "   - fake_casablanca ................... fake_casablanca\n",
      "   - fake_cusco ........................ fake_cusco\n",
      "   - fake_essex ........................ fake_essex\n",
      "   - fake_fractional ................... fake_fractional\n",
      "   - fake_geneva ....................... fake_geneva\n",
      "   - fake_guadalupe .................... fake_guadalupe\n",
      "   - fake_hanoi ........................ fake_hanoi\n",
      "   - fake_jakarta ...................... fake_jakarta\n",
      "   - fake_johannesburg ................. fake_johannesburg\n",
      "   - fake_kawasaki ..................... fake_kawasaki\n",
      "   - fake_kolkata ...................... fake_kolkata\n",
      "   - fake_kyiv ......................... fake_kyiv\n",
      "   - fake_kyoto ........................ fake_kyoto\n",
      "   - fake_lagos ........................ fake_lagos\n",
      "   - fake_lima ......................... fake_lima\n",
      "   - fake_london ....................... fake_london\n",
      "   - fake_manhattan .................... fake_manhattan\n",
      "   - fake_manila ....................... fake_manila\n",
      "   - fake_melbourne .................... fake_melbourne\n",
      "   - fake_montreal ..................... fake_montreal\n",
      "   - fake_mumbai ....................... fake_mumbai\n",
      "   - fake_nairobi ...................... fake_nairobi\n",
      "   - fake_osaka ........................ fake_osaka\n",
      "   - fake_oslo ......................... fake_oslo\n",
      "   - fake_ourense ...................... fake_ourense\n",
      "   - fake_paris ........................ fake_paris\n",
      "   - fake_peekskill .................... fake_peekskill\n",
      "   - fake_perth ........................ fake_perth\n",
      "   - fake_prague ....................... fake_prague\n",
      "   - fake_poughkeepsie ................. fake_poughkeepsie\n",
      "   - fake_quebec ....................... fake_quebec\n",
      "   - fake_quito ........................ fake_quito\n",
      "   - fake_rochester .................... fake_rochester\n",
      "   - fake_rome ......................... fake_rome\n",
      "   - fake_santiago ..................... fake_santiago\n",
      "   - fake_sherbrooke ................... fake_sherbrooke\n",
      "   - fake_singapore .................... fake_singapore\n",
      "   - fake_sydney ....................... fake_sydney\n",
      "   - fake_torino ....................... fake_torino\n",
      "   - fake_toronto ...................... fake_toronto\n",
      "   - fake_valencia ..................... fake_valencia\n",
      "   - fake_vigo ......................... fake_vigo\n",
      "   - fake_washington ................... fake_washington\n",
      "   - fake_yorktown ..................... fake_yorktown\n",
      "   - fake_qasm ......................... fake_qasm_simulator\n",
      "------------------------------------------------------------\n",
      " #### Extra\n",
      "   No Backends Available.\n",
      "   No Callsign Added\n",
      "\n"
     ]
    },
    {
     "data": {
      "text/plain": [
       "{'sim': {'aer': AerSimulator('aer_simulator'),\n",
       "  'aer_statevector': AerSimulator('aer_simulator_statevector'),\n",
       "  'aer_density_matrix': AerSimulator('aer_simulator_density_matrix'),\n",
       "  'aer_stabilizer': AerSimulator('aer_simulator_stabilizer'),\n",
       "  'aer_matrix_product_state': AerSimulator('aer_simulator_matrix_product_state'),\n",
       "  'aer_extended_stabilizer': AerSimulator('aer_simulator_extended_stabilizer'),\n",
       "  'aer_unitary': AerSimulator('aer_simulator_unitary'),\n",
       "  'aer_superop': AerSimulator('aer_simulator_superop')},\n",
       " 'real': {},\n",
       " 'fake': {'fake_algiers': <qiskit_ibm_runtime.fake_provider.backends.algiers.fake_algiers.FakeAlgiers at 0x7d9408ba4f50>,\n",
       "  'fake_almaden': <qiskit_ibm_runtime.fake_provider.backends.almaden.fake_almaden.FakeAlmadenV2 at 0x7d9408bd70b0>,\n",
       "  'fake_armonk': <qiskit_ibm_runtime.fake_provider.backends.armonk.fake_armonk.FakeArmonkV2 at 0x7d9444bca6f0>,\n",
       "  'fake_athens': <qiskit_ibm_runtime.fake_provider.backends.athens.fake_athens.FakeAthensV2 at 0x7d9408bee8d0>,\n",
       "  'fake_auckland': <qiskit_ibm_runtime.fake_provider.backends.auckland.fake_auckland.FakeAuckland at 0x7d9408bfcc20>,\n",
       "  'fake_belem': <qiskit_ibm_runtime.fake_provider.backends.belem.fake_belem.FakeBelemV2 at 0x7d940812f050>,\n",
       "  'fake_boeblingen': <qiskit_ibm_runtime.fake_provider.backends.boeblingen.fake_boeblingen.FakeBoeblingenV2 at 0x7d94081393a0>,\n",
       "  'fake_bogota': <qiskit_ibm_runtime.fake_provider.backends.bogota.fake_bogota.FakeBogotaV2 at 0x7d9408165460>,\n",
       "  'fake_brisbane': <qiskit_ibm_runtime.fake_provider.backends.brisbane.fake_brisbane.FakeBrisbane at 0x7d9408167830>,\n",
       "  'fake_brooklyn': <qiskit_ibm_runtime.fake_provider.backends.brooklyn.fake_brooklyn.FakeBrooklynV2 at 0x7d9407725fa0>,\n",
       "  'fake_burlington': <qiskit_ibm_runtime.fake_provider.backends.burlington.fake_burlington.FakeBurlingtonV2 at 0x7d940779a6c0>,\n",
       "  'fake_cairo': <qiskit_ibm_runtime.fake_provider.backends.cairo.fake_cairo.FakeCairoV2 at 0x7d940779a6f0>,\n",
       "  'fake_cambridge': <qiskit_ibm_runtime.fake_provider.backends.cambridge.fake_cambridge.FakeCambridgeV2 at 0x7d94077c7620>,\n",
       "  'fake_casablanca': <qiskit_ibm_runtime.fake_provider.backends.casablanca.fake_casablanca.FakeCasablancaV2 at 0x7d94077c7650>,\n",
       "  'fake_cusco': <qiskit_ibm_runtime.fake_provider.backends.cusco.fake_cusco.FakeCusco at 0x7d94077daa80>,\n",
       "  'fake_essex': <qiskit_ibm_runtime.fake_provider.backends.essex.fake_essex.FakeEssexV2 at 0x7d9406d991f0>,\n",
       "  'fake_fractional': <qiskit_ibm_runtime.fake_provider.backends.fractional.fake_fractional.FakeFractionalBackend at 0x7d9406d99220>,\n",
       "  'fake_geneva': <qiskit_ibm_runtime.fake_provider.backends.geneva.fake_geneva.FakeGeneva at 0x7d9406d9bb60>,\n",
       "  'fake_guadalupe': <qiskit_ibm_runtime.fake_provider.backends.guadalupe.fake_guadalupe.FakeGuadalupeV2 at 0x7d9406dde060>,\n",
       "  'fake_hanoi': <qiskit_ibm_runtime.fake_provider.backends.hanoi.fake_hanoi.FakeHanoiV2 at 0x7d9406df8440>,\n",
       "  'fake_jakarta': <qiskit_ibm_runtime.fake_provider.backends.jakarta.fake_jakarta.FakeJakartaV2 at 0x7d9406332840>,\n",
       "  'fake_johannesburg': <qiskit_ibm_runtime.fake_provider.backends.johannesburg.fake_johannesburg.FakeJohannesburgV2 at 0x7d940633d7c0>,\n",
       "  'fake_kawasaki': <qiskit_ibm_runtime.fake_provider.backends.kawasaki.fake_kawasaki.FakeKawasaki at 0x7d940633d7f0>,\n",
       "  'fake_kolkata': <qiskit_ibm_runtime.fake_provider.backends.kolkata.fake_kolkata.FakeKolkataV2 at 0x7d9405906d20>,\n",
       "  'fake_kyiv': <qiskit_ibm_runtime.fake_provider.backends.kyiv.fake_kyiv.FakeKyiv at 0x7d940593d1f0>,\n",
       "  'fake_kyoto': <qiskit_ibm_runtime.fake_provider.backends.kyoto.fake_kyoto.FakeKyoto at 0x7d94059f3920>,\n",
       "  'fake_lagos': <qiskit_ibm_runtime.fake_provider.backends.lagos.fake_lagos.FakeLagosV2 at 0x7d9404fae060>,\n",
       "  'fake_lima': <qiskit_ibm_runtime.fake_provider.backends.lima.fake_lima.FakeLimaV2 at 0x7d9404fc4fb0>,\n",
       "  'fake_london': <qiskit_ibm_runtime.fake_provider.backends.london.fake_london.FakeLondonV2 at 0x7d9404fc7320>,\n",
       "  'fake_manhattan': <qiskit_ibm_runtime.fake_provider.backends.manhattan.fake_manhattan.FakeManhattanV2 at 0x7d9404fc7350>,\n",
       "  'fake_manila': <qiskit_ibm_runtime.fake_provider.backends.manila.fake_manila.FakeManilaV2 at 0x7d940453fef0>,\n",
       "  'fake_melbourne': <qiskit_ibm_runtime.fake_provider.backends.melbourne.fake_melbourne.FakeMelbourneV2 at 0x7d940454a330>,\n",
       "  'fake_montreal': <qiskit_ibm_runtime.fake_provider.backends.montreal.fake_montreal.FakeMontrealV2 at 0x7d940454a360>,\n",
       "  'fake_mumbai': <qiskit_ibm_runtime.fake_provider.backends.mumbai.fake_mumbai.FakeMumbaiV2 at 0x7d940458cd70>,\n",
       "  'fake_nairobi': <qiskit_ibm_runtime.fake_provider.backends.nairobi.fake_nairobi.FakeNairobiV2 at 0x7d94045bf170>,\n",
       "  'fake_osaka': <qiskit_ibm_runtime.fake_provider.backends.osaka.fake_osaka.FakeOsaka at 0x7d94045c60f0>,\n",
       "  'fake_oslo': <qiskit_ibm_runtime.fake_provider.backends.oslo.fake_oslo.FakeOslo at 0x7d9403b88830>,\n",
       "  'fake_ourense': <qiskit_ibm_runtime.fake_provider.backends.ourense.fake_ourense.FakeOurenseV2 at 0x7d9403b8b830>,\n",
       "  'fake_paris': <qiskit_ibm_runtime.fake_provider.backends.paris.fake_paris.FakeParisV2 at 0x7d9403b8b860>,\n",
       "  'fake_peekskill': <qiskit_ibm_runtime.fake_provider.backends.peekskill.fake_peekskill.FakePeekskill at 0x7d9403bd2270>,\n",
       "  'fake_perth': <qiskit_ibm_runtime.fake_provider.backends.perth.fake_perth.FakePerth at 0x7d9403bf6c00>,\n",
       "  'fake_prague': <qiskit_ibm_runtime.fake_provider.backends.prague.fake_prague.FakePrague at 0x7d9403105b80>,\n",
       "  'fake_poughkeepsie': <qiskit_ibm_runtime.fake_provider.backends.poughkeepsie.fake_poughkeepsie.FakePoughkeepsieV2 at 0x7d9403138860>,\n",
       "  'fake_quebec': <qiskit_ibm_runtime.fake_provider.backends.quebec.fake_quebec.FakeQuebec at 0x7d9403138890>,\n",
       "  'fake_quito': <qiskit_ibm_runtime.fake_provider.backends.quito.fake_quito.FakeQuitoV2 at 0x7d9402704260>,\n",
       "  'fake_rochester': <qiskit_ibm_runtime.fake_provider.backends.rochester.fake_rochester.FakeRochesterV2 at 0x7d94027065d0>,\n",
       "  'fake_rome': <qiskit_ibm_runtime.fake_provider.backends.rome.fake_rome.FakeRomeV2 at 0x7d9402706600>,\n",
       "  'fake_santiago': <qiskit_ibm_runtime.fake_provider.backends.santiago.fake_santiago.FakeSantiagoV2 at 0x7d940271cec0>,\n",
       "  'fake_sherbrooke': <qiskit_ibm_runtime.fake_provider.backends.sherbrooke.fake_sherbrooke.FakeSherbrooke at 0x7d940271f200>,\n",
       "  'fake_singapore': <qiskit_ibm_runtime.fake_provider.backends.singapore.fake_singapore.FakeSingaporeV2 at 0x7d9401d120f0>,\n",
       "  'fake_sydney': <qiskit_ibm_runtime.fake_provider.backends.sydney.fake_sydney.FakeSydneyV2 at 0x7d9401d12180>,\n",
       "  'fake_torino': <qiskit_ibm_runtime.fake_provider.backends.torino.fake_torino.FakeTorino at 0x7d9401d57410>,\n",
       "  'fake_toronto': <qiskit_ibm_runtime.fake_provider.backends.toronto.fake_toronto.FakeTorontoV2 at 0x7d9401dfb6b0>,\n",
       "  'fake_valencia': <qiskit_ibm_runtime.fake_provider.backends.valencia.fake_valencia.FakeValenciaV2 at 0x7d940132daf0>,\n",
       "  'fake_vigo': <qiskit_ibm_runtime.fake_provider.backends.vigo.fake_vigo.FakeVigoV2 at 0x7d940132fd70>,\n",
       "  'fake_washington': <qiskit_ibm_runtime.fake_provider.backends.washington.fake_washington.FakeWashingtonV2 at 0x7d940132fda0>,\n",
       "  'fake_yorktown': <qiskit_ibm_runtime.fake_provider.backends.yorktown.fake_yorktown.FakeYorktownV2 at 0x7d940092af00>},\n",
       " 'extra': {}}"
      ]
     },
     "execution_count": 12,
     "metadata": {},
     "output_type": "execute_result"
    }
   ],
   "source": [
    "print(backend_wrapper_with_fake.statesheet())\n",
    "backend_wrapper_with_fake.available_backends"
   ]
  },
  {
   "cell_type": "markdown",
   "metadata": {},
   "source": [
    "---\n",
    "\n",
    "## A01.04 - All the methods in `qiskit` to get a real machine backend\n",
    "\n",
    "In Qiskit, there are also several real machine source. The most common is IBM Provider from `qiskit-ibm-provider` and `qiskit-ibm-runtime` or deprecated `qiskit-ibmq-provider`. To make it easier to use, we also create a wrapper to import backend and save your accounts.\n",
    "\n",
    "But let's see how to save accounts and import the backend in normal way."
   ]
  },
  {
   "cell_type": "markdown",
   "metadata": {},
   "source": [
    "### 1. `IBMProvider` from `qiskit-ibm-provider`:\n",
    "\n",
    "- Ref: https://docs.quantum.ibm.com/api/qiskit-ibm-provider/qiskit_ibm_provider.IBMProvider\n",
    "\n",
    "- `IBMProvider.save_account()`\n"
   ]
  },
  {
   "cell_type": "code",
   "execution_count": null,
   "metadata": {},
   "outputs": [
    {
     "name": "stdout",
     "output_type": "stream",
     "text": [
      "| - 'qiskit_ibm_provider' is not installed yet.\n"
     ]
    }
   ],
   "source": [
    "try:\n",
    "    from qiskit_ibm_provider import IBMProvider\n",
    "\n",
    "    # IBMProvider.save_account(\n",
    "    #     token=\"<INSERT_IBM_QUANTUM_TOKEN>\",\n",
    "    #     overwrite=False,  # If you want to overwrite the existing account, then set it as True\n",
    "    # )\n",
    "    \n",
    "    provider = IBMProvider()\n",
    "    print(provider)\n",
    "    display(provider.backends())\n",
    "except ImportError as e:\n",
    "    print(\"| - 'qiskit_ibm_provider' is not installed yet.\")"
   ]
  },
  {
   "cell_type": "markdown",
   "metadata": {},
   "source": [
    "### 2. `QiskitRuntimeService` from `qiskit-ibm-runtime`:\n",
    "\n",
    "- Ref: https://docs.quantum.ibm.com/api/qiskit-ibm-runtime/runtime_service\n",
    "- Ref: https://github.com/Qiskit/qiskit-ibm-runtime\n",
    "\n",
    "- `QiskitRuntimeService.save_account`"
   ]
  },
  {
   "cell_type": "code",
   "execution_count": 3,
   "metadata": {},
   "outputs": [
    {
     "data": {
      "text/plain": [
       "[<IBMBackend('ibm_brisbane')>,\n",
       " <IBMBackend('ibm_brussels')>,\n",
       " <IBMBackend('ibm_fez')>,\n",
       " <IBMBackend('ibm_kyiv')>,\n",
       " <IBMBackend('ibm_nazca')>,\n",
       " <IBMBackend('ibm_sherbrooke')>,\n",
       " <IBMBackend('ibm_strasbourg')>,\n",
       " <IBMBackend('ibm_torino')>]"
      ]
     },
     "metadata": {},
     "output_type": "display_data"
    }
   ],
   "source": [
    "try:\n",
    "    from qiskit_ibm_runtime import QiskitRuntimeService\n",
    "\n",
    "    # Save an IBM Cloud account.\n",
    "    # QiskitRuntimeService.save_account(\n",
    "    #     channel=\"ibm_cloud\", token=\"MY_IBM_CLOUD_API_KEY\", instance=\"MY_IBM_CLOUD_CRN\"\n",
    "    # )\n",
    "\n",
    "    # Save an IBM Quantum account.\n",
    "    # QiskitRuntimeService.save_account(channel=\"ibm_quantum\", token=\"MY_IBM_QUANTUM_TOKEN\")\n",
    "    \n",
    "    service = QiskitRuntimeService()\n",
    "\n",
    "    print(service)\n",
    "    display(service.backends())\n",
    "except ImportError as e:\n",
    "    print(\"| - 'qiskit_ibm_provider' is not installed yet.\")"
   ]
  },
  {
   "cell_type": "markdown",
   "metadata": {},
   "source": [
    "### 3. Deprecated `IBMQProvider` from `qiskit-ibmq-provider`:\n",
    "\n",
    "This is the old way to get the backend from IBM. It has been deprecated in current version of Qiskit.\n",
    "But there are still some people using it, so we will also show how to use it.\n",
    "\n",
    "- `IBMQ.save_account`"
   ]
  },
  {
   "cell_type": "code",
   "execution_count": null,
   "metadata": {},
   "outputs": [],
   "source": [
    "try:\n",
    "    from qiskit import IBMQ\n",
    "\n",
    "    # IBMQ.save_account(\n",
    "    #     token=\"<INSERT_IBM_QUANTUM_TOKEN>\",\n",
    "    #     overwrite=False,  # If you want to overwrite the existing account, then set it as True\n",
    "    # )\n",
    "    \n",
    "    IBMQ.load_account()\n",
    "    old_provider = IBMQ.get_provider(\n",
    "        hub=\"ibm-q\", group=\"open\", project=\"main\"\n",
    "    )  # You can change the hub, group, and project\n",
    "    \n",
    "    print(old_provider)\n",
    "    display(old_provider.backends())\n",
    "except ImportError as e:\n",
    "    print(\n",
    "        \"| - 'qiskit_ibmq_provider' is not installed yet, \"\n",
    "        \"but we recommend you that avoid to use \"\n",
    "        \"this module for it has been deprecated.\"\n",
    "    )"
   ]
  },
  {
   "cell_type": "markdown",
   "metadata": {},
   "source": [
    "---\n",
    "\n",
    "## A01.05 - Backend Manager\n",
    "\n",
    "- So far, we have shown you how to import the backend in the normal way. But it is still complicated to import the backend. So we introduce a more powerful class `backendManager` to import the backend more easily. It basically wraps the `backendWrapper` with `IBMProvider` from `qiskit-ibm-provider` and `IBMQProvider` from deprecated `qiskit-ibmq-provider` for old version user together.\n"
   ]
  },
  {
   "cell_type": "code",
   "execution_count": 4,
   "metadata": {},
   "outputs": [],
   "source": [
    "from qurry import BackendManager\n",
    "\n",
    "# BackendManager.save_account(\n",
    "#     token=\"<INSERT_IBM_QUANTUM_TOKEN>\",\n",
    "#     overwrite=False,  # If you want to overwrite the existing account, then set it as True\n",
    "# )"
   ]
  },
  {
   "cell_type": "code",
   "execution_count": 6,
   "metadata": {},
   "outputs": [
    {
     "name": "stdout",
     "output_type": "stream",
     "text": [
      "| Provider by 'qiskit_ibm_runtime'.\n"
     ]
    }
   ],
   "source": [
    "backend_manager = BackendManager(\n",
    "    hub=\"ibm-q\",\n",
    "    group=\"open\",\n",
    "    project=\"main\",\n",
    "    real_provider_source=\"qiskit_ibm_runtime\",\n",
    "    # You can change the provider source between 'qiskit_ibm_runtime', 'qiskit_ibmq_provider' and 'qiskit_ibm_provider'\n",
    ")"
   ]
  },
  {
   "cell_type": "markdown",
   "metadata": {},
   "source": [
    "- By using `backendManager`, you can easily import the backend and save your account. It will also check the availability of the backend and the account. If the backend is not available, it will show you the error message."
   ]
  },
  {
   "cell_type": "code",
   "execution_count": 7,
   "metadata": {},
   "outputs": [
    {
     "name": "stdout",
     "output_type": "stream",
     "text": [
      "------------------------------------------------------------\n",
      " ### BackendWrapper Statesheet\n",
      "------------------------------------------------------------\n",
      " #### Simulator\n",
      " - Aer GPU ........................... False\n",
      " - Simulator Provider by ............. qiskit_aer\n",
      "   aer, aer_statevector, aer_density_matrix,\n",
      "   aer_stabilizer, aer_matrix_product_state, aer_extended_stabilizer,\n",
      "   aer_unitary, aer_superop\n",
      " - Available Simulator Backends Callsign\n",
      "   - state ............................. statevector\n",
      "   - aer_state ......................... aer_statevector\n",
      "   - aer_density ....................... aer_density_matrix\n",
      "   - aer_state_gpu ..................... aer_statevector_gpu\n",
      "   - aer_density_gpu ................... aer_density_matrix_gpu\n",
      "------------------------------------------------------------\n",
      " #### IBM\n",
      " - IBM Real Provider by .............. qiskit_ibm_runtime\n",
      "   ibm_sherbrooke, ibm_kyiv, ibm_brisbane,\n",
      " - Available IBM Backends Callsign\n",
      "   - sherbrooke ........................ ibm_sherbrooke\n",
      "   - kyiv .............................. ibm_kyiv\n",
      "   - brisbane .......................... ibm_brisbane\n",
      "   - ibmq_qasm ......................... ibmq_qasm_simulator\n",
      "------------------------------------------------------------\n",
      " #### Fake\n",
      " - Available Fake Backends\n",
      "   No Backends Available. Choose fake version when initializing the backend wrapper.\n",
      "   No Callsign Added\n",
      "------------------------------------------------------------\n",
      " #### Extra\n",
      "   No Backends Available.\n",
      "   No Callsign Added\n",
      "\n"
     ]
    },
    {
     "data": {
      "text/plain": [
       "{'sim': {'aer': AerSimulator('aer_simulator'),\n",
       "  'aer_statevector': AerSimulator('aer_simulator_statevector'),\n",
       "  'aer_density_matrix': AerSimulator('aer_simulator_density_matrix'),\n",
       "  'aer_stabilizer': AerSimulator('aer_simulator_stabilizer'),\n",
       "  'aer_matrix_product_state': AerSimulator('aer_simulator_matrix_product_state'),\n",
       "  'aer_extended_stabilizer': AerSimulator('aer_simulator_extended_stabilizer'),\n",
       "  'aer_unitary': AerSimulator('aer_simulator_unitary'),\n",
       "  'aer_superop': AerSimulator('aer_simulator_superop')},\n",
       " 'real': {'ibm_sherbrooke': <IBMBackend('ibm_sherbrooke')>,\n",
       "  'ibm_kyiv': <IBMBackend('ibm_kyiv')>,\n",
       "  'ibm_brisbane': <IBMBackend('ibm_brisbane')>},\n",
       " 'fake': {},\n",
       " 'extra': {}}"
      ]
     },
     "execution_count": 7,
     "metadata": {},
     "output_type": "execute_result"
    }
   ],
   "source": [
    "print(backend_manager.statesheet())\n",
    "backend_manager.available_backends"
   ]
  },
  {
   "cell_type": "code",
   "execution_count": 8,
   "metadata": {},
   "outputs": [
    {
     "data": {
      "text/plain": [
       "AerSimulator('aer_simulator')"
      ]
     },
     "execution_count": 8,
     "metadata": {},
     "output_type": "execute_result"
    }
   ],
   "source": [
    "backend_manager(\"aer\")"
   ]
  },
  {
   "cell_type": "code",
   "execution_count": 9,
   "metadata": {},
   "outputs": [
    {
     "name": "stdout",
     "output_type": "stream",
     "text": [
      "| - There is no backend to access: 'ibmq_x2' unknown backend or backend callsign.\n"
     ]
    }
   ],
   "source": [
    "try:\n",
    "    backend_manager(\"ibmq_x2\")  # ibmq_x2 is a retired real quantum device\n",
    "except ValueError as err:\n",
    "    print(\"| - There is no backend to access:\", err)"
   ]
  },
  {
   "cell_type": "markdown",
   "metadata": {},
   "source": [
    "- Of course, you can also import fake backend by choosing the fake backend version."
   ]
  },
  {
   "cell_type": "code",
   "execution_count": 10,
   "metadata": {},
   "outputs": [
    {
     "name": "stdout",
     "output_type": "stream",
     "text": [
      "| Provider by 'qiskit_ibm_runtime'.\n"
     ]
    }
   ],
   "source": [
    "backend_manager_with_fake = BackendManager(\n",
    "    fake_version=\"v2\",\n",
    "    hub=\"ibm-q\",\n",
    "    group=\"open\",\n",
    "    project=\"main\",\n",
    ")"
   ]
  },
  {
   "cell_type": "code",
   "execution_count": 11,
   "metadata": {},
   "outputs": [
    {
     "name": "stdout",
     "output_type": "stream",
     "text": [
      "------------------------------------------------------------\n",
      " ### BackendWrapper Statesheet\n",
      "------------------------------------------------------------\n",
      " #### Simulator\n",
      " - Aer GPU ........................... False\n",
      " - Simulator Provider by ............. qiskit_aer\n",
      "   aer, aer_statevector, aer_density_matrix,\n",
      "   aer_stabilizer, aer_matrix_product_state, aer_extended_stabilizer,\n",
      "   aer_unitary, aer_superop\n",
      " - Available Simulator Backends Callsign\n",
      "   - state ............................. statevector\n",
      "   - aer_state ......................... aer_statevector\n",
      "   - aer_density ....................... aer_density_matrix\n",
      "   - aer_state_gpu ..................... aer_statevector_gpu\n",
      "   - aer_density_gpu ................... aer_density_matrix_gpu\n",
      "------------------------------------------------------------\n",
      " #### IBM\n",
      " - IBM Real Provider by .............. qiskit_ibm_runtime\n",
      "   ibm_sherbrooke, ibm_kyiv, ibm_brisbane,\n",
      " - Available IBM Backends Callsign\n",
      "   - sherbrooke ........................ ibm_sherbrooke\n",
      "   - kyiv .............................. ibm_kyiv\n",
      "   - brisbane .......................... ibm_brisbane\n",
      "   - ibmq_qasm ......................... ibmq_qasm_simulator\n",
      "------------------------------------------------------------\n",
      " #### Fake\n",
      " - Fake Provider by .................. FakeProviderV2\n",
      " - Available Fake Backends\n",
      "   fake_algiers, fake_almaden, fake_armonk,\n",
      "   fake_athens, fake_auckland, fake_belem,\n",
      "   fake_boeblingen, fake_bogota, fake_brisbane,\n",
      "   fake_brooklyn, fake_burlington, fake_cairo,\n",
      "   fake_cambridge, fake_casablanca, fake_cusco,\n",
      "   fake_essex, fake_fractional, fake_geneva,\n",
      "   fake_guadalupe, fake_hanoi, fake_jakarta,\n",
      "   fake_johannesburg, fake_kawasaki, fake_kolkata,\n",
      "   fake_kyiv, fake_kyoto, fake_lagos,\n",
      "   fake_lima, fake_london, fake_manhattan,\n",
      "   fake_manila, fake_melbourne, fake_montreal,\n",
      "   fake_mumbai, fake_nairobi, fake_osaka,\n",
      "   fake_oslo, fake_ourense, fake_paris,\n",
      "   fake_peekskill, fake_perth, fake_prague,\n",
      "   fake_poughkeepsie, fake_quebec, fake_quito,\n",
      "   fake_rochester, fake_rome, fake_santiago,\n",
      "   fake_sherbrooke, fake_singapore, fake_sydney,\n",
      "   fake_torino, fake_toronto, fake_valencia,\n",
      "   fake_vigo, fake_washington, fake_yorktown,\n",
      " - Available Fake Backends Callsign\n",
      "   - fake_algiers ...................... fake_algiers\n",
      "   - fake_almaden ...................... fake_almaden\n",
      "   - fake_armonk ....................... fake_armonk\n",
      "   - fake_athens ....................... fake_athens\n",
      "   - fake_auckland ..................... fake_auckland\n",
      "   - fake_belem ........................ fake_belem\n",
      "   - fake_boeblingen ................... fake_boeblingen\n",
      "   - fake_bogota ....................... fake_bogota\n",
      "   - fake_brisbane ..................... fake_brisbane\n",
      "   - fake_brooklyn ..................... fake_brooklyn\n",
      "   - fake_burlington ................... fake_burlington\n",
      "   - fake_cairo ........................ fake_cairo\n",
      "   - fake_cambridge .................... fake_cambridge\n",
      "   - fake_casablanca ................... fake_casablanca\n",
      "   - fake_cusco ........................ fake_cusco\n",
      "   - fake_essex ........................ fake_essex\n",
      "   - fake_fractional ................... fake_fractional\n",
      "   - fake_geneva ....................... fake_geneva\n",
      "   - fake_guadalupe .................... fake_guadalupe\n",
      "   - fake_hanoi ........................ fake_hanoi\n",
      "   - fake_jakarta ...................... fake_jakarta\n",
      "   - fake_johannesburg ................. fake_johannesburg\n",
      "   - fake_kawasaki ..................... fake_kawasaki\n",
      "   - fake_kolkata ...................... fake_kolkata\n",
      "   - fake_kyiv ......................... fake_kyiv\n",
      "   - fake_kyoto ........................ fake_kyoto\n",
      "   - fake_lagos ........................ fake_lagos\n",
      "   - fake_lima ......................... fake_lima\n",
      "   - fake_london ....................... fake_london\n",
      "   - fake_manhattan .................... fake_manhattan\n",
      "   - fake_manila ....................... fake_manila\n",
      "   - fake_melbourne .................... fake_melbourne\n",
      "   - fake_montreal ..................... fake_montreal\n",
      "   - fake_mumbai ....................... fake_mumbai\n",
      "   - fake_nairobi ...................... fake_nairobi\n",
      "   - fake_osaka ........................ fake_osaka\n",
      "   - fake_oslo ......................... fake_oslo\n",
      "   - fake_ourense ...................... fake_ourense\n",
      "   - fake_paris ........................ fake_paris\n",
      "   - fake_peekskill .................... fake_peekskill\n",
      "   - fake_perth ........................ fake_perth\n",
      "   - fake_prague ....................... fake_prague\n",
      "   - fake_poughkeepsie ................. fake_poughkeepsie\n",
      "   - fake_quebec ....................... fake_quebec\n",
      "   - fake_quito ........................ fake_quito\n",
      "   - fake_rochester .................... fake_rochester\n",
      "   - fake_rome ......................... fake_rome\n",
      "   - fake_santiago ..................... fake_santiago\n",
      "   - fake_sherbrooke ................... fake_sherbrooke\n",
      "   - fake_singapore .................... fake_singapore\n",
      "   - fake_sydney ....................... fake_sydney\n",
      "   - fake_torino ....................... fake_torino\n",
      "   - fake_toronto ...................... fake_toronto\n",
      "   - fake_valencia ..................... fake_valencia\n",
      "   - fake_vigo ......................... fake_vigo\n",
      "   - fake_washington ................... fake_washington\n",
      "   - fake_yorktown ..................... fake_yorktown\n",
      "   - fake_qasm ......................... fake_qasm_simulator\n",
      "------------------------------------------------------------\n",
      " #### Extra\n",
      "   No Backends Available.\n",
      "   No Callsign Added\n",
      "\n"
     ]
    },
    {
     "data": {
      "text/plain": [
       "{'sim': {'aer': AerSimulator('aer_simulator'),\n",
       "  'aer_statevector': AerSimulator('aer_simulator_statevector'),\n",
       "  'aer_density_matrix': AerSimulator('aer_simulator_density_matrix'),\n",
       "  'aer_stabilizer': AerSimulator('aer_simulator_stabilizer'),\n",
       "  'aer_matrix_product_state': AerSimulator('aer_simulator_matrix_product_state'),\n",
       "  'aer_extended_stabilizer': AerSimulator('aer_simulator_extended_stabilizer'),\n",
       "  'aer_unitary': AerSimulator('aer_simulator_unitary'),\n",
       "  'aer_superop': AerSimulator('aer_simulator_superop')},\n",
       " 'real': {'ibm_sherbrooke': <IBMBackend('ibm_sherbrooke')>,\n",
       "  'ibm_kyiv': <IBMBackend('ibm_kyiv')>,\n",
       "  'ibm_brisbane': <IBMBackend('ibm_brisbane')>},\n",
       " 'fake': {'fake_algiers': <qiskit_ibm_runtime.fake_provider.backends.algiers.fake_algiers.FakeAlgiers at 0x7b8132b8c620>,\n",
       "  'fake_almaden': <qiskit_ibm_runtime.fake_provider.backends.almaden.fake_almaden.FakeAlmadenV2 at 0x7b80fc179910>,\n",
       "  'fake_armonk': <qiskit_ibm_runtime.fake_provider.backends.armonk.fake_armonk.FakeArmonkV2 at 0x7b80fc179940>,\n",
       "  'fake_athens': <qiskit_ibm_runtime.fake_provider.backends.athens.fake_athens.FakeAthensV2 at 0x7b80fc191370>,\n",
       "  'fake_auckland': <qiskit_ibm_runtime.fake_provider.backends.auckland.fake_auckland.FakeAuckland at 0x7b80fc193740>,\n",
       "  'fake_belem': <qiskit_ibm_runtime.fake_provider.backends.belem.fake_belem.FakeBelemV2 at 0x7b80fc1cdb80>,\n",
       "  'fake_boeblingen': <qiskit_ibm_runtime.fake_provider.backends.boeblingen.fake_boeblingen.FakeBoeblingenV2 at 0x7b80fc1cfef0>,\n",
       "  'fake_bogota': <qiskit_ibm_runtime.fake_provider.backends.bogota.fake_bogota.FakeBogotaV2 at 0x7b80fc1f7f50>,\n",
       "  'fake_brisbane': <qiskit_ibm_runtime.fake_provider.backends.brisbane.fake_brisbane.FakeBrisbane at 0x7b80fb702360>,\n",
       "  'fake_brooklyn': <qiskit_ibm_runtime.fake_provider.backends.brooklyn.fake_brooklyn.FakeBrooklynV2 at 0x7b80fb7c4ad0>,\n",
       "  'fake_burlington': <qiskit_ibm_runtime.fake_provider.backends.burlington.fake_burlington.FakeBurlingtonV2 at 0x7b80fad3d1f0>,\n",
       "  'fake_cairo': <qiskit_ibm_runtime.fake_provider.backends.cairo.fake_cairo.FakeCairoV2 at 0x7b8148161e20>,\n",
       "  'fake_cambridge': <qiskit_ibm_runtime.fake_provider.backends.cambridge.fake_cambridge.FakeCambridgeV2 at 0x7b80fad6a0f0>,\n",
       "  'fake_casablanca': <qiskit_ibm_runtime.fake_provider.backends.casablanca.fake_casablanca.FakeCasablancaV2 at 0x7b813175e6c0>,\n",
       "  'fake_cusco': <qiskit_ibm_runtime.fake_provider.backends.cusco.fake_cusco.FakeCusco at 0x7b80fad7d4f0>,\n",
       "  'fake_essex': <qiskit_ibm_runtime.fake_provider.backends.essex.fake_essex.FakeEssexV2 at 0x7b80fa333bf0>,\n",
       "  'fake_fractional': <qiskit_ibm_runtime.fake_provider.backends.fractional.fake_fractional.FakeFractionalBackend at 0x7b80fa333c20>,\n",
       "  'fake_geneva': <qiskit_ibm_runtime.fake_provider.backends.geneva.fake_geneva.FakeGeneva at 0x7b80fa342570>,\n",
       "  'fake_guadalupe': <qiskit_ibm_runtime.fake_provider.backends.guadalupe.fake_guadalupe.FakeGuadalupeV2 at 0x7b80fa380a70>,\n",
       "  'fake_hanoi': <qiskit_ibm_runtime.fake_provider.backends.hanoi.fake_hanoi.FakeHanoiV2 at 0x7b80fa396db0>,\n",
       "  'fake_jakarta': <qiskit_ibm_runtime.fake_provider.backends.jakarta.fake_jakarta.FakeJakartaV2 at 0x7b80fa3d5220>,\n",
       "  'fake_johannesburg': <qiskit_ibm_runtime.fake_provider.backends.johannesburg.fake_johannesburg.FakeJohannesburgV2 at 0x7b80fa3e41a0>,\n",
       "  'fake_kawasaki': <qiskit_ibm_runtime.fake_provider.backends.kawasaki.fake_kawasaki.FakeKawasaki at 0x7b80fa3e41d0>,\n",
       "  'fake_kolkata': <qiskit_ibm_runtime.fake_provider.backends.kolkata.fake_kolkata.FakeKolkataV2 at 0x7b80f99a96a0>,\n",
       "  'fake_kyiv': <qiskit_ibm_runtime.fake_provider.backends.kyiv.fake_kyiv.FakeKyiv at 0x7b80f99d7b30>,\n",
       "  'fake_kyoto': <qiskit_ibm_runtime.fake_provider.backends.kyoto.fake_kyoto.FakeKyoto at 0x7b80f8f922a0>,\n",
       "  'fake_lagos': <qiskit_ibm_runtime.fake_provider.backends.lagos.fake_lagos.FakeLagosV2 at 0x7b80f8550a10>,\n",
       "  'fake_lima': <qiskit_ibm_runtime.fake_provider.backends.lima.fake_lima.FakeLimaV2 at 0x7b80f8553920>,\n",
       "  'fake_london': <qiskit_ibm_runtime.fake_provider.backends.london.fake_london.FakeLondonV2 at 0x7b80f8565cd0>,\n",
       "  'fake_manhattan': <qiskit_ibm_runtime.fake_provider.backends.manhattan.fake_manhattan.FakeManhattanV2 at 0x7b80f8565d00>,\n",
       "  'fake_manila': <qiskit_ibm_runtime.fake_provider.backends.manila.fake_manila.FakeManilaV2 at 0x7b80f85e28d0>,\n",
       "  'fake_melbourne': <qiskit_ibm_runtime.fake_provider.backends.melbourne.fake_melbourne.FakeMelbourneV2 at 0x7b80f85f0d10>,\n",
       "  'fake_montreal': <qiskit_ibm_runtime.fake_provider.backends.montreal.fake_montreal.FakeMontrealV2 at 0x7b80f85f0d40>,\n",
       "  'fake_mumbai': <qiskit_ibm_runtime.fake_provider.backends.mumbai.fake_mumbai.FakeMumbaiV2 at 0x7b80f7b1f710>,\n",
       "  'fake_nairobi': <qiskit_ibm_runtime.fake_provider.backends.nairobi.fake_nairobi.FakeNairobiV2 at 0x7b80f7b55b50>,\n",
       "  'fake_osaka': <qiskit_ibm_runtime.fake_provider.backends.osaka.fake_osaka.FakeOsaka at 0x7b80f7b68ad0>,\n",
       "  'fake_oslo': <qiskit_ibm_runtime.fake_provider.backends.oslo.fake_oslo.FakeOslo at 0x7b80f711b200>,\n",
       "  'fake_ourense': <qiskit_ibm_runtime.fake_provider.backends.ourense.fake_ourense.FakeOurenseV2 at 0x7b813175e4e0>,\n",
       "  'fake_paris': <qiskit_ibm_runtime.fake_provider.backends.paris.fake_paris.FakeParisV2 at 0x7b80f712a240>,\n",
       "  'fake_peekskill': <qiskit_ibm_runtime.fake_provider.backends.peekskill.fake_peekskill.FakePeekskill at 0x7b80f7168c20>,\n",
       "  'fake_perth': <qiskit_ibm_runtime.fake_provider.backends.perth.fake_perth.FakePerth at 0x7b80f718d5b0>,\n",
       "  'fake_prague': <qiskit_ibm_runtime.fake_provider.backends.prague.fake_prague.FakePrague at 0x7b80f71a0500>,\n",
       "  'fake_poughkeepsie': <qiskit_ibm_runtime.fake_provider.backends.poughkeepsie.fake_poughkeepsie.FakePoughkeepsieV2 at 0x7b80f71c71d0>,\n",
       "  'fake_quebec': <qiskit_ibm_runtime.fake_provider.backends.quebec.fake_quebec.FakeQuebec at 0x7b80f71c7200>,\n",
       "  'fake_quito': <qiskit_ibm_runtime.fake_provider.backends.quito.fake_quito.FakeQuitoV2 at 0x7b80f678eba0>,\n",
       "  'fake_rochester': <qiskit_ibm_runtime.fake_provider.backends.rochester.fake_rochester.FakeRochesterV2 at 0x7b80f679cf20>,\n",
       "  'fake_rome': <qiskit_ibm_runtime.fake_provider.backends.rome.fake_rome.FakeRomeV2 at 0x7b80f679cf50>,\n",
       "  'fake_santiago': <qiskit_ibm_runtime.fake_provider.backends.santiago.fake_santiago.FakeSantiagoV2 at 0x7b80f679f7a0>,\n",
       "  'fake_sherbrooke': <qiskit_ibm_runtime.fake_provider.backends.sherbrooke.fake_sherbrooke.FakeSherbrooke at 0x7b80f67bdbb0>,\n",
       "  'fake_singapore': <qiskit_ibm_runtime.fake_provider.backends.singapore.fake_singapore.FakeSingaporeV2 at 0x7b80f5da8a10>,\n",
       "  'fake_sydney': <qiskit_ibm_runtime.fake_provider.backends.sydney.fake_sydney.FakeSydneyV2 at 0x7b80f5da8a40>,\n",
       "  'fake_torino': <qiskit_ibm_runtime.fake_provider.backends.torino.fake_torino.FakeTorino at 0x7b80f5de9d60>,\n",
       "  'fake_toronto': <qiskit_ibm_runtime.fake_provider.backends.toronto.fake_toronto.FakeTorontoV2 at 0x7b80f538e000>,\n",
       "  'fake_valencia': <qiskit_ibm_runtime.fake_provider.backends.valencia.fake_valencia.FakeValenciaV2 at 0x7b813175e360>,\n",
       "  'fake_vigo': <qiskit_ibm_runtime.fake_provider.backends.vigo.fake_vigo.FakeVigoV2 at 0x7b80f53ca6c0>,\n",
       "  'fake_washington': <qiskit_ibm_runtime.fake_provider.backends.washington.fake_washington.FakeWashingtonV2 at 0x7b80f53ca720>,\n",
       "  'fake_yorktown': <qiskit_ibm_runtime.fake_provider.backends.yorktown.fake_yorktown.FakeYorktownV2 at 0x7b80f4fbd820>},\n",
       " 'extra': {}}"
      ]
     },
     "execution_count": 11,
     "metadata": {},
     "output_type": "execute_result"
    }
   ],
   "source": [
    "print(backend_manager_with_fake.statesheet())\n",
    "backend_manager_with_fake.available_backends"
   ]
  },
  {
   "cell_type": "markdown",
   "metadata": {},
   "source": [
    "---\n",
    "\n",
    "## Post-Process Availablities and Version Info\n",
    "\n",
    "We currently do not support Qsikit 1.0 for we are working on it, and we will support it in the future."
   ]
  },
  {
   "cell_type": "code",
   "execution_count": 12,
   "metadata": {},
   "outputs": [
    {
     "name": "stdout",
     "output_type": "stream",
     "text": [
      " | Qurry version: 0.9.2.dev1\n",
      "--------------------------------------------------------\n",
      " ### Qurry Post-Processing\n",
      "   - Backend Availability ................... Python Cython Rust  \n",
      " - randomized_measure\n",
      "   - entangled_entropy.entropy_core_2 ....... Yes    Depr.  Yes   \n",
      "   - entangle_entropy.purity_cell_2 ......... Yes    Depr.  Yes   \n",
      "   - wavefunction_overlap ................... Yes    Depr.  Yes   \n",
      "   - echo_cell .............................. Yes    Depr.  Error \n",
      " - utils\n",
      "   - randomized ............................. Yes    Depr.  Yes   \n",
      "   - construct .............................. Yes    No     Yes   \n",
      "   - dummy .................................. Yes    No     Yes   \n",
      " - hadamard_test\n",
      "   - purity_echo_core ....................... Yes    No     Yes   \n",
      " - magnet_square\n",
      "   - magnsq_core ............................ Yes    No     No    \n",
      "--------------------------------------------------------\n",
      "   + Yes ...... Working normally.\n",
      "   + Error .... Exception occurred.\n",
      "   + No ....... Not supported.\n",
      "   + Depr. .... Deprecated.\n",
      "--------------------------------------------------------\n",
      "\n",
      " | Qurry version: 0.9.2.dev1\n",
      "--------------------------------------------\n",
      " ### Qiskit version\n",
      " - main\n",
      "   - qiskit-aer .............. 0.15.0\n",
      "   - qiskit-aer-gpu .......... 0.14.2\n",
      "   - qiskit-ibm-runtime ...... 0.30.0\n",
      " - deprecated\n",
      " - into-community\n",
      "--------------------------------------------\n",
      " + qiskit-aer-gpu should have the same version as qiskit-aer.\n",
      "--------------------------------------------\n",
      "\n"
     ]
    }
   ],
   "source": [
    "from qurry.process import AVAIBILITY_STATESHEET\n",
    "from qurry.tools.qiskit_version import QISKIT_VERSION_STATESHEET\n",
    "\n",
    "print(AVAIBILITY_STATESHEET)\n",
    "print(QISKIT_VERSION_STATESHEET)"
   ]
  },
  {
   "cell_type": "code",
   "execution_count": null,
   "metadata": {},
   "outputs": [],
   "source": []
  }
 ],
 "metadata": {
  "kernelspec": {
   "display_name": "quantumsphere12",
   "language": "python",
   "name": "python3"
  },
  "language_info": {
   "codemirror_mode": {
    "name": "ipython",
    "version": 3
   },
   "file_extension": ".py",
   "mimetype": "text/x-python",
   "name": "python",
   "nbconvert_exporter": "python",
   "pygments_lexer": "ipython3",
   "version": "3.12.2"
  }
 },
 "nbformat": 4,
 "nbformat_minor": 2
}
