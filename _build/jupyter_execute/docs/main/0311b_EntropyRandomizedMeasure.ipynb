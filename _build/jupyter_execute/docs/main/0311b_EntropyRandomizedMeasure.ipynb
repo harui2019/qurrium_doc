{
 "cells": [
  {
   "cell_type": "markdown",
   "metadata": {},
   "source": [
    "## 3.1 EntropyMeasure\n",
    "\n",
    "The instance `EntropyMeasure` contains 2 methods, one is `EntropyHadamardTest` using Hadamard test, and the other is `EntropyRandomizedMeasure` using randomized measure, the default case.\n",
    "\n",
    "Both of them are used to calculate the entropy of a quantum state, but the calculation and post-processing are totally different.\n",
    "\n",
    "\n"
   ]
  },
  {
   "cell_type": "markdown",
   "metadata": {},
   "source": [
    "### 3.1.1 Randomized Measure\n",
    "\n",
    "This method is based on [Probing Rényi entanglement entropy via randomized measurements](https://www.science.org/doi/abs/10.1126/science.aau4963) with deplorizing error mitigation by [Simple mitigation of global depolarizing errors in quantum simulations](https://link.aps.org/doi/10.1103/PhysRevE.104.035309).\n"
   ]
  },
  {
   "cell_type": "markdown",
   "metadata": {},
   "source": [
    "---\n",
    "\n",
    "### b. `randomized_entangled_entropy_mitigated`\n",
    "\n",
    "<a id='randomized_entangled_entropy_mitigated'></a>\n"
   ]
  },
  {
   "cell_type": "markdown",
   "metadata": {},
   "source": [
    "Similar to `randomized_entangled_entropy` introduced in section 3.1.1 a, this function is used to calculate the entropy of a quantum state, but additionally, mitigate the depolarizing error. \n",
    "You can call the function `randomized_entangled_entropy_mitigated` from `qurry.process.randomized_measure`. In order to perform the error mitigation, \n",
    "this function requires the  measurement outcomes of the all system as the baseline.  \n",
    "If you already have data at hand, you can prepare a namedtuple `ExistedAllSystemInfo` like the following,\n",
    "which can be imported from `qurry.process.randomized_measure` :\n",
    "\n",
    "```python\n",
    "class ExistedAllSystemInfo(NamedTuple):\n",
    "    \"\"\"Existed all system information\"\"\"\n",
    "\n",
    "    source: str\n",
    "    \"\"\"The source of all system.\"\"\"\n",
    "\n",
    "    purityAllSys: GenericFloatType\n",
    "    \"\"\"The purity of the all system.\"\"\"\n",
    "    entropyAllSys: GenericFloatType\n",
    "    \"\"\"The entropy of the all system.\"\"\"\n",
    "    puritySDAllSys: GenericFloatType\n",
    "    \"\"\"The standard deviation of the purity of the all system.\"\"\"\n",
    "    entropySDAllSys: GenericFloatType\n",
    "    \"\"\"The standard deviation of the entropy of the all system.\"\"\"\n",
    "    purityCellsAllSys: Union[dict[int, np.float64], dict[int, float]]\n",
    "    \"\"\"The purity of each single count.\"\"\"\n",
    "\n",
    "    # new added\n",
    "    num_classical_registers_all_sys: int\n",
    "    \"\"\"The number of classical registers of all system.\"\"\"\n",
    "    classical_registers_all_sys: Optional[list[int]]\n",
    "    \"\"\"The list of the index of the selected classical registers.\"\"\"\n",
    "    classical_registers_actually_all_sys: list[int]\n",
    "    \"\"\"The list of the index of the selected classical registers which is actually used.\"\"\"\n",
    "\n",
    "    # refactored\n",
    "    taking_time_all_sys: GenericFloatType\n",
    "    \"\"\"The calculation time of the all system.\"\"\"\n",
    "\n",
    "```\n",
    "\n",
    "And assign it into the argument `existed_all_system` of the function `randomized_entangled_entropy_mitigated` to save a lot of time on mitigating purities of all partitions.\n",
    "\n",
    "This function requires only three arguments: `shots`, `counts`, and `selected_classical_registers`. All other arguments are optional.\n",
    "\n",
    "Note that `selected_classical_registers` expects a list of <u>bitstring indices</u>, **NOT** <u>qubit indices</u>, as these are distinct.\n",
    "\n",
    "The following is the arguments of the function:\n",
    "\n",
    "```python\n",
    "def randomized_entangled_entropy_mitigated(\n",
    "    shots: int,\n",
    "    counts: list[dict[str, int]],\n",
    "    selected_classical_registers: Optional[list[int]] = None,\n",
    "    backend: PostProcessingBackendLabel = DEFAULT_PROCESS_BACKEND,\n",
    "    existed_all_system: Optional[ExistedAllSystemInfo] = None,\n",
    "    pbar: Optional[tqdm.tqdm] = None,\n",
    ") -> EntangledEntropyResultMitigated:\n",
    "    \"\"\"Calculate entangled entropy.\n",
    "\n",
    "    Args:\n",
    "        shots (int):\n",
    "            Shots of the counts.\n",
    "        counts (list[dict[str, int]]):\n",
    "            Counts from randomized measurement results.\n",
    "        degree (Optional[Union[tuple[int, int], int]]):\n",
    "            The range of partition.\n",
    "        measure (Optional[tuple[int, int]], optional):\n",
    "            The range that implemented the measuring gate.\n",
    "            If not specified, then use all qubits.\n",
    "            This will affect the range of partition\n",
    "            when you not implement the measuring gate on all qubit.\n",
    "            Defaults to None.\n",
    "        backend (PostProcessingBackendLabel, optional):\n",
    "            Backend for the post-processing.\n",
    "            Defaults to DEFAULT_PROCESS_BACKEND.\n",
    "        workers_num (Optional[int], optional):\n",
    "            Number of multi-processing workers, it will be ignored if backend is Rust.\n",
    "            if sets to 1, then disable to using multi-processing;\n",
    "            if not specified, then use the number of all cpu counts by `os.cpu_count()`.\n",
    "            This only works for Python and Cython backend.\n",
    "            Defaults to None.\n",
    "        existed_all_system (Optional[ExistingAllSystemSource], optional):\n",
    "            Existing all system source.\n",
    "            If there is known all system result,\n",
    "            then you can put it here to save a lot of time on calculating all system\n",
    "            for not matter what partition you are using,\n",
    "            their all system result is the same.\n",
    "            All system source should contain\n",
    "            `purityCellsAllSys`, `bitStringRange`, `measureActually`, `source` for its name.\n",
    "            This can save a lot of time\n",
    "            Defaults to None.\n",
    "        pbar (Optional[tqdm.tqdm], optional):\n",
    "            The progress bar API, you can use put a :cls:`tqdm` object here.\n",
    "            This function will update the progress bar description.\n",
    "            Defaults to None.\n",
    "\n",
    "    Returns:\n",
    "        RandomizedEntangledEntropyMitigatedComplex:\n",
    "            A dictionary contains purity, entropy,\n",
    "            a list of each overlap, puritySD, degree,\n",
    "            actual measure range, bitstring range and more.\n",
    "    \"\"\"\n",
    "```\n",
    "This function returns a dictionary that contains the entropy, purity, and other relevant information.\n",
    "The return `dict` contains the following variables:\n",
    "\n",
    "```python\n",
    "class EntangledEntropyResultMitigated(EntangledEntropyResult):\n",
    "    \"\"\"The return type of the post-processing for entangled entropy with error mitigation.\"\"\"\n",
    "    # This TyedDict inherit from EntangledEntropyResult\n",
    "\n",
    "    # refactored\n",
    "    all_system_source: Union[str, Literal[\"independent\", \"null_counts\"]]\n",
    "    \"\"\"The name of source of all system.\n",
    "\n",
    "    - independent: The all system is calculated independently.\n",
    "    - null_counts: No counts exist.\n",
    "    \"\"\"\n",
    "\n",
    "    purityAllSys: GenericFloatType\n",
    "    \"\"\"The purity of the all system.\"\"\"\n",
    "    entropyAllSys: GenericFloatType\n",
    "    \"\"\"The entropy of the all system.\"\"\"\n",
    "    puritySDAllSys: GenericFloatType\n",
    "    \"\"\"The standard deviation of the purity of the all system.\"\"\"\n",
    "    entropySDAllSys: GenericFloatType\n",
    "    \"\"\"The standard deviation of the entropy of the all system.\"\"\"\n",
    "    purityCellsAllSys: Union[dict[int, np.float64], dict[int, float]]\n",
    "    \"\"\"The purity of each single count.\"\"\"\n",
    "\n",
    "    # new added\n",
    "    num_classical_registers_all_sys: int\n",
    "    \"\"\"The number of classical registers of all system.\"\"\"\n",
    "    classical_registers_all_sys: Optional[list[int]]\n",
    "    \"\"\"The list of the index of the selected classical registers.\"\"\"\n",
    "    classical_registers_actually_all_sys: list[int]\n",
    "    \"\"\"The list of the index of the selected classical registers which is actually used.\"\"\"\n",
    "\n",
    "    # mitigated info\n",
    "    errorRate: GenericFloatType\n",
    "    \"\"\"The error rate of the measurement from depolarizing error migigation calculated.\"\"\"\n",
    "    mitigatedPurity: GenericFloatType\n",
    "    \"\"\"The mitigated purity.\"\"\"\n",
    "    mitigatedEntropy: GenericFloatType\n",
    "    \"\"\"The mitigated entropy.\"\"\"\n",
    "\n",
    "    # refactored\n",
    "    taking_time_all_sys: GenericFloatType\n",
    "    \"\"\"The calculation time of the all system.\"\"\"\n",
    "\n",
    "class EntangledEntropyResult(TypedDict, total=False):\n",
    "    \"\"\"The return type of the post-processing for entangled entropy.\"\"\"\n",
    "\n",
    "    purity: GenericFloatType\n",
    "    \"\"\"The purity of the system.\"\"\"\n",
    "    entropy: GenericFloatType\n",
    "    \"\"\"The entropy of the system.\"\"\"\n",
    "    puritySD: GenericFloatType\n",
    "    \"\"\"The standard deviation of the purity.\"\"\"\n",
    "    entropySD: GenericFloatType\n",
    "    \"\"\"The standard deviation of the entropy.\"\"\"\n",
    "    purityCells: Union[dict[int, np.float64], dict[int, float]]\n",
    "    \"\"\"The purity of each single count.\"\"\"\n",
    "    # new added\n",
    "    num_classical_registers: int\n",
    "    \"\"\"The number of classical registers.\"\"\"\n",
    "    classical_registers: Optional[list[int]]\n",
    "    \"\"\"The list of the index of the selected classical registers.\"\"\"\n",
    "    classical_registers_actually: list[int]\n",
    "    \"\"\"The list of the index of the selected classical registers which is actually used.\"\"\"\n",
    "    # refactored\n",
    "    counts_num: int\n",
    "    \"\"\"The number of counts.\"\"\"\n",
    "    taking_time: GenericFloatType\n",
    "    \"\"\"The calculation time.\"\"\"\n",
    "```\n",
    "\n"
   ]
  },
  {
   "cell_type": "markdown",
   "metadata": {},
   "source": [
    "---\n",
    "\n",
    "#### Dummy Data\n"
   ]
  },
  {
   "cell_type": "code",
   "execution_count": 1,
   "metadata": {},
   "outputs": [
    {
     "name": "stderr",
     "output_type": "stream",
     "text": [
      "/Users/harui/opt/anaconda3/envs/quantumsphere11/lib/python3.11/site-packages/tqdm/auto.py:21: TqdmWarning: IProgress not found. Please update jupyter and ipywidgets. See https://ipywidgets.readthedocs.io/en/stable/user_install.html\n",
      "  from .autonotebook import tqdm as notebook_tqdm\n"
     ]
    }
   ],
   "source": [
    "from qurry.capsule import quickRead\n",
    "\n",
    "easy_dummy: dict[str, dict[str, int]] = quickRead(\"./easy-dummy.json\")\n",
    "large_dummy_list = [easy_dummy[\"0\"] for _ in range(100)]"
   ]
  },
  {
   "cell_type": "markdown",
   "metadata": {},
   "source": [
    "---\n",
    "\n",
    "#### Simple Example\n"
   ]
  },
  {
   "cell_type": "code",
   "execution_count": 2,
   "metadata": {},
   "outputs": [],
   "source": [
    "from qurry.process.randomized_measure import (\n",
    "    randomized_entangled_entropy_mitigated,\n",
    "    EntangledEntropyResultMitigated,\n",
    "    ExistedAllSystemInfo,\n",
    ")\n",
    "\n",
    "test_result_1_2_1 = randomized_entangled_entropy_mitigated(4096, large_dummy_list, list(range(6)))"
   ]
  },
  {
   "cell_type": "code",
   "execution_count": 3,
   "metadata": {},
   "outputs": [
    {
     "name": "stdout",
     "output_type": "stream",
     "text": [
      "| result of randomized_entangled_entropy except for purityCells\n",
      "{'all_system_source': 'independent',\n",
      " 'classical_registers': [0, 1, 2, 3, 4, 5],\n",
      " 'classical_registers_actually': [5, 4, 3, 2, 1, 0],\n",
      " 'classical_registers_actually_all_sys': [7, 6, 5, 4, 3, 2, 1, 0],\n",
      " 'classical_registers_all_sys': None,\n",
      " 'counts_num': 100,\n",
      " 'entropy': -0.08786065308638322,\n",
      " 'entropyAllSys': 0.9461940705953849,\n",
      " 'entropySD': 0.0,\n",
      " 'entropySDAllSys': 0.0,\n",
      " 'errorRate': 0.2808939301105586,\n",
      " 'mitigatedEntropy': -1.0290289944568636,\n",
      " 'mitigatedPurity': 2.0406503299038543,\n",
      " 'num_classical_registers': 8,\n",
      " 'num_classical_registers_all_sys': 8,\n",
      " 'purity': 1.0627930164337158,\n",
      " 'purityAllSys': 0.5189998149871826,\n",
      " 'puritySD': 0.0,\n",
      " 'puritySDAllSys': 0.0,\n",
      " 'taking_time': 3.255,\n",
      " 'taking_time_all_sys': 9.0}\n",
      "\n",
      "| result of randomized_entangled_entropy[purityCells]\n",
      "1.0627930164337158\n",
      "1.0627930164337158\n",
      "\n",
      "| result of randomized_entangled_entropy[purityCellsAllSys]\n",
      "0.5189998149871826\n",
      "0.5189998149871826\n"
     ]
    }
   ],
   "source": [
    "from pprint import pprint\n",
    "\n",
    "print(\"| result of randomized_entangled_entropy except for purityCells\")\n",
    "pprint({k: v for k, v in test_result_1_2_1.items() if \"purityCells\" not in k})\n",
    "# \"purityCells\" is too long we skip it here\n",
    "print()\n",
    "print(\"| result of randomized_entangled_entropy[purityCells]\")\n",
    "print(test_result_1_2_1[\"purityCells\"][0])\n",
    "print(test_result_1_2_1[\"purityCells\"][1])\n",
    "print()\n",
    "print(\"| result of randomized_entangled_entropy[purityCellsAllSys]\")\n",
    "print(test_result_1_2_1[\"purityCellsAllSys\"][0])\n",
    "print(test_result_1_2_1[\"purityCellsAllSys\"][1])"
   ]
  },
  {
   "cell_type": "markdown",
   "metadata": {},
   "source": [
    "---\n",
    "\n",
    "#### With Existing All System Data\n"
   ]
  },
  {
   "cell_type": "code",
   "execution_count": 4,
   "metadata": {},
   "outputs": [],
   "source": [
    "test_result_1_2_2 = randomized_entangled_entropy_mitigated(\n",
    "    4096,\n",
    "    large_dummy_list,\n",
    "    list(range(6)),\n",
    "    existed_all_system=ExistedAllSystemInfo(\n",
    "        source=\"from_previous_result:test_result_1_2_1\",\n",
    "        purityAllSys=test_result_1_2_1[\"purityAllSys\"],\n",
    "        entropyAllSys=test_result_1_2_1[\"entropyAllSys\"],\n",
    "        puritySDAllSys=test_result_1_2_1[\"puritySDAllSys\"],\n",
    "        entropySDAllSys=test_result_1_2_1[\"entropySDAllSys\"],\n",
    "        purityCellsAllSys=test_result_1_2_1[\"purityCellsAllSys\"],\n",
    "        num_classical_registers_all_sys=test_result_1_2_1[\"num_classical_registers_all_sys\"],\n",
    "        classical_registers_all_sys=test_result_1_2_1[\"classical_registers_all_sys\"],\n",
    "        classical_registers_actually_all_sys=test_result_1_2_1[\n",
    "            \"classical_registers_actually_all_sys\"\n",
    "        ],\n",
    "        taking_time_all_sys=test_result_1_2_1[\"taking_time_all_sys\"],\n",
    "    ),\n",
    ")"
   ]
  },
  {
   "cell_type": "code",
   "execution_count": 5,
   "metadata": {},
   "outputs": [
    {
     "name": "stdout",
     "output_type": "stream",
     "text": [
      "| result of randomized_entangled_entropy except for purityCells\n",
      "{'all_system_source': 'from_previous_result:test_result_1_2_1',\n",
      " 'classical_registers': [0, 1, 2, 3, 4, 5],\n",
      " 'classical_registers_actually': [5, 4, 3, 2, 1, 0],\n",
      " 'classical_registers_actually_all_sys': [7, 6, 5, 4, 3, 2, 1, 0],\n",
      " 'classical_registers_all_sys': None,\n",
      " 'counts_num': 100,\n",
      " 'entropy': -0.08786065308638322,\n",
      " 'entropyAllSys': 0.9461940705953849,\n",
      " 'entropySD': 0.0,\n",
      " 'entropySDAllSys': 0.0,\n",
      " 'errorRate': 0.2808939301105586,\n",
      " 'mitigatedEntropy': -1.0290289944568636,\n",
      " 'mitigatedPurity': 2.0406503299038543,\n",
      " 'num_classical_registers': 8,\n",
      " 'num_classical_registers_all_sys': 8,\n",
      " 'purity': 1.0627930164337158,\n",
      " 'purityAllSys': 0.5189998149871826,\n",
      " 'puritySD': 0.0,\n",
      " 'puritySDAllSys': 0.0,\n",
      " 'taking_time': 3.8,\n",
      " 'taking_time_all_sys': 9.0}\n",
      "\n",
      "| result of randomized_entangled_entropy[purityCells]\n",
      "1.0627930164337158\n",
      "1.0627930164337158\n",
      "\n",
      "| result of randomized_entangled_entropy[purityCellsAllSys]\n",
      "0.5189998149871826\n",
      "0.5189998149871826\n",
      "\n",
      "| You can see takingTimeAllSys is 0 for we use existed_all_system\n",
      "9.0\n"
     ]
    }
   ],
   "source": [
    "from pprint import pprint\n",
    "\n",
    "print(\"| result of randomized_entangled_entropy except for purityCells\")\n",
    "pprint({k: v for k, v in test_result_1_2_2.items() if \"purityCells\" not in k})\n",
    "# \"purityCells\" is too long we skip it here\n",
    "print()\n",
    "print(\"| result of randomized_entangled_entropy[purityCells]\")\n",
    "print(test_result_1_2_2[\"purityCells\"][0])\n",
    "print(test_result_1_2_2[\"purityCells\"][1])\n",
    "print()\n",
    "print(\"| result of randomized_entangled_entropy[purityCellsAllSys]\")\n",
    "print(test_result_1_2_2[\"purityCellsAllSys\"][0])\n",
    "print(test_result_1_2_2[\"purityCellsAllSys\"][1])\n",
    "print()\n",
    "print(\"| You can see takingTimeAllSys is 0 for we use existed_all_system\")\n",
    "print(test_result_1_2_2[\"taking_time_all_sys\"])"
   ]
  },
  {
   "cell_type": "markdown",
   "metadata": {},
   "source": [
    "---\n",
    "\n",
    "#### Integration wit your own progress bar\n"
   ]
  },
  {
   "cell_type": "code",
   "execution_count": 6,
   "metadata": {},
   "outputs": [
    {
     "name": "stderr",
     "output_type": "stream",
     "text": [
      "\r",
      "|  - 00:00 < ?"
     ]
    },
    {
     "name": "stderr",
     "output_type": "stream",
     "text": [
      "\r",
      "| Calculate selected classical registers: [0, 1, 2, 3, 4, 5]. - 00:00 < ?"
     ]
    },
    {
     "name": "stdout",
     "output_type": "stream",
     "text": [
      "[0, 1, 2, 3, 4, 5]\n"
     ]
    },
    {
     "name": "stderr",
     "output_type": "stream",
     "text": [
      "\r",
      "| Calculate all system by Python. - 00:04 < ?                            "
     ]
    },
    {
     "name": "stderr",
     "output_type": "stream",
     "text": [
      "\r",
      "| Preparing error mitigation of selected qubits: [5, 4, 3, 2, 1, 0] - 00:18 < ?"
     ]
    },
    {
     "name": "stderr",
     "output_type": "stream",
     "text": [
      "\r",
      "| Preparing error mitigation of selected qubits: [5, 4, 3, 2, 1, 0] - 00:18 < 01:31"
     ]
    },
    {
     "name": "stderr",
     "output_type": "stream",
     "text": [
      "\r",
      "| Calculate selected classical registers: [2, 3, 4, 5, 6, 7]. - 00:18 < 01:31      "
     ]
    },
    {
     "name": "stdout",
     "output_type": "stream",
     "text": [
      "| partition: [0, 1, 2, 3, 4, 5]\n",
      "| - taking_time: 4.104\n",
      "| - taking_time_all_sys: 14.223\n",
      "[2, 3, 4, 5, 6, 7]\n"
     ]
    },
    {
     "name": "stderr",
     "output_type": "stream",
     "text": [
      "\r",
      "| Using existing all system from 'from_previous_result:test_result_1_2_1' - 00:29 < 01:31"
     ]
    },
    {
     "name": "stderr",
     "output_type": "stream",
     "text": [
      "\r",
      "| Preparing error mitigation of selected qubits: [7, 6, 5, 4, 3, 2] - 00:29 < 01:31      "
     ]
    },
    {
     "name": "stderr",
     "output_type": "stream",
     "text": [
      "\r",
      "| Preparing error mitigation of selected qubits: [7, 6, 5, 4, 3, 2] - 00:29 < 00:56"
     ]
    },
    {
     "name": "stderr",
     "output_type": "stream",
     "text": [
      "\r",
      "| Calculate selected classical registers: [0, 1, 2, 3, 4, 5, 6]. - 00:29 < 00:56   "
     ]
    },
    {
     "name": "stdout",
     "output_type": "stream",
     "text": [
      "| partition: [2, 3, 4, 5, 6, 7]\n",
      "| - taking_time: 11.377\n",
      "| - taking_time_all_sys: 9.0\n",
      "[0, 1, 2, 3, 4, 5, 6]\n"
     ]
    },
    {
     "name": "stderr",
     "output_type": "stream",
     "text": [
      "Traceback (most recent call last):\n",
      "  File \"<string>\", line 1, in <module>\n",
      "  File \"/Users/harui/opt/anaconda3/envs/quantumsphere11/lib/python3.11/multiprocessing/spawn.py\", line 119, in spawn_main\n",
      "    parent_sentinel = os.dup(pipe_handle)\n",
      "                      ^^^^^^^^^^^^^^^^^^^\n",
      "KeyboardInterrupt\n",
      "Traceback (most recent call last):\n",
      "  File \"<string>\", line 1, in <module>\n",
      "  File \"/Users/harui/opt/anaconda3/envs/quantumsphere11/lib/python3.11/multiprocessing/__init__.py\", line 16, in <module>\n",
      "    from . import context\n",
      "  File \"/Users/harui/opt/anaconda3/envs/quantumsphere11/lib/python3.11/multiprocessing/context.py\", line 6, in <module>\n",
      "Traceback (most recent call last):\n",
      "  File \"<string>\", line 1, in <module>\n",
      "  File \"/Users/harui/opt/anaconda3/envs/quantumsphere11/lib/python3.11/multiprocessing/spawn.py\", line 120, in spawn_main\n",
      "    from . import reduction\n",
      "  File \"/Users/harui/opt/anaconda3/envs/quantumsphere11/lib/python3.11/multiprocessing/reduction.py\", line 16, in <module>\n",
      "Traceback (most recent call last):\n",
      "  File \"<string>\", line 1, in <module>\n",
      "  File \"/Users/harui/opt/anaconda3/envs/quantumsphere11/lib/python3.11/multiprocessing/spawn.py\", line 120, in spawn_main\n",
      "    exitcode = _main(fd, parent_sentinel)\n",
      "    import socket\n",
      "               ^^^^^^^^^^^^^^^^^^^^^^^^^^\n",
      "  File \"<frozen importlib._bootstrap>\", line 1176, in _find_and_load\n",
      "  File \"<frozen importlib._bootstrap>\", line 1147, in _find_and_load_unlocked\n",
      "  File \"/Users/harui/opt/anaconda3/envs/quantumsphere11/lib/python3.11/multiprocessing/spawn.py\", line 130, in _main\n",
      "  File \"<frozen importlib._bootstrap>\", line 690, in _load_unlocked\n",
      "  File \"<frozen importlib._bootstrap_external>\", line 936, in exec_module\n",
      "  File \"<frozen importlib._bootstrap_external>\", line 1069, in get_code\n",
      "  File \"<frozen importlib._bootstrap_external>\", line 729, in _compile_bytecode\n",
      "KeyboardInterrupt\n",
      "Fatal Python error: init_import_site: Failed to import the site module\n",
      "Python runtime state: initialized\n",
      "Traceback (most recent call last):\n",
      "    self = reduction.pickle.load(from_parent)\n",
      "           ^^^^^^^^^^^^^^^^^^^^^^^^^^^^^^^^^^\n",
      "  File \"/Users/harui/opt/anaconda3/envs/quantumsphere11/lib/python3.11/multiprocessing/pool.py\", line 19, in <module>\n",
      "Traceback (most recent call last):\n",
      "  File \"<frozen importlib._bootstrap>\", line 1176, in _find_and_load\n",
      "  File \"<frozen importlib._bootstrap>\", line 1147, in _find_and_load_unlocked\n",
      "  File \"<frozen importlib._bootstrap>\", line 690, in _load_unlocked\n",
      "  File \"<frozen importlib._bootstrap>\", line 980, in exec_module\n",
      "  File \"<frozen site>\", line 616, in <module>\n",
      "  File \"<frozen site>\", line 603, in main\n",
      "  File \"<frozen site>\", line 384, in addsitepackages\n",
      "  File \"<frozen site>\", line 226, in addsitedir\n",
      "  File \"<frozen site>\", line 186, in addpackage\n",
      "  File \"<string>\", line 1, in <module>\n",
      "  File \"<frozen importlib._bootstrap>\", line 1176, in _find_and_load\n",
      "  File \"<frozen importlib._bootstrap>\", line 1147, in _find_and_load_unlocked\n",
      "  File \"<frozen importlib._bootstrap>\", line 690, in _load_unlocked\n",
      "  File \"<frozen importlib._bootstrap>\", line 980, in exec_module\n",
      "  File \"<frozen importlib.util>\", line 14, in <module>\n",
      "  File \"/Users/harui/opt/anaconda3/envs/quantumsphere11/lib/python3.11/contextlib.py\", line 6, in <module>\n",
      "  File \"<string>\", line 1, in <module>\n",
      "  File \"/Users/harui/opt/anaconda3/envs/quantumsphere11/lib/python3.11/multiprocessing/__init__.py\", line 16, in <module>\n",
      "    import queue\n",
      "  File \"/Users/harui/opt/anaconda3/envs/quantumsphere11/lib/python3.11/queue.py\", line 9, in <module>\n",
      "    from _queue import SimpleQueue\n",
      "KeyboardInterrupt\n",
      "    exitcode = _main(fd, parent_sentinel)\n",
      "    from . import context\n",
      "               ^^^^^^^^^^^^^^^^^^^^^^^^^^\n",
      "  File \"/Users/harui/opt/anaconda3/envs/quantumsphere11/lib/python3.11/multiprocessing/spawn.py\", line 130, in _main\n",
      "  File \"/Users/harui/opt/anaconda3/envs/quantumsphere11/lib/python3.11/multiprocessing/context.py\", line 6, in <module>\n",
      "    from . import reduction\n",
      "  File \"/Users/harui/opt/anaconda3/envs/quantumsphere11/lib/python3.11/multiprocessing/reduction.py\", line 16, in <module>\n",
      "    self = reduction.pickle.load(from_parent)\n",
      "           ^^^^^^^^^^^^^^^^^^^^^^^^^^^^^^^^^^\n",
      "  File \"/Users/harui/opt/anaconda3/envs/quantumsphere11/lib/python3.11/multiprocessing/pool.py\", line 30, in <module>\n",
      "    import socket\n",
      "  File \"/Users/harui/opt/anaconda3/envs/quantumsphere11/lib/python3.11/socket.py\", line 54, in <module>\n",
      "    from .connection import wait\n",
      "  File \"/Users/harui/opt/anaconda3/envs/quantumsphere11/lib/python3.11/multiprocessing/connection.py\", line 18, in <module>\n",
      "    import tempfile\n",
      "  File \"/Users/harui/opt/anaconda3/envs/quantumsphere11/lib/python3.11/tempfile.py\", line 43, in <module>\n",
      "    import os, sys, io, selectors\n",
      "  File \"/Users/harui/opt/anaconda3/envs/quantumsphere11/lib/python3.11/selectors.py\", line 12, in <module>\n",
      "Fatal Python error: init_import_site: Failed to import the site module\n",
      "Python runtime state: initialized\n",
      "Traceback (most recent call last):\n",
      "    import shutil as _shutil\n",
      "  File \"/Users/harui/opt/anaconda3/envs/quantumsphere11/lib/python3.11/shutil.py\", line 22, in <module>\n",
      "    import select\n",
      "  File \"<frozen importlib._bootstrap>\", line 1176, in _find_and_load\n",
      "  File \"<frozen importlib._bootstrap>\", line 1147, in _find_and_load_unlocked\n",
      "  File \"<frozen importlib._bootstrap>\", line 690, in _load_unlocked\n",
      "  File \"<frozen importlib._bootstrap>\", line 980, in exec_module\n",
      "  File \"<frozen site>\", line 73, in <module>\n",
      "  File \"<frozen importlib._bootstrap>\", line 1176, in _find_and_load\n",
      "  File \"<frozen importlib._bootstrap>\", line 1147, in _find_and_load_unlocked\n",
      "  File \"<frozen importlib._bootstrap>\", line 690, in _load_unlocked\n",
      "  File \"<frozen importlib._bootstrap>\", line 980, in exec_module\n",
      "  File \"<frozen os>\", line 29, in <module>\n",
      "  File \"<frozen importlib._bootstrap>\", line 1176, in _find_and_load\n",
      "  File \"<frozen importlib._bootstrap>\", line 1147, in _find_and_load_unlocked\n",
      "  File \"<frozen importlib._bootstrap>\", line 690, in _load_unlocked\n",
      "  File \"<frozen importlib._bootstrap>\", line 980, in exec_module\n",
      "  File \"<frozen _collections_abc>\", line 508, in <module>\n",
      "  File \"<frozen _collections_abc>\", line 516, in Callable\n",
      "KeyboardInterrupt\n",
      "    from collections import deque\n",
      "  File \"<frozen importlib._bootstrap>\", line 1176, in _find_and_load\n",
      "  File \"<frozen importlib._bootstrap>\", line 1147, in _find_and_load_unlocked\n",
      "  File \"<frozen importlib._bootstrap>\", line 690, in _load_unlocked\n",
      "  File \"<frozen importlib._bootstrap_external>\", line 936, in exec_module\n",
      "  File \"<frozen importlib._bootstrap_external>\", line 1069, in get_code\n",
      "  File \"<frozen importlib._bootstrap_external>\", line 729, in _compile_bytecode\n",
      "KeyboardInterrupt\n",
      "Traceback (most recent call last):\n",
      "  File \"<string>\", line 1, in <module>\n",
      "  File \"/Users/harui/opt/anaconda3/envs/quantumsphere11/lib/python3.11/multiprocessing/spawn.py\", line 120, in spawn_main\n",
      "    exitcode = _main(fd, parent_sentinel)\n",
      "               ^^^^^^^^^^^^^^^^^^^^^^^^^^\n",
      "  File \"/Users/harui/opt/anaconda3/envs/quantumsphere11/lib/python3.11/multiprocessing/spawn.py\", line 130, in _main\n",
      "    self = reduction.pickle.load(from_parent)\n",
      "           ^^^^^^^^^^^^^^^^^^^^^^^^^^^^^^^^^^\n",
      "  File \"/Users/harui/opt/anaconda3/envs/quantumsphere11/lib/python3.11/multiprocessing/pool.py\", line 30, in <module>\n",
      "    from .connection import wait\n",
      "  File \"/Users/harui/opt/anaconda3/envs/quantumsphere11/lib/python3.11/multiprocessing/connection.py\", line 18, in <module>\n",
      "    import tempfile\n",
      "  File \"/Users/harui/opt/anaconda3/envs/quantumsphere11/lib/python3.11/tempfile.py\", line 43, in <module>\n",
      "    import shutil as _shutil\n",
      "  File \"/Users/harui/opt/anaconda3/envs/quantumsphere11/lib/python3.11/shutil.py\", line 22, in <module>\n",
      "    import bz2\n",
      "  File \"/Users/harui/opt/anaconda3/envs/quantumsphere11/lib/python3.11/bz2.py\", line 15, in <module>\n",
      "    import _compression\n",
      "  File \"<frozen importlib._bootstrap>\", line 1176, in _find_and_load\n",
      "  File \"<frozen importlib._bootstrap>\", line 1138, in _find_and_load_unlocked\n",
      "  File \"<frozen importlib._bootstrap>\", line 1078, in _find_spec\n",
      "  File \"<frozen importlib._bootstrap_external>\", line 1504, in find_spec\n",
      "  File \"<frozen importlib._bootstrap_external>\", line 1476, in _get_spec\n",
      "  File \"<frozen importlib._bootstrap_external>\", line 1645, in find_spec\n",
      "  File \"<frozen importlib._bootstrap_external>\", line 161, in _path_isfile\n",
      "  File \"<frozen importlib._bootstrap_external>\", line 153, in _path_is_mode_type\n",
      "  File \"<frozen importlib._bootstrap_external>\", line 147, in _path_stat\n",
      "KeyboardInterrupt\n",
      "KeyboardInterrupt\n",
      "    import bz2\n",
      "  File \"/Users/harui/opt/anaconda3/envs/quantumsphere11/lib/python3.11/bz2.py\", line 15, in <module>\n",
      "    import _compression\n",
      "  File \"<frozen importlib._bootstrap>\", line 1176, in _find_and_load\n",
      "  File \"<frozen importlib._bootstrap>\", line 1147, in _find_and_load_unlocked\n",
      "  File \"<frozen importlib._bootstrap>\", line 690, in _load_unlocked\n",
      "  File \"<frozen importlib._bootstrap_external>\", line 936, in exec_module\n",
      "  File \"<frozen importlib._bootstrap_external>\", line 1069, in get_code\n",
      "  File \"<frozen importlib._bootstrap_external>\", line 729, in _compile_bytecode\n",
      "KeyboardInterrupt\n",
      "\r",
      "| Calculate selected classical registers: [0, 1, 2, 3, 4, 5, 6]. - 00:30 < 01:00"
     ]
    },
    {
     "name": "stderr",
     "output_type": "stream",
     "text": [
      "\n"
     ]
    },
    {
     "ename": "KeyboardInterrupt",
     "evalue": "",
     "output_type": "error",
     "traceback": [
      "\u001b[0;31m---------------------------------------------------------------------------\u001b[0m",
      "\u001b[0;31mKeyboardInterrupt\u001b[0m                         Traceback (most recent call last)",
      "Cell \u001b[0;32mIn[6], line 20\u001b[0m\n\u001b[1;32m     17\u001b[0m \u001b[38;5;28;01mfor\u001b[39;00m tmp_shot, tmp_counts, tmp_partition \u001b[38;5;129;01min\u001b[39;00m all_counts_progress_01:\n\u001b[1;32m     18\u001b[0m     \u001b[38;5;28mprint\u001b[39m(tmp_partition)\n\u001b[1;32m     19\u001b[0m     test_result_1_2_3\u001b[38;5;241m.\u001b[39mappend(\n\u001b[0;32m---> 20\u001b[0m         \u001b[43mrandomized_entangled_entropy_mitigated\u001b[49m\u001b[43m(\u001b[49m\n\u001b[1;32m     21\u001b[0m \u001b[43m            \u001b[49m\u001b[43mtmp_shot\u001b[49m\u001b[43m,\u001b[49m\n\u001b[1;32m     22\u001b[0m \u001b[43m            \u001b[49m\u001b[43mtmp_counts\u001b[49m\u001b[43m,\u001b[49m\n\u001b[1;32m     23\u001b[0m \u001b[43m            \u001b[49m\u001b[43mtmp_partition\u001b[49m\u001b[43m,\u001b[49m\n\u001b[1;32m     24\u001b[0m \u001b[43m            \u001b[49m\u001b[43mexisted_all_system\u001b[49m\u001b[38;5;241;43m=\u001b[39;49m\u001b[43m(\u001b[49m\n\u001b[1;32m     25\u001b[0m \u001b[43m                \u001b[49m\u001b[38;5;28;43;01mNone\u001b[39;49;00m\n\u001b[1;32m     26\u001b[0m \u001b[43m                \u001b[49m\u001b[38;5;28;43;01mif\u001b[39;49;00m\u001b[43m \u001b[49m\u001b[38;5;28;43mlen\u001b[39;49m\u001b[43m(\u001b[49m\u001b[43mtest_result_1_2_3\u001b[49m\u001b[43m)\u001b[49m\u001b[43m \u001b[49m\u001b[38;5;241;43m==\u001b[39;49m\u001b[43m \u001b[49m\u001b[38;5;241;43m0\u001b[39;49m\n\u001b[1;32m     27\u001b[0m \u001b[43m                \u001b[49m\u001b[38;5;28;43;01melse\u001b[39;49;00m\u001b[43m \u001b[49m\u001b[43mExistedAllSystemInfo\u001b[49m\u001b[43m(\u001b[49m\n\u001b[1;32m     28\u001b[0m \u001b[43m                    \u001b[49m\u001b[43msource\u001b[49m\u001b[38;5;241;43m=\u001b[39;49m\u001b[38;5;124;43m\"\u001b[39;49m\u001b[38;5;124;43mfrom_previous_result:test_result_1_2_1\u001b[39;49m\u001b[38;5;124;43m\"\u001b[39;49m\u001b[43m,\u001b[49m\n\u001b[1;32m     29\u001b[0m \u001b[43m                    \u001b[49m\u001b[43mpurityAllSys\u001b[49m\u001b[38;5;241;43m=\u001b[39;49m\u001b[43mtest_result_1_2_1\u001b[49m\u001b[43m[\u001b[49m\u001b[38;5;124;43m\"\u001b[39;49m\u001b[38;5;124;43mpurityAllSys\u001b[39;49m\u001b[38;5;124;43m\"\u001b[39;49m\u001b[43m]\u001b[49m\u001b[43m,\u001b[49m\n\u001b[1;32m     30\u001b[0m \u001b[43m                    \u001b[49m\u001b[43mentropyAllSys\u001b[49m\u001b[38;5;241;43m=\u001b[39;49m\u001b[43mtest_result_1_2_1\u001b[49m\u001b[43m[\u001b[49m\u001b[38;5;124;43m\"\u001b[39;49m\u001b[38;5;124;43mentropyAllSys\u001b[39;49m\u001b[38;5;124;43m\"\u001b[39;49m\u001b[43m]\u001b[49m\u001b[43m,\u001b[49m\n\u001b[1;32m     31\u001b[0m \u001b[43m                    \u001b[49m\u001b[43mpuritySDAllSys\u001b[49m\u001b[38;5;241;43m=\u001b[39;49m\u001b[43mtest_result_1_2_1\u001b[49m\u001b[43m[\u001b[49m\u001b[38;5;124;43m\"\u001b[39;49m\u001b[38;5;124;43mpuritySDAllSys\u001b[39;49m\u001b[38;5;124;43m\"\u001b[39;49m\u001b[43m]\u001b[49m\u001b[43m,\u001b[49m\n\u001b[1;32m     32\u001b[0m \u001b[43m                    \u001b[49m\u001b[43mentropySDAllSys\u001b[49m\u001b[38;5;241;43m=\u001b[39;49m\u001b[43mtest_result_1_2_1\u001b[49m\u001b[43m[\u001b[49m\u001b[38;5;124;43m\"\u001b[39;49m\u001b[38;5;124;43mentropySDAllSys\u001b[39;49m\u001b[38;5;124;43m\"\u001b[39;49m\u001b[43m]\u001b[49m\u001b[43m,\u001b[49m\n\u001b[1;32m     33\u001b[0m \u001b[43m                    \u001b[49m\u001b[43mpurityCellsAllSys\u001b[49m\u001b[38;5;241;43m=\u001b[39;49m\u001b[43mtest_result_1_2_1\u001b[49m\u001b[43m[\u001b[49m\u001b[38;5;124;43m\"\u001b[39;49m\u001b[38;5;124;43mpurityCellsAllSys\u001b[39;49m\u001b[38;5;124;43m\"\u001b[39;49m\u001b[43m]\u001b[49m\u001b[43m,\u001b[49m\n\u001b[1;32m     34\u001b[0m \u001b[43m                    \u001b[49m\u001b[43mnum_classical_registers_all_sys\u001b[49m\u001b[38;5;241;43m=\u001b[39;49m\u001b[43mtest_result_1_2_1\u001b[49m\u001b[43m[\u001b[49m\n\u001b[1;32m     35\u001b[0m \u001b[43m                        \u001b[49m\u001b[38;5;124;43m\"\u001b[39;49m\u001b[38;5;124;43mnum_classical_registers_all_sys\u001b[39;49m\u001b[38;5;124;43m\"\u001b[39;49m\n\u001b[1;32m     36\u001b[0m \u001b[43m                    \u001b[49m\u001b[43m]\u001b[49m\u001b[43m,\u001b[49m\n\u001b[1;32m     37\u001b[0m \u001b[43m                    \u001b[49m\u001b[43mclassical_registers_all_sys\u001b[49m\u001b[38;5;241;43m=\u001b[39;49m\u001b[43mtest_result_1_2_1\u001b[49m\u001b[43m[\u001b[49m\u001b[38;5;124;43m\"\u001b[39;49m\u001b[38;5;124;43mclassical_registers_all_sys\u001b[39;49m\u001b[38;5;124;43m\"\u001b[39;49m\u001b[43m]\u001b[49m\u001b[43m,\u001b[49m\n\u001b[1;32m     38\u001b[0m \u001b[43m                    \u001b[49m\u001b[43mclassical_registers_actually_all_sys\u001b[49m\u001b[38;5;241;43m=\u001b[39;49m\u001b[43mtest_result_1_2_1\u001b[49m\u001b[43m[\u001b[49m\n\u001b[1;32m     39\u001b[0m \u001b[43m                        \u001b[49m\u001b[38;5;124;43m\"\u001b[39;49m\u001b[38;5;124;43mclassical_registers_actually_all_sys\u001b[39;49m\u001b[38;5;124;43m\"\u001b[39;49m\n\u001b[1;32m     40\u001b[0m \u001b[43m                    \u001b[49m\u001b[43m]\u001b[49m\u001b[43m,\u001b[49m\n\u001b[1;32m     41\u001b[0m \u001b[43m                    \u001b[49m\u001b[43mtaking_time_all_sys\u001b[49m\u001b[38;5;241;43m=\u001b[39;49m\u001b[43mtest_result_1_2_1\u001b[49m\u001b[43m[\u001b[49m\u001b[38;5;124;43m\"\u001b[39;49m\u001b[38;5;124;43mtaking_time_all_sys\u001b[39;49m\u001b[38;5;124;43m\"\u001b[39;49m\u001b[43m]\u001b[49m\u001b[43m,\u001b[49m\n\u001b[1;32m     42\u001b[0m \u001b[43m                \u001b[49m\u001b[43m)\u001b[49m\n\u001b[1;32m     43\u001b[0m \u001b[43m            \u001b[49m\u001b[43m)\u001b[49m\u001b[43m,\u001b[49m\n\u001b[1;32m     44\u001b[0m \u001b[43m            \u001b[49m\u001b[43mpbar\u001b[49m\u001b[38;5;241;43m=\u001b[39;49m\u001b[43mall_counts_progress_01\u001b[49m\u001b[43m,\u001b[49m\n\u001b[1;32m     45\u001b[0m \u001b[43m        \u001b[49m\u001b[43m)\u001b[49m\n\u001b[1;32m     46\u001b[0m     )\n\u001b[1;32m     47\u001b[0m     \u001b[38;5;28mprint\u001b[39m(\u001b[38;5;124mf\u001b[39m\u001b[38;5;124m\"\u001b[39m\u001b[38;5;124m| partition: \u001b[39m\u001b[38;5;132;01m{\u001b[39;00mtmp_partition\u001b[38;5;132;01m}\u001b[39;00m\u001b[38;5;124m\"\u001b[39m)\n\u001b[1;32m     48\u001b[0m     \u001b[38;5;28mprint\u001b[39m(\u001b[38;5;124m\"\u001b[39m\u001b[38;5;124m| - taking_time:\u001b[39m\u001b[38;5;124m\"\u001b[39m, test_result_1_2_3[\u001b[38;5;241m-\u001b[39m\u001b[38;5;241m1\u001b[39m][\u001b[38;5;124m\"\u001b[39m\u001b[38;5;124mtaking_time\u001b[39m\u001b[38;5;124m\"\u001b[39m])\n",
      "File \u001b[0;32m~/opt/anaconda3/envs/quantumsphere11/lib/python3.11/site-packages/qurry/process/randomized_measure/entangled_entropy/entangled_entropy_2.py:385\u001b[0m, in \u001b[0;36mrandomized_entangled_entropy_mitigated\u001b[0;34m(shots, counts, selected_classical_registers, backend, existed_all_system, pbar)\u001b[0m\n\u001b[1;32m    375\u001b[0m \u001b[38;5;28;01mif\u001b[39;00m \u001b[38;5;28misinstance\u001b[39m(pbar, tqdm\u001b[38;5;241m.\u001b[39mtqdm):\n\u001b[1;32m    376\u001b[0m     pbar\u001b[38;5;241m.\u001b[39mset_description_str(\n\u001b[1;32m    377\u001b[0m         \u001b[38;5;124mf\u001b[39m\u001b[38;5;124m\"\u001b[39m\u001b[38;5;124mCalculate selected classical registers: \u001b[39m\u001b[38;5;132;01m{\u001b[39;00mselected_classical_registers\u001b[38;5;132;01m}\u001b[39;00m\u001b[38;5;124m.\u001b[39m\u001b[38;5;124m\"\u001b[39m\n\u001b[1;32m    378\u001b[0m     )\n\u001b[1;32m    380\u001b[0m (\n\u001b[1;32m    381\u001b[0m     purity_cell_dict,\n\u001b[1;32m    382\u001b[0m     selected_qubits_sorted,\n\u001b[1;32m    383\u001b[0m     _msg,\n\u001b[1;32m    384\u001b[0m     taken,\n\u001b[0;32m--> 385\u001b[0m ) \u001b[38;5;241m=\u001b[39m \u001b[43mentangled_entropy_core_2\u001b[49m\u001b[43m(\u001b[49m\n\u001b[1;32m    386\u001b[0m \u001b[43m    \u001b[49m\u001b[43mshots\u001b[49m\u001b[38;5;241;43m=\u001b[39;49m\u001b[43mshots\u001b[49m\u001b[43m,\u001b[49m\n\u001b[1;32m    387\u001b[0m \u001b[43m    \u001b[49m\u001b[43mcounts\u001b[49m\u001b[38;5;241;43m=\u001b[39;49m\u001b[43mcounts\u001b[49m\u001b[43m,\u001b[49m\n\u001b[1;32m    388\u001b[0m \u001b[43m    \u001b[49m\u001b[43mselected_classical_registers\u001b[49m\u001b[38;5;241;43m=\u001b[39;49m\u001b[43mselected_classical_registers\u001b[49m\u001b[43m,\u001b[49m\n\u001b[1;32m    389\u001b[0m \u001b[43m    \u001b[49m\u001b[43mbackend\u001b[49m\u001b[38;5;241;43m=\u001b[39;49m\u001b[43mbackend\u001b[49m\u001b[43m,\u001b[49m\n\u001b[1;32m    390\u001b[0m \u001b[43m\u001b[49m\u001b[43m)\u001b[49m\n\u001b[1;32m    391\u001b[0m purity_cell_list: \u001b[38;5;28mlist\u001b[39m[Union[\u001b[38;5;28mfloat\u001b[39m, np\u001b[38;5;241m.\u001b[39mfloat64]] \u001b[38;5;241m=\u001b[39m \u001b[38;5;28mlist\u001b[39m(purity_cell_dict\u001b[38;5;241m.\u001b[39mvalues())\n\u001b[1;32m    393\u001b[0m all_system \u001b[38;5;241m=\u001b[39m preparing_all_system(\n\u001b[1;32m    394\u001b[0m     existed_all_system\u001b[38;5;241m=\u001b[39mexisted_all_system,\n\u001b[1;32m    395\u001b[0m     shots\u001b[38;5;241m=\u001b[39mshots,\n\u001b[0;32m   (...)\u001b[0m\n\u001b[1;32m    398\u001b[0m     pbar\u001b[38;5;241m=\u001b[39mpbar,\n\u001b[1;32m    399\u001b[0m )\n",
      "File \u001b[0;32m~/opt/anaconda3/envs/quantumsphere11/lib/python3.11/site-packages/qurry/process/randomized_measure/entangled_entropy/entropy_core_2.py:221\u001b[0m, in \u001b[0;36mentangled_entropy_core_2\u001b[0;34m(shots, counts, selected_classical_registers, backend)\u001b[0m\n\u001b[1;32m    214\u001b[0m     warnings\u001b[38;5;241m.\u001b[39mwarn(\n\u001b[1;32m    215\u001b[0m         \u001b[38;5;124m\"\u001b[39m\u001b[38;5;124mRust is not available, using Python to calculate purity cell.\u001b[39m\u001b[38;5;124m\"\u001b[39m\n\u001b[1;32m    216\u001b[0m         \u001b[38;5;241m+\u001b[39m \u001b[38;5;124mf\u001b[39m\u001b[38;5;124m\"\u001b[39m\u001b[38;5;124mCheck the error: \u001b[39m\u001b[38;5;132;01m{\u001b[39;00mFAILED_RUST_IMPORT\u001b[38;5;132;01m}\u001b[39;00m\u001b[38;5;124m\"\u001b[39m,\n\u001b[1;32m    217\u001b[0m         PostProcessingRustUnavailableWarning,\n\u001b[1;32m    218\u001b[0m     )\n\u001b[1;32m    219\u001b[0m     backend \u001b[38;5;241m=\u001b[39m \u001b[38;5;124m\"\u001b[39m\u001b[38;5;124mPython\u001b[39m\u001b[38;5;124m\"\u001b[39m\n\u001b[0;32m--> 221\u001b[0m \u001b[38;5;28;01mreturn\u001b[39;00m \u001b[43mentangled_entropy_core_2_pyrust\u001b[49m\u001b[43m(\u001b[49m\u001b[43mshots\u001b[49m\u001b[43m,\u001b[49m\u001b[43m \u001b[49m\u001b[43mcounts\u001b[49m\u001b[43m,\u001b[49m\u001b[43m \u001b[49m\u001b[43mselected_classical_registers\u001b[49m\u001b[43m,\u001b[49m\u001b[43m \u001b[49m\u001b[43mbackend\u001b[49m\u001b[43m)\u001b[49m\n",
      "File \u001b[0;32m~/opt/anaconda3/envs/quantumsphere11/lib/python3.11/site-packages/qurry/process/randomized_measure/entangled_entropy/entropy_core_2.py:119\u001b[0m, in \u001b[0;36mentangled_entropy_core_2_pyrust\u001b[0;34m(shots, counts, selected_classical_registers, backend)\u001b[0m\n\u001b[1;32m    116\u001b[0m cell_calculation \u001b[38;5;241m=\u001b[39m purity_cell_2_rust \u001b[38;5;28;01mif\u001b[39;00m backend \u001b[38;5;241m==\u001b[39m \u001b[38;5;124m\"\u001b[39m\u001b[38;5;124mRust\u001b[39m\u001b[38;5;124m\"\u001b[39m \u001b[38;5;28;01melse\u001b[39;00m purity_cell_2_py\n\u001b[1;32m    118\u001b[0m pool \u001b[38;5;241m=\u001b[39m ParallelManager(launch_worker)\n\u001b[0;32m--> 119\u001b[0m purity_cell_result_list \u001b[38;5;241m=\u001b[39m \u001b[43mpool\u001b[49m\u001b[38;5;241;43m.\u001b[39;49m\u001b[43mstarmap\u001b[49m\u001b[43m(\u001b[49m\n\u001b[1;32m    120\u001b[0m \u001b[43m    \u001b[49m\u001b[43mcell_calculation\u001b[49m\u001b[43m,\u001b[49m\n\u001b[1;32m    121\u001b[0m \u001b[43m    \u001b[49m\u001b[43m[\u001b[49m\u001b[43m(\u001b[49m\u001b[43mi\u001b[49m\u001b[43m,\u001b[49m\u001b[43m \u001b[49m\u001b[43mc\u001b[49m\u001b[43m,\u001b[49m\u001b[43m \u001b[49m\u001b[43mselected_classical_registers\u001b[49m\u001b[43m)\u001b[49m\u001b[43m \u001b[49m\u001b[38;5;28;43;01mfor\u001b[39;49;00m\u001b[43m \u001b[49m\u001b[43mi\u001b[49m\u001b[43m,\u001b[49m\u001b[43m \u001b[49m\u001b[43mc\u001b[49m\u001b[43m \u001b[49m\u001b[38;5;129;43;01min\u001b[39;49;00m\u001b[43m \u001b[49m\u001b[38;5;28;43menumerate\u001b[39;49m\u001b[43m(\u001b[49m\u001b[43mcounts\u001b[49m\u001b[43m)\u001b[49m\u001b[43m]\u001b[49m\u001b[43m,\u001b[49m\n\u001b[1;32m    122\u001b[0m \u001b[43m\u001b[49m\u001b[43m)\u001b[49m\n\u001b[1;32m    123\u001b[0m taken \u001b[38;5;241m=\u001b[39m \u001b[38;5;28mround\u001b[39m(time\u001b[38;5;241m.\u001b[39mtime() \u001b[38;5;241m-\u001b[39m begin, \u001b[38;5;241m3\u001b[39m)\n\u001b[1;32m    125\u001b[0m selected_classical_registers_sorted \u001b[38;5;241m=\u001b[39m \u001b[38;5;28msorted\u001b[39m(selected_classical_registers, reverse\u001b[38;5;241m=\u001b[39m\u001b[38;5;28;01mTrue\u001b[39;00m)\n",
      "File \u001b[0;32m~/opt/anaconda3/envs/quantumsphere11/lib/python3.11/site-packages/qurry/tools/parallelmanager.py:116\u001b[0m, in \u001b[0;36mParallelManager.starmap\u001b[0;34m(self, func, args_list)\u001b[0m\n\u001b[1;32m    113\u001b[0m     \u001b[38;5;28;01mreturn\u001b[39;00m \u001b[38;5;28mlist\u001b[39m(\u001b[38;5;28mmap\u001b[39m(func, \u001b[38;5;241m*\u001b[39m\u001b[38;5;28mzip\u001b[39m(\u001b[38;5;241m*\u001b[39margs_list)))\n\u001b[1;32m    115\u001b[0m \u001b[38;5;28;01mwith\u001b[39;00m Pool(processes\u001b[38;5;241m=\u001b[39m\u001b[38;5;28mself\u001b[39m\u001b[38;5;241m.\u001b[39mworkers_num, \u001b[38;5;241m*\u001b[39m\u001b[38;5;241m*\u001b[39m\u001b[38;5;28mself\u001b[39m\u001b[38;5;241m.\u001b[39mpool_kwargs) \u001b[38;5;28;01mas\u001b[39;00m pool:\n\u001b[0;32m--> 116\u001b[0m     \u001b[38;5;28;01mreturn\u001b[39;00m \u001b[43mpool\u001b[49m\u001b[38;5;241;43m.\u001b[39;49m\u001b[43mstarmap\u001b[49m\u001b[43m(\u001b[49m\u001b[43mfunc\u001b[49m\u001b[43m,\u001b[49m\u001b[43m \u001b[49m\u001b[43margs_list\u001b[49m\u001b[43m)\u001b[49m\n",
      "File \u001b[0;32m~/opt/anaconda3/envs/quantumsphere11/lib/python3.11/multiprocessing/pool.py:375\u001b[0m, in \u001b[0;36mPool.starmap\u001b[0;34m(self, func, iterable, chunksize)\u001b[0m\n\u001b[1;32m    369\u001b[0m \u001b[38;5;28;01mdef\u001b[39;00m \u001b[38;5;21mstarmap\u001b[39m(\u001b[38;5;28mself\u001b[39m, func, iterable, chunksize\u001b[38;5;241m=\u001b[39m\u001b[38;5;28;01mNone\u001b[39;00m):\n\u001b[1;32m    370\u001b[0m \u001b[38;5;250m    \u001b[39m\u001b[38;5;124;03m'''\u001b[39;00m\n\u001b[1;32m    371\u001b[0m \u001b[38;5;124;03m    Like `map()` method but the elements of the `iterable` are expected to\u001b[39;00m\n\u001b[1;32m    372\u001b[0m \u001b[38;5;124;03m    be iterables as well and will be unpacked as arguments. Hence\u001b[39;00m\n\u001b[1;32m    373\u001b[0m \u001b[38;5;124;03m    `func` and (a, b) becomes func(a, b).\u001b[39;00m\n\u001b[1;32m    374\u001b[0m \u001b[38;5;124;03m    '''\u001b[39;00m\n\u001b[0;32m--> 375\u001b[0m     \u001b[38;5;28;01mreturn\u001b[39;00m \u001b[38;5;28;43mself\u001b[39;49m\u001b[38;5;241;43m.\u001b[39;49m\u001b[43m_map_async\u001b[49m\u001b[43m(\u001b[49m\u001b[43mfunc\u001b[49m\u001b[43m,\u001b[49m\u001b[43m \u001b[49m\u001b[43miterable\u001b[49m\u001b[43m,\u001b[49m\u001b[43m \u001b[49m\u001b[43mstarmapstar\u001b[49m\u001b[43m,\u001b[49m\u001b[43m \u001b[49m\u001b[43mchunksize\u001b[49m\u001b[43m)\u001b[49m\u001b[38;5;241;43m.\u001b[39;49m\u001b[43mget\u001b[49m\u001b[43m(\u001b[49m\u001b[43m)\u001b[49m\n",
      "File \u001b[0;32m~/opt/anaconda3/envs/quantumsphere11/lib/python3.11/multiprocessing/pool.py:768\u001b[0m, in \u001b[0;36mApplyResult.get\u001b[0;34m(self, timeout)\u001b[0m\n\u001b[1;32m    767\u001b[0m \u001b[38;5;28;01mdef\u001b[39;00m \u001b[38;5;21mget\u001b[39m(\u001b[38;5;28mself\u001b[39m, timeout\u001b[38;5;241m=\u001b[39m\u001b[38;5;28;01mNone\u001b[39;00m):\n\u001b[0;32m--> 768\u001b[0m     \u001b[38;5;28;43mself\u001b[39;49m\u001b[38;5;241;43m.\u001b[39;49m\u001b[43mwait\u001b[49m\u001b[43m(\u001b[49m\u001b[43mtimeout\u001b[49m\u001b[43m)\u001b[49m\n\u001b[1;32m    769\u001b[0m     \u001b[38;5;28;01mif\u001b[39;00m \u001b[38;5;129;01mnot\u001b[39;00m \u001b[38;5;28mself\u001b[39m\u001b[38;5;241m.\u001b[39mready():\n\u001b[1;32m    770\u001b[0m         \u001b[38;5;28;01mraise\u001b[39;00m \u001b[38;5;167;01mTimeoutError\u001b[39;00m\n",
      "File \u001b[0;32m~/opt/anaconda3/envs/quantumsphere11/lib/python3.11/multiprocessing/pool.py:765\u001b[0m, in \u001b[0;36mApplyResult.wait\u001b[0;34m(self, timeout)\u001b[0m\n\u001b[1;32m    764\u001b[0m \u001b[38;5;28;01mdef\u001b[39;00m \u001b[38;5;21mwait\u001b[39m(\u001b[38;5;28mself\u001b[39m, timeout\u001b[38;5;241m=\u001b[39m\u001b[38;5;28;01mNone\u001b[39;00m):\n\u001b[0;32m--> 765\u001b[0m     \u001b[38;5;28;43mself\u001b[39;49m\u001b[38;5;241;43m.\u001b[39;49m\u001b[43m_event\u001b[49m\u001b[38;5;241;43m.\u001b[39;49m\u001b[43mwait\u001b[49m\u001b[43m(\u001b[49m\u001b[43mtimeout\u001b[49m\u001b[43m)\u001b[49m\n",
      "File \u001b[0;32m~/opt/anaconda3/envs/quantumsphere11/lib/python3.11/threading.py:622\u001b[0m, in \u001b[0;36mEvent.wait\u001b[0;34m(self, timeout)\u001b[0m\n\u001b[1;32m    620\u001b[0m signaled \u001b[38;5;241m=\u001b[39m \u001b[38;5;28mself\u001b[39m\u001b[38;5;241m.\u001b[39m_flag\n\u001b[1;32m    621\u001b[0m \u001b[38;5;28;01mif\u001b[39;00m \u001b[38;5;129;01mnot\u001b[39;00m signaled:\n\u001b[0;32m--> 622\u001b[0m     signaled \u001b[38;5;241m=\u001b[39m \u001b[38;5;28;43mself\u001b[39;49m\u001b[38;5;241;43m.\u001b[39;49m\u001b[43m_cond\u001b[49m\u001b[38;5;241;43m.\u001b[39;49m\u001b[43mwait\u001b[49m\u001b[43m(\u001b[49m\u001b[43mtimeout\u001b[49m\u001b[43m)\u001b[49m\n\u001b[1;32m    623\u001b[0m \u001b[38;5;28;01mreturn\u001b[39;00m signaled\n",
      "File \u001b[0;32m~/opt/anaconda3/envs/quantumsphere11/lib/python3.11/threading.py:320\u001b[0m, in \u001b[0;36mCondition.wait\u001b[0;34m(self, timeout)\u001b[0m\n\u001b[1;32m    318\u001b[0m \u001b[38;5;28;01mtry\u001b[39;00m:    \u001b[38;5;66;03m# restore state no matter what (e.g., KeyboardInterrupt)\u001b[39;00m\n\u001b[1;32m    319\u001b[0m     \u001b[38;5;28;01mif\u001b[39;00m timeout \u001b[38;5;129;01mis\u001b[39;00m \u001b[38;5;28;01mNone\u001b[39;00m:\n\u001b[0;32m--> 320\u001b[0m         \u001b[43mwaiter\u001b[49m\u001b[38;5;241;43m.\u001b[39;49m\u001b[43macquire\u001b[49m\u001b[43m(\u001b[49m\u001b[43m)\u001b[49m\n\u001b[1;32m    321\u001b[0m         gotit \u001b[38;5;241m=\u001b[39m \u001b[38;5;28;01mTrue\u001b[39;00m\n\u001b[1;32m    322\u001b[0m     \u001b[38;5;28;01melse\u001b[39;00m:\n",
      "\u001b[0;31mKeyboardInterrupt\u001b[0m: "
     ]
    }
   ],
   "source": [
    "from tqdm import tqdm\n",
    "\n",
    "\n",
    "all_counts_progress_01 = tqdm(\n",
    "    [\n",
    "        (4096, large_dummy_list, list(range(6))),\n",
    "        (4096, large_dummy_list, list(range(2, 8))),\n",
    "        (4096, large_dummy_list, list(range(7))),\n",
    "        (4096, large_dummy_list, list(range(0, 7))),\n",
    "        (4096, large_dummy_list, [0, 1, 2, 6, 7]),\n",
    "        (4096, large_dummy_list, [3, 4, 5, 6, 7, 0, 1]),\n",
    "    ],\n",
    "    bar_format=\"| {desc} - {elapsed} < {remaining}\",\n",
    ")\n",
    "\n",
    "test_result_1_2_3 = []\n",
    "for tmp_shot, tmp_counts, tmp_partition in all_counts_progress_01:\n",
    "    print(tmp_partition)\n",
    "    test_result_1_2_3.append(\n",
    "        randomized_entangled_entropy_mitigated(\n",
    "            tmp_shot,\n",
    "            tmp_counts,\n",
    "            tmp_partition,\n",
    "            existed_all_system=(\n",
    "                None\n",
    "                if len(test_result_1_2_3) == 0\n",
    "                else ExistedAllSystemInfo(\n",
    "                    source=\"from_previous_result:test_result_1_2_1\",\n",
    "                    purityAllSys=test_result_1_2_1[\"purityAllSys\"],\n",
    "                    entropyAllSys=test_result_1_2_1[\"entropyAllSys\"],\n",
    "                    puritySDAllSys=test_result_1_2_1[\"puritySDAllSys\"],\n",
    "                    entropySDAllSys=test_result_1_2_1[\"entropySDAllSys\"],\n",
    "                    purityCellsAllSys=test_result_1_2_1[\"purityCellsAllSys\"],\n",
    "                    num_classical_registers_all_sys=test_result_1_2_1[\n",
    "                        \"num_classical_registers_all_sys\"\n",
    "                    ],\n",
    "                    classical_registers_all_sys=test_result_1_2_1[\"classical_registers_all_sys\"],\n",
    "                    classical_registers_actually_all_sys=test_result_1_2_1[\n",
    "                        \"classical_registers_actually_all_sys\"\n",
    "                    ],\n",
    "                    taking_time_all_sys=test_result_1_2_1[\"taking_time_all_sys\"],\n",
    "                )\n",
    "            ),\n",
    "            pbar=all_counts_progress_01,\n",
    "        )\n",
    "    )\n",
    "    print(f\"| partition: {tmp_partition}\")\n",
    "    print(\"| - taking_time:\", test_result_1_2_3[-1][\"taking_time\"])\n",
    "    print(\"| - taking_time_all_sys:\", test_result_1_2_3[-1][\"taking_time_all_sys\"])"
   ]
  },
  {
   "cell_type": "markdown",
   "metadata": {},
   "source": [
    "---\n",
    "\n",
    "#### Using Python backend\n",
    "\n",
    "It will be slow. Yoy better think twice before using it.\n"
   ]
  },
  {
   "cell_type": "code",
   "execution_count": 7,
   "metadata": {},
   "outputs": [
    {
     "name": "stderr",
     "output_type": "stream",
     "text": [
      "| Calculate selected classical registers: [0, 1, 2, 3, 4, 5]. - 00:00 < ?"
     ]
    },
    {
     "name": "stdout",
     "output_type": "stream",
     "text": [
      "[0, 1, 2, 3, 4, 5]\n"
     ]
    },
    {
     "name": "stderr",
     "output_type": "stream",
     "text": [
      "| Calculate selected classical registers: [2, 3, 4, 5, 6, 7]. - 00:00 < 00:01        "
     ]
    },
    {
     "name": "stdout",
     "output_type": "stream",
     "text": [
      "[2, 3, 4, 5, 6, 7]\n"
     ]
    },
    {
     "name": "stderr",
     "output_type": "stream",
     "text": [
      "| Calculate selected classical registers: [0, 1, 2, 3, 4, 5, 6]. - 00:00 < 00:00         "
     ]
    },
    {
     "name": "stdout",
     "output_type": "stream",
     "text": [
      "[0, 1, 2, 3, 4, 5, 6]\n"
     ]
    },
    {
     "name": "stderr",
     "output_type": "stream",
     "text": [
      "| Calculate selected classical registers: [0, 1, 2, 3, 4, 5, 6]. - 00:01 < 00:01         "
     ]
    },
    {
     "name": "stdout",
     "output_type": "stream",
     "text": [
      "[0, 1, 2, 3, 4, 5, 6]\n"
     ]
    },
    {
     "name": "stderr",
     "output_type": "stream",
     "text": [
      "| Calculate selected classical registers: [0, 1, 2, 6, 7]. - 00:01 < 00:01               "
     ]
    },
    {
     "name": "stdout",
     "output_type": "stream",
     "text": [
      "[0, 1, 2, 6, 7]\n"
     ]
    },
    {
     "name": "stderr",
     "output_type": "stream",
     "text": [
      "| Calculate selected classical registers: [3, 4, 5, 6, 7, 0, 1]. - 00:01 < 00:00         "
     ]
    },
    {
     "name": "stdout",
     "output_type": "stream",
     "text": [
      "[3, 4, 5, 6, 7, 0, 1]\n"
     ]
    },
    {
     "name": "stderr",
     "output_type": "stream",
     "text": [
      "| Preparing error mitigation of selected qubits: [7, 6, 5, 4, 3, 1, 0] - 00:03 < 00:00   \n"
     ]
    }
   ],
   "source": [
    "all_counts_progress_02 = tqdm(\n",
    "    [\n",
    "        (4096, large_dummy_list, list(range(6))),\n",
    "        (4096, large_dummy_list, list(range(2, 8))),\n",
    "        (4096, large_dummy_list, list(range(7))),\n",
    "        (4096, large_dummy_list, list(range(0, 7))),\n",
    "        (4096, large_dummy_list, [0, 1, 2, 6, 7]),\n",
    "        (4096, large_dummy_list, [3, 4, 5, 6, 7, 0, 1]),\n",
    "    ],\n",
    "    bar_format=\"| {desc} - {elapsed} < {remaining}\",\n",
    ")\n",
    "\n",
    "\n",
    "test_result_1_2_4 = []\n",
    "for tmp_shot, tmp_counts, tmp_partition in all_counts_progress_02:\n",
    "    print(tmp_partition)\n",
    "    test_result_1_2_4.append(\n",
    "        randomized_entangled_entropy_mitigated(\n",
    "            tmp_shot,\n",
    "            tmp_counts,\n",
    "            tmp_partition,\n",
    "            existed_all_system=(\n",
    "                None\n",
    "                if len(test_result_1_2_3) == 0\n",
    "                else ExistedAllSystemInfo(\n",
    "                    source=\"from_previous_result:test_result_1_2_1\",\n",
    "                    purityAllSys=test_result_1_2_1[\"purityAllSys\"],\n",
    "                    entropyAllSys=test_result_1_2_1[\"entropyAllSys\"],\n",
    "                    puritySDAllSys=test_result_1_2_1[\"puritySDAllSys\"],\n",
    "                    entropySDAllSys=test_result_1_2_1[\"entropySDAllSys\"],\n",
    "                    purityCellsAllSys=test_result_1_2_1[\"purityCellsAllSys\"],\n",
    "                    num_classical_registers_all_sys=test_result_1_2_1[\n",
    "                        \"num_classical_registers_all_sys\"\n",
    "                    ],\n",
    "                    classical_registers_all_sys=test_result_1_2_1[\"classical_registers_all_sys\"],\n",
    "                    classical_registers_actually_all_sys=test_result_1_2_1[\n",
    "                        \"classical_registers_actually_all_sys\"\n",
    "                    ],\n",
    "                    taking_time_all_sys=test_result_1_2_1[\"taking_time_all_sys\"],\n",
    "                )\n",
    "            ),\n",
    "            pbar=all_counts_progress_02,\n",
    "            backend=\"Python\",\n",
    "        )\n",
    "    )"
   ]
  },
  {
   "cell_type": "markdown",
   "metadata": {},
   "source": [
    "---\n",
    "\n",
    "### Post-Process Availablities and Version Info\n",
    "\n"
   ]
  },
  {
   "cell_type": "code",
   "execution_count": 8,
   "metadata": {},
   "outputs": [
    {
     "data": {
      "text/plain": [
       " | Qurry version: 0.9.2.dev1\n",
       "--------------------------------------------------------\n",
       " ### Qurry Post-Processing\n",
       "   - Backend Availability ................... Python Cython Rust  \n",
       " - randomized_measure\n",
       "   - entangled_entropy.entropy_core_2 ....... Yes    Depr.  Yes   \n",
       "   - entangle_entropy.purity_cell_2 ......... Yes    Depr.  Yes   \n",
       "   - wavefunction_overlap ................... Yes    Depr.  Yes   \n",
       "   - echo_cell .............................. Yes    Depr.  Error \n",
       " - utils\n",
       "   - randomized ............................. Yes    Depr.  Yes   \n",
       "   - construct .............................. Yes    No     Yes   \n",
       "   - dummy .................................. Yes    No     Yes   \n",
       " - hadamard_test\n",
       "   - purity_echo_core ....................... Yes    No     Yes   \n",
       " - magnet_square\n",
       "   - magnsq_core ............................ Yes    No     No    \n",
       "--------------------------------------------------------\n",
       "   + Yes ...... Working normally.\n",
       "   + Error .... Exception occurred.\n",
       "   + No ....... Not supported.\n",
       "   + Depr. .... Deprecated.\n",
       "--------------------------------------------------------\n",
       "by <Hoshi>"
      ]
     },
     "execution_count": 8,
     "metadata": {},
     "output_type": "execute_result"
    }
   ],
   "source": [
    "from qurry.process.status import AVAIBILITY_STATESHEET\n",
    "\n",
    "AVAIBILITY_STATESHEET"
   ]
  },
  {
   "cell_type": "code",
   "execution_count": null,
   "metadata": {},
   "outputs": [],
   "source": []
  }
 ],
 "metadata": {
  "kernelspec": {
   "display_name": "quantumsphere12",
   "language": "python",
   "name": "python3"
  },
  "language_info": {
   "codemirror_mode": {
    "name": "ipython",
    "version": 3
   },
   "file_extension": ".py",
   "mimetype": "text/x-python",
   "name": "python",
   "nbconvert_exporter": "python",
   "pygments_lexer": "ipython3",
   "version": "3.11.4"
  }
 },
 "nbformat": 4,
 "nbformat_minor": 4
}